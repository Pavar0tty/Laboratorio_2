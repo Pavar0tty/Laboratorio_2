{
 "cells": [
  {
   "cell_type": "code",
   "execution_count": null,
   "metadata": {},
   "outputs": [],
   "source": [
    "import numpy as np\n",
    "import pandas as pd\n",
    "import matplotlib.pyplot as plt\n",
    "\n",
    "import sys\n",
    "sys.path.insert(1, '../Config')\n",
    "from lablib import *"
   ]
  },
  {
   "cell_type": "markdown",
   "metadata": {},
   "source": [
    "# Funzioni utili"
   ]
  },
  {
   "cell_type": "code",
   "execution_count": null,
   "metadata": {},
   "outputs": [],
   "source": [
    "def dms_to_dd(d, m, s):\n",
    "    dd = d + float(m)/60 + float(s)/3600\n",
    "    return dd\n",
    "\n",
    "def Minima_dev_prisma(deg, alfa, deg_err, alfa_err):\n",
    "    '''\n",
    "    Calcola n dato l'angolo di incidenza e l'angolo di deviazione, e calcola l'errore\n",
    "    '''\n",
    "    x = np.sin(np.radians(deg + alfa)/2) / np.sin(np.radians(alfa/2))\n",
    "\n",
    "    rad = np.radians(deg)\n",
    "    alfa_rad = np.radians(alfa)\n",
    "    rad_err = np.radians(deg_err)\n",
    "    alfa_rad_err = np.radians(alfa_err)\n",
    "\n",
    "    y = (np.sqrt((np.sin(alfa_rad/2)*np.cos((alfa_rad+rad)/2)*rad_err)**2+(np.sin(rad/2)*alfa_rad_err)**2))/np.abs(np.cos(alfa_rad)-1)\n",
    "    \n",
    "    return x, y\n",
    "\n",
    "def Cauchy_ignoto(n, a, b, n_err, a_err, b_err, cov_ab):\n",
    "    '''\n",
    "    Calcola il valore di lambda e il suo errore\n",
    "    '''\n",
    "    x = np.sqrt(b/(n-a))\n",
    "    y = np.sqrt(b*(a_err/(2*(n-a)))**2 + (b_err/2)**2/b + b*(n_err/(2*(n-a)))**2 + cov_ab/2)/(np.sqrt(n-a))\n",
    "\n",
    "    return x, y\n",
    "\n",
    "def Cauchy(x, a, b):\n",
    "    return a + (b) / (x**2)"
   ]
  },
  {
   "cell_type": "markdown",
   "metadata": {},
   "source": [
    "# CARATTERIZZAZIONE DEL PRISMA"
   ]
  },
  {
   "cell_type": "markdown",
   "metadata": {},
   "source": [
    "## Mercurio\n",
    "Incertezza/scala ver = 1' \\\n",
    "primo angolo riflesso = 285° 11' \\\n",
    "secondo angolo riflesso = 166° 6' \\\n",
    "alfa = 60 °"
   ]
  },
  {
   "cell_type": "code",
   "execution_count": null,
   "metadata": {},
   "outputs": [],
   "source": [
    "# #import dati dal file PrismaAngoloMinimo\n",
    "\n",
    "# angolo_minimo_prisma = pd.read_excel(\"PrismaAngoloMinimo.xlsx\")\n",
    "\n",
    "# deg_giallo_prisma_list = angolo_minimo_prisma[\"gradi giallo\"]\n",
    "# primi_giallo_prisma_list = angolo_minimo_prisma[\"primi giallo\"]\n",
    "# deg_ciano_prisma_list = angolo_minimo_prisma[\"gradi ciano\"]\n",
    "# primi_ciano_prisma_list = angolo_minimo_prisma[\"primi ciano\"]\n",
    "# deg_blu_prisma_list = angolo_minimo_prisma[\"gradi blu\"]\n",
    "# primi_blu_prisma_list = angolo_minimo_prisma[\"primi blu\"]\n",
    "# deg_viola_prisma_list = angolo_minimo_prisma[\"gradi viola\"]\n",
    "# primi_viola_prisma_list = angolo_minimo_prisma[\"primi viola\"]\n",
    "\n",
    "# #Calcolo media e errore standard media\n",
    "# deg_giallo_prisma = np.mean(deg_giallo_prisma_list)\n",
    "# primi_giallo_prisma = np.mean(primi_giallo_prisma_list)\n",
    "# deg_ciano_prisma = np.mean(deg_ciano_prisma_list)\n",
    "# primi_ciano_prisma = np.mean(primi_ciano_prisma_list)\n",
    "# deg_blu_prisma = np.mean(deg_blu_prisma_list)\n",
    "# primi_blu_prisma = np.mean(primi_blu_prisma_list)\n",
    "# deg_viola_prisma = np.mean(deg_viola_prisma_list)\n",
    "# primi_viola_prisma = np.mean(primi_viola_prisma_list)\n",
    "\n",
    "# #Calcolo le misure in gradi decimali\n",
    "# deg_giallo_prisma = dms_to_dd(deg_giallo_prisma, primi_giallo_prisma, 0)\n",
    "# deg_ciano_prisma = dms_to_dd(deg_ciano_prisma, primi_ciano_prisma, 0)\n",
    "# deg_blu_prisma = dms_to_dd(deg_blu_prisma, primi_blu_prisma, 0)\n",
    "# deg_viola_prisma = dms_to_dd(deg_viola_prisma, primi_viola_prisma, 0)\n",
    "\n",
    "# #Errore sulle misure in gradi (è dovuto solo all'errore sui primi)\n",
    "# err_giallo_prisma = np.std(primi_giallo_prisma_list, ddof=1)/np.sqrt(len(primi_giallo_prisma_list))\n",
    "# err_ciano_prisma = np.std(primi_ciano_prisma_list, ddof=1)/np.sqrt(len(primi_ciano_prisma_list))\n",
    "# err_blu_prisma = np.std(primi_blu_prisma_list, ddof=1)/np.sqrt(len(primi_blu_prisma_list))\n",
    "# err_viola_prisma = np.std(primi_viola_prisma_list, ddof=1)/np.sqrt(len(primi_viola_prisma_list))"
   ]
  },
  {
   "cell_type": "code",
   "execution_count": null,
   "metadata": {},
   "outputs": [],
   "source": [
    "# deg_giallo_decimal_list = [dms_to_dd(i, j, 0) for i, j in zip(deg_giallo_prisma_list, primi_giallo_prisma_list)]\n",
    "# print(deg_giallo_decimal_list)\n",
    "\n",
    "# deg_giallo_decimal = np.mean(deg_giallo_decimal_list)\n",
    "# print(deg_giallo_decimal)\n",
    "# err_giallo_corrected = np.std(deg_giallo_decimal_list, ddof=1)/np.sqrt(len(deg_giallo_decimal_list))\n",
    "# print(err_giallo_corrected)"
   ]
  },
  {
   "cell_type": "code",
   "execution_count": null,
   "metadata": {},
   "outputs": [],
   "source": [
    "# #Calcolo di n per le varie lunghezze d'onda\n",
    "# #Minima_dev_prisma calcola n trasponendo le misure in radianti\n",
    "\n",
    "# alfa = 60\n",
    "\n",
    "# n_giallo_prisma = Minima_dev_prisma(deg_giallo_prisma, alfa)\n",
    "# n_ciano_prisma = Minima_dev_prisma(deg_ciano_prisma, alfa)\n",
    "# n_blu_prisma = Minima_dev_prisma(deg_blu_prisma, alfa)\n",
    "# n_viola_prisma = Minima_dev_prisma(deg_viola_prisma, alfa)\n",
    "\n",
    "# err_n_giallo_prisma = Minima_dev_prisma_err(deg_giallo_prisma, alfa, err_giallo_prisma, 0)\n",
    "# err_n_ciano_prisma = Minima_dev_prisma_err(deg_ciano_prisma, alfa, err_ciano_prisma, 0)\n",
    "# err_n_blu_prisma = Minima_dev_prisma_err(deg_blu_prisma, alfa, err_blu_prisma, 0)\n",
    "# err_n_viola_prisma = Minima_dev_prisma_err(deg_viola_prisma, alfa, err_viola_prisma, 0)\n",
    "\n",
    "# print(f\"Indice di rifrazione per il giallo: {n_giallo_prisma:.4g} ± {err_n_giallo_prisma:.1g}\")\n",
    "# print(f\"Indice di rifrazione per il ciano: {n_ciano_prisma:.4g} ± {err_n_ciano_prisma:.1g}\")\n",
    "# print(f\"Indice di rifrazione per il blu: {n_blu_prisma:.4g} ± {err_n_blu_prisma:.1g}\")\n",
    "# print(f\"Indice di rifrazione per il viola: {n_viola_prisma:.4g} ± {err_n_viola_prisma:.1g}\")"
   ]
  },
  {
   "cell_type": "code",
   "execution_count": null,
   "metadata": {},
   "outputs": [],
   "source": [
    "# #Interpolazione di lambda e n ottenuti con la formula di Cauchy\n",
    "# lambda_giallo = 579.0663*10**(-9)\n",
    "# lambda_ciano = 435.8328*10**(-9)\n",
    "# lambda_blu = 404.6563*10**(-9)\n",
    "# lambda_viola = 365.0153*10**(-9)\n",
    "\n",
    "# lambda_ = [lambda_giallo, lambda_ciano, lambda_blu, lambda_viola]\n",
    "# n_ = [n_giallo_prisma, n_ciano_prisma, n_blu_prisma, n_viola_prisma]\n",
    "# err_n = [err_n_giallo_prisma, err_n_ciano_prisma, err_n_blu_prisma, err_n_viola_prisma]\n",
    "\n",
    "# pars1, vals1, ers1, *other1 = LS_fit(lambda_, n_, err_n, Cauchy, a = 1, b = 1)"
   ]
  },
  {
   "cell_type": "code",
   "execution_count": null,
   "metadata": {},
   "outputs": [],
   "source": [
    "# #Plot dei punti sperimentali e della curva interpolante\n",
    "# plt.errorbar(lambda_, n_, yerr=err_n, fmt='o', label=\"Punti sperimentali\")\n",
    "# x = np.linspace(lambda_viola,lambda_giallo,  1000)\n",
    "# y = Cauchy(x, *vals1)\n",
    "# plt.plot(x, y, label=\"Interpolazione Cauchy\")\n",
    "# plt.xlabel(\"$\\lambda$ [nm]\")\n",
    "# plt.ylabel(\"n\")\n",
    "# plt.legend()\n",
    "# plt.grid()\n",
    "# plt.show()"
   ]
  },
  {
   "cell_type": "code",
   "execution_count": null,
   "metadata": {},
   "outputs": [],
   "source": [
    "angolo_minimo_prisma = pd.read_excel(\"PrismaAngoloMinimo.xlsx\")\n",
    "\n",
    "# lista dei colori\n",
    "colori_1 = [\"giallo\", \"ciano\", \"blu\", \"viola\"]\n",
    "\n",
    "# matrici delle misure - colonna ciano modificata(9)\n",
    "deg_mat_prisma = angolo_minimo_prisma.iloc[:, [0, 2, 4, 6]].values.T\n",
    "primi_mat_prisma = angolo_minimo_prisma.iloc[:, [1, 9, 5, 7]].values.T\n",
    "\n",
    "# calcolo delle medie e degli errori\n",
    "deg_prisma = []\n",
    "err_prisma = []\n",
    "for i in range(4):\n",
    "    deg = []\n",
    "    for j in range(len(deg_mat_prisma[i])):\n",
    "        deg.append(dms_to_dd(deg_mat_prisma[i][j], primi_mat_prisma[i][j], 0))\n",
    "    deg_prisma.append(np.mean(deg))\n",
    "    err_prisma.append(np.std(deg)/np.sqrt(len(deg)))\n",
    "\n",
    "for i in range(len(colori_1)):\n",
    "    print(f\"Angolo minimo per il {colori_1[i]}: {deg_prisma[i]:.4g} ± {err_prisma[i]:.1g}\")"
   ]
  },
  {
   "cell_type": "markdown",
   "metadata": {},
   "source": [
    "Penso che le misure dei primi siano sbagliate...\\\n",
    "Per correggere dovrebbe bastare aggiungere 30 primi a ciano \\\n",
    "L'ho implementato nel codice aggiungendo una colonna, per usare i valori originali mettere 3 al posto di 9"
   ]
  },
  {
   "cell_type": "code",
   "execution_count": null,
   "metadata": {},
   "outputs": [],
   "source": [
    "# interpolazione di Cauchy\n",
    "\n",
    "alfa = 60\n",
    "lambda_note = [579.0663e-9, 435.8328e-9, 404.6563e-9, 365.0153e-9]\n",
    "\n",
    "n_prisma, n_prisma_err = zip(*[Minima_dev_prisma(deg_prisma[i], alfa, err_prisma[i], 0) for i in range(4)])\n",
    "\n",
    "pars1, vals1, ers1, *other1 = LS_fit(lambda_note, n_prisma, n_prisma_err, Cauchy, a = 1, b = 1)\n",
    "cov1 = other1[-1][0][1] # covarianza tra a e b"
   ]
  },
  {
   "cell_type": "markdown",
   "metadata": {},
   "source": [
    "## Gas ignoto\n",
    "Sottrarre angoli di 180° "
   ]
  },
  {
   "cell_type": "code",
   "execution_count": null,
   "metadata": {},
   "outputs": [],
   "source": [
    "# #Import dei dati dal file GasIgnoto.xlsx\n",
    "\n",
    "# gas_ingnoto = pd.read_excel(\"GasIgnoto.xlsx\")\n",
    "\n",
    "# deg_rosso_gas_prisma_list = gas_ingnoto[\"gradi rosso\"] - 180\n",
    "# primi_rosso_gas_prisma_list = gas_ingnoto[\"primi rosso\"]\n",
    "# deg_giallo_gas_prisma_list = gas_ingnoto[\"gradi giallo\"] -180\n",
    "# primi_giallo_gas_prisma_list = gas_ingnoto[\"primi giallo\"]\n",
    "# deg_verde_gas_prisma_list = gas_ingnoto[\"gradi verde\"] -180\n",
    "# primi_verde_gas_prisma_list = gas_ingnoto[\"primi verde\"]\n",
    "# deg_viola_gas_prisma_list = gas_ingnoto[\"gradi viola\"] -180\n",
    "# primi_viola_gas_prisma_list = gas_ingnoto[\"primi viola\"]\n",
    "\n",
    "# #Calcolo media e errore standard media\n",
    "# deg_rosso_gas_prisma = np.mean(deg_rosso_gas_prisma_list)\n",
    "# primi_rosso_gas_prisma = np.mean(primi_rosso_gas_prisma_list)\n",
    "# deg_giallo_gas_prisma = np.mean(deg_giallo_gas_prisma_list)\n",
    "# primi_giallo_gas_prisma = np.mean(primi_giallo_gas_prisma_list)\n",
    "# deg_verde_gas_prisma = np.mean(deg_verde_gas_prisma_list)\n",
    "# primi_verde_gas_prisma = np.mean(primi_verde_gas_prisma_list)\n",
    "# deg_viola_gas_prisma = np.mean(deg_viola_gas_prisma_list)\n",
    "# primi_viola_gas_prisma = np.mean(primi_viola_gas_prisma_list)\n",
    "\n",
    "# #Errore sulle misure in gradi (è dovuto solo all'errore sui primi)\n",
    "# err_rosso_gas_prisma = np.std(primi_rosso_gas_prisma_list, ddof=1)/np.sqrt(len(primi_rosso_gas_prisma_list))\n",
    "# err_giallo_gas_prisma = np.std(primi_giallo_gas_prisma_list, ddof=1)/np.sqrt(len(primi_giallo_gas_prisma_list))\n",
    "# err_verde_gas_prisma = np.std(primi_verde_gas_prisma_list, ddof=1)/np.sqrt(len(primi_verde_gas_prisma_list))\n",
    "# err_viola_gas_prisma = np.std(primi_viola_gas_prisma_list, ddof=1)/np.sqrt(len(primi_viola_gas_prisma_list))\n",
    "\n",
    "# #Calcolo le misure in gradi decimali\n",
    "# deg_rosso_gas_prisma = dms_to_dd(deg_rosso_gas_prisma, primi_rosso_gas_prisma, 0)\n",
    "# deg_giallo_gas_prisma = dms_to_dd(deg_giallo_gas_prisma, primi_giallo_gas_prisma, 0)\n",
    "# deg_verde_gas_prisma = dms_to_dd(deg_verde_gas_prisma, primi_verde_gas_prisma, 0)\n",
    "# deg_viola_gas_prisma = dms_to_dd(deg_viola_gas_prisma, primi_viola_gas_prisma, 0)"
   ]
  },
  {
   "cell_type": "code",
   "execution_count": null,
   "metadata": {},
   "outputs": [],
   "source": [
    "# #calcolo di n per le varie lunghezze d'onda\n",
    "# #Minima_dev_prisma calcola n trasponendo le misure in radianti\n",
    "\n",
    "# alfa = 60\n",
    "\n",
    "# n_rosso_gas_prisma = Minima_dev_prisma(deg_rosso_gas_prisma, alfa)\n",
    "# n_giallo_gas_prisma = Minima_dev_prisma(deg_giallo_gas_prisma, alfa)\n",
    "# n_verde_gas_prisma = Minima_dev_prisma(deg_verde_gas_prisma, alfa)\n",
    "# n_viola_gas_prisma = Minima_dev_prisma(deg_viola_gas_prisma, alfa)\n",
    "\n",
    "# err_n_rosso_gas_prisma = Minima_dev_prisma_err(deg_rosso_gas_prisma, alfa, err_rosso_gas_prisma, 0)\n",
    "# err_n_giallo_gas_prisma = Minima_dev_prisma_err(deg_giallo_gas_prisma, alfa, err_giallo_gas_prisma, 0)\n",
    "# err_n_verde_gas_prisma = Minima_dev_prisma_err(deg_verde_gas_prisma, alfa, err_verde_gas_prisma, 0)\n",
    "# err_n_viola_gas_prisma = Minima_dev_prisma_err(deg_viola_gas_prisma, alfa, err_viola_gas_prisma, 0)\n",
    "\n",
    "# #calcolo di lambda per il gas ignoto\n",
    "# lambda_rosso = Cauchy_ignoto(n_rosso_gas_prisma, *vals1)\n",
    "# lambda_giallo = Cauchy_ignoto(n_giallo_gas_prisma, *vals1)\n",
    "# lambda_verde = Cauchy_ignoto(n_verde_gas_prisma, *vals1)\n",
    "# lambda_viola = Cauchy_ignoto(n_viola_gas_prisma, *vals1)\n",
    "\n",
    "# #other1[3] contiene la matrice di covarianza, aggiungendo [0][1] è la covarianza tra a e b\n",
    "# err_lambda_rosso = Cauchy_ignoto_err(n_rosso_gas_prisma, *vals1, err_n_rosso_gas_prisma, *ers1, other1[3][0][1])\n",
    "# err_lambda_giallo = Cauchy_ignoto_err(n_giallo_gas_prisma, *vals1, err_n_giallo_gas_prisma, *ers1, other1[3][0][1])\n",
    "# err_lambda_verde = Cauchy_ignoto_err(n_verde_gas_prisma, *vals1, err_n_verde_gas_prisma, *ers1, other1[3][0][1])\n",
    "# err_lambda_viola = Cauchy_ignoto_err(n_viola_gas_prisma, *vals1, err_n_viola_gas_prisma, *ers1, other1[3][0][1])\n",
    "\n",
    "# #stampa dei risultati\n",
    "# print(f\"Indice di rifrazione per il rosso: {n_rosso_gas_prisma:.4g} ± {err_n_rosso_gas_prisma:.1g}\")\n",
    "# print(f\"Indice di rifrazione per il giallo: {n_giallo_gas_prisma:.4g} ± {err_n_giallo_gas_prisma:.1g}\")\n",
    "# print(f\"Indice di rifrazione per il verde: {n_verde_gas_prisma:.4g} ± {err_n_verde_gas_prisma:.1g}\")\n",
    "# print(f\"Indice di rifrazione per il viola: {n_viola_gas_prisma:.4g} ± {err_n_viola_gas_prisma:.1g}\")\n",
    "\n",
    "# print(f\"Lambda per il rosso: {lambda_rosso*10**9:.1f} ± {err_lambda_rosso*10**9:.1f} nm\")\n",
    "# print(f\"Lambda per il giallo: {lambda_giallo*10**9:.1f} ± {err_lambda_giallo*10**9:.1f} nm\")\n",
    "# print(f\"Lambda per il verde: {lambda_verde*10**9:.1f} ± {err_lambda_verde*10**9:.1f} nm\")\n",
    "# print(f\"Lambda per il viola: {lambda_viola*10**9:.1f} ± {err_lambda_viola*10**9:.1f} nm\")"
   ]
  },
  {
   "cell_type": "code",
   "execution_count": null,
   "metadata": {},
   "outputs": [],
   "source": [
    "gas_ignoto = pd.read_excel(\"GasIgnoto.xlsx\")\n",
    "\n",
    "colori_2 = [\"rosso\", \"giallo\", \"verde\", \"viola\"]\n",
    "\n",
    "deg_mat_ignoto = gas_ignoto.iloc[:, [9, 2, 11, 6]].values.T - 180    #Cambiato colonna 0 e 4 in 9 e 11\n",
    "primi_mat_ignoto = gas_ignoto.iloc[:, [10, 3, 12, 7]].values.T #Cambiato colonna 1 e 5 in 10 e 12\n",
    "\n",
    "deg_ignoto = []\n",
    "err_ignoto = []\n",
    "for i in range(4):\n",
    "    deg = []\n",
    "    for j in range(len(deg_mat_ignoto[i])):\n",
    "        deg.append(dms_to_dd(deg_mat_ignoto[i][j], primi_mat_ignoto[i][j], 0))\n",
    "    deg_ignoto.append(np.mean(deg))\n",
    "    err_ignoto.append(np.std(deg)/np.sqrt(len(deg)))"
   ]
  },
  {
   "cell_type": "code",
   "execution_count": null,
   "metadata": {},
   "outputs": [],
   "source": [
    "# calcolo di lambda per il gas ignoto\n",
    "\n",
    "n_prisma_ignoto, n_prisma_ignoto_err = zip(*[Minima_dev_prisma(deg_ignoto[i], alfa, err_ignoto[i], 0) for i in range(4)])\n",
    "\n",
    "lambda_ignoto, lambda_ignoto_err = zip(*[Cauchy_ignoto(n_prisma_ignoto[i], *vals1, n_prisma_ignoto_err[i], *ers1, cov1) for i in range(4)])\n",
    "\n",
    "for i in range(4):\n",
    "    print(f\"n per il {colori_2[i]}: {n_prisma_ignoto[i]:.4g} ± {n_prisma_ignoto_err[i]:.1g}\")\n",
    "\n",
    "for i in range(4):\n",
    "    print(f\"Lambda per il {colori_2[i]}: {lambda_ignoto[i]} ± {lambda_ignoto_err[i]:.1g} nm\")"
   ]
  },
  {
   "cell_type": "markdown",
   "metadata": {},
   "source": [
    "I conti tornano ma perchè ho sottratto 30 primi a rosso e verde. I valori di lambda per rosso e verde non stavano nel colore corretto, per questo ho sottratto 30 primi. \\\n",
    "Facendo un'analisi con questi lambda, sembrerebbe che sia Neon"
   ]
  },
  {
   "cell_type": "markdown",
   "metadata": {},
   "source": [
    "# RETICOLO"
   ]
  },
  {
   "cell_type": "markdown",
   "metadata": {},
   "source": [
    "## Doppietto sodio\n",
    "Misurata una sola riga (spettro del sodio), quella più vicina al centro \\\n",
    "300 linee al millimetro \\\n",
    "Per quanto riguarda l'allineamento, sul file excel ci sono 2 set di misure:\n",
    "* il primo e' misurato con il reticolo non perpendicolare, ma settato per minimizzare la differenza di angolo (anche se poi abbiamo scoperto essere sbagliato comunque)\n",
    "* il secondo e' misurato con il reticolo piu' perpendicolare possibile"
   ]
  }
 ],
 "metadata": {
  "kernelspec": {
   "display_name": "Python 3",
   "language": "python",
   "name": "python3"
  },
  "language_info": {
   "codemirror_mode": {
    "name": "ipython",
    "version": 3
   },
   "file_extension": ".py",
   "mimetype": "text/x-python",
   "name": "python",
   "nbconvert_exporter": "python",
   "pygments_lexer": "ipython3",
   "version": "3.11.1"
  }
 },
 "nbformat": 4,
 "nbformat_minor": 2
}
