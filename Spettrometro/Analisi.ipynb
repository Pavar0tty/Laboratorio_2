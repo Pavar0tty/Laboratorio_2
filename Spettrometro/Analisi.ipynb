{
 "cells": [
  {
   "cell_type": "code",
   "execution_count": null,
   "metadata": {},
   "outputs": [],
   "source": [
    "import numpy as np\n",
    "import pandas as pd\n",
    "import matplotlib.pyplot as plt\n",
    "\n",
    "import sys\n",
    "sys.path.insert(1, '../Config')\n",
    "from lablib import *"
   ]
  },
  {
   "cell_type": "markdown",
   "metadata": {},
   "source": [
    "# Funzioni utili"
   ]
  },
  {
   "cell_type": "code",
   "execution_count": null,
   "metadata": {},
   "outputs": [],
   "source": [
    "def dms_to_dd(d, m, s):\n",
    "    dd = d + float(m)/60 + float(s)/3600\n",
    "    return dd\n",
    "\n",
    "def minima_dev_prisma(deg, alfa):\n",
    "    '''\n",
    "    Calcola n dato l'angolo di incidenza e l'angolo di deviazione\n",
    "    '''\n",
    "    return np.sin(np.radians(deg + alfa)/2) / np.sin(np.radians(alfa/2))\n",
    "\n",
    "def minima_dev_prisma_err(deg, alfa, deg_err, alfa_err):\n",
    "    rad = np.radians(deg)\n",
    "    alfa_rad = np.radians(alfa)\n",
    "    rad_err = np.radians(deg_err)\n",
    "    alfa_rad_err = np.radians(alfa_err)\n",
    "    \n",
    "    return (np.sqrt((np.sin(alfa_rad/2)*np.cos((alfa_rad+rad)/2)*rad_err)**2+(np.sin(rad/2)*alfa_rad_err)**2))/np.abs(np.cos(alfa_rad)-1) \n",
    "\n",
    "def cauchy(x, a, b):\n",
    "    return a + (b) / (x**2)\n",
    "\n",
    "def cauchy_ignoto(n, a, b):\n",
    "    return np.sqrt(b/(n-a))\n",
    "\n",
    "def cauchy_ignoto_err(n, a, b, n_err, a_err, b_err, cov_ab):\n",
    "    return np.sqrt(b*(a_err/(2*(n-a)))**2 + (b_err/2)**2/b + b*(n_err/(2*(n-a)))**2 + cov_ab/2)/(np.sqrt(n-a))"
   ]
  },
  {
   "cell_type": "markdown",
   "metadata": {},
   "source": [
    "# CARATTERIZZAZIONE DEL PRISMA"
   ]
  },
  {
   "cell_type": "markdown",
   "metadata": {},
   "source": [
    "## Mercurio\n",
    "Incertezza/scala ver = 1' \\\n",
    "primo angolo riflesso = 285° 11' \\\n",
    "secondo angolo riflesso = 166° 6' \\\n",
    "alfa = 60 °"
   ]
  },
  {
   "cell_type": "code",
   "execution_count": null,
   "metadata": {},
   "outputs": [],
   "source": [
    "#import dati dal file PrismaAngoloMinimo\n",
    "\n",
    "angolo_minimo_prisma = pd.read_excel(\"PrismaAngoloMinimo.xlsx\")\n",
    "\n",
    "deg_giallo_prisma_list = angolo_minimo_prisma[\"gradi giallo\"]\n",
    "primi_giallo_prisma_list = angolo_minimo_prisma[\"primi giallo\"]\n",
    "deg_ciano_prisma_list = angolo_minimo_prisma[\"gradi ciano\"]\n",
    "primi_ciano_prisma_list = angolo_minimo_prisma[\"primi ciano\"]\n",
    "deg_blu_prisma_list = angolo_minimo_prisma[\"gradi blu\"]\n",
    "primi_blu_prisma_list = angolo_minimo_prisma[\"primi blu\"]\n",
    "deg_viola_prisma_list = angolo_minimo_prisma[\"gradi viola\"]\n",
    "primi_viola_prisma_list = angolo_minimo_prisma[\"primi viola\"]\n",
    "\n",
    "#Calcolo media e errore standard media\n",
    "deg_giallo_prisma = np.mean(deg_giallo_prisma_list)\n",
    "primi_giallo_prisma = np.mean(primi_giallo_prisma_list)\n",
    "deg_ciano_prisma = np.mean(deg_ciano_prisma_list)\n",
    "primi_ciano_prisma = np.mean(primi_ciano_prisma_list)\n",
    "deg_blu_prisma = np.mean(deg_blu_prisma_list)\n",
    "primi_blu_prisma = np.mean(primi_blu_prisma_list)\n",
    "deg_viola_prisma = np.mean(deg_viola_prisma_list)\n",
    "primi_viola_prisma = np.mean(primi_viola_prisma_list)\n",
    "\n",
    "#Calcolo le misure in gradi decimali\n",
    "deg_giallo_prisma = dms_to_dd(deg_giallo_prisma, primi_giallo_prisma, 0)\n",
    "deg_ciano_prisma = dms_to_dd(deg_ciano_prisma, primi_ciano_prisma, 0)\n",
    "deg_blu_prisma = dms_to_dd(deg_blu_prisma, primi_blu_prisma, 0)\n",
    "deg_viola_prisma = dms_to_dd(deg_viola_prisma, primi_viola_prisma, 0)\n",
    "\n",
    "#Errore sulle misure in gradi (è dovuto solo all'errore sui primi)\n",
    "err_giallo_prisma = np.std(primi_giallo_prisma_list, ddof=1)/np.sqrt(len(primi_giallo_prisma_list))\n",
    "err_ciano_prisma = np.std(primi_ciano_prisma_list, ddof=1)/np.sqrt(len(primi_ciano_prisma_list))\n",
    "err_blu_prisma = np.std(primi_blu_prisma_list, ddof=1)/np.sqrt(len(primi_blu_prisma_list))\n",
    "err_viola_prisma = np.std(primi_viola_prisma_list, ddof=1)/np.sqrt(len(primi_viola_prisma_list))"
   ]
  },
  {
   "cell_type": "code",
   "execution_count": null,
   "metadata": {},
   "outputs": [],
   "source": [
    "deg_giallo_decimal_list = [dms_to_dd(i, j, 0) for i, j in zip(deg_giallo_prisma_list, primi_giallo_prisma_list)]\n",
    "print(deg_giallo_decimal_list)\n",
    "\n",
    "deg_giallo_decimal = np.mean(deg_giallo_decimal_list)\n",
    "err_giallo_corrected = np.std(deg_giallo_decimal_list, ddof=1)/np.sqrt(len(deg_giallo_decimal_list))\n",
    "print(err_giallo_corrected)"
   ]
  },
  {
   "cell_type": "code",
   "execution_count": null,
   "metadata": {},
   "outputs": [],
   "source": [
    "#Calcolo di n per le varie lunghezze d'onda\n",
    "#minima_dev_prisma calcola n trasponendo le misure in radianti\n",
    "\n",
    "alfa = 60\n",
    "\n",
    "n_giallo_prisma = minima_dev_prisma(deg_giallo_prisma, alfa)\n",
    "n_ciano_prisma = minima_dev_prisma(deg_ciano_prisma, alfa)\n",
    "n_blu_prisma = minima_dev_prisma(deg_blu_prisma, alfa)\n",
    "n_viola_prisma = minima_dev_prisma(deg_viola_prisma, alfa)\n",
    "\n",
    "err_n_giallo_prisma = minima_dev_prisma_err(deg_giallo_prisma, alfa, err_giallo_prisma, 0)\n",
    "err_n_ciano_prisma = minima_dev_prisma_err(deg_ciano_prisma, alfa, err_ciano_prisma, 0)\n",
    "err_n_blu_prisma = minima_dev_prisma_err(deg_blu_prisma, alfa, err_blu_prisma, 0)\n",
    "err_n_viola_prisma = minima_dev_prisma_err(deg_viola_prisma, alfa, err_viola_prisma, 0)\n",
    "\n",
    "print(f\"Indice di rifrazione per il giallo: {n_giallo_prisma:.4g} ± {err_n_giallo_prisma:.1g}\")\n",
    "print(f\"Indice di rifrazione per il ciano: {n_ciano_prisma:.4g} ± {err_n_ciano_prisma:.1g}\")\n",
    "print(f\"Indice di rifrazione per il blu: {n_blu_prisma:.4g} ± {err_n_blu_prisma:.1g}\")\n",
    "print(f\"Indice di rifrazione per il viola: {n_viola_prisma:.4g} ± {err_n_viola_prisma:.1g}\")"
   ]
  },
  {
   "cell_type": "code",
   "execution_count": null,
   "metadata": {},
   "outputs": [],
   "source": [
    "#Interpolazione di lambda e n ottenuti con la formula di Cauchy\n",
    "lambda_giallo = 579.0663*10**(-9)\n",
    "lambda_ciano = 435.8328*10**(-9)\n",
    "lambda_blu = 404.6563*10**(-9)\n",
    "lambda_viola = 365.0153*10**(-9)\n",
    "\n",
    "lambda_ = [lambda_giallo, lambda_ciano, lambda_blu, lambda_viola]\n",
    "n_ = [n_giallo_prisma, n_ciano_prisma, n_blu_prisma, n_viola_prisma]\n",
    "err_n = [err_n_giallo_prisma, err_n_ciano_prisma, err_n_blu_prisma, err_n_viola_prisma]\n",
    "\n",
    "pars1, vals1, ers1, *other1 = LS_fit(lambda_, n_, err_n, cauchy, a = 1, b = 1)"
   ]
  },
  {
   "cell_type": "code",
   "execution_count": null,
   "metadata": {},
   "outputs": [],
   "source": [
    "#Plot dei punti sperimentali e della curva interpolante\n",
    "plt.errorbar(lambda_, n_, yerr=err_n, fmt='o', label=\"Punti sperimentali\")\n",
    "x = np.linspace(lambda_viola,lambda_giallo,  1000)\n",
    "y = cauchy(x, *vals1)\n",
    "plt.plot(x, y, label=\"Interpolazione Cauchy\")\n",
    "plt.xlabel(\"$\\lambda$ [nm]\")\n",
    "plt.ylabel(\"n\")\n",
    "plt.legend()\n",
    "plt.grid()\n",
    "plt.show()"
   ]
  },
  {
   "cell_type": "markdown",
   "metadata": {},
   "source": [
    "## Gas ignoto\n",
    "Sottrarre angoli di 180° "
   ]
  },
  {
   "cell_type": "code",
   "execution_count": null,
   "metadata": {},
   "outputs": [],
   "source": [
    "#Import dei dati dal file GasIgnoto.xlsx\n",
    "\n",
    "gas_ingnoto = pd.read_excel(\"GasIgnoto.xlsx\")\n",
    "\n",
    "deg_rosso_gas_prisma_list = gas_ingnoto[\"gradi rosso\"] - 180\n",
    "primi_rosso_gas_prisma_list = gas_ingnoto[\"primi rosso\"]\n",
    "deg_giallo_gas_prisma_list = gas_ingnoto[\"gradi giallo\"] -180\n",
    "primi_giallo_gas_prisma_list = gas_ingnoto[\"primi giallo\"]\n",
    "deg_verde_gas_prisma_list = gas_ingnoto[\"gradi verde\"] -180\n",
    "primi_verde_gas_prisma_list = gas_ingnoto[\"primi verde\"]\n",
    "deg_viola_gas_prisma_list = gas_ingnoto[\"gradi viola\"] -180\n",
    "primi_viola_gas_prisma_list = gas_ingnoto[\"primi viola\"]\n",
    "\n",
    "#Calcolo media e errore standard media\n",
    "deg_rosso_gas_prisma = np.mean(deg_rosso_gas_prisma_list)\n",
    "primi_rosso_gas_prisma = np.mean(primi_rosso_gas_prisma_list)\n",
    "deg_giallo_gas_prisma = np.mean(deg_giallo_gas_prisma_list)\n",
    "primi_giallo_gas_prisma = np.mean(primi_giallo_gas_prisma_list)\n",
    "deg_verde_gas_prisma = np.mean(deg_verde_gas_prisma_list)\n",
    "primi_verde_gas_prisma = np.mean(primi_verde_gas_prisma_list)\n",
    "deg_viola_gas_prisma = np.mean(deg_viola_gas_prisma_list)\n",
    "primi_viola_gas_prisma = np.mean(primi_viola_gas_prisma_list)\n",
    "\n",
    "#Errore sulle misure in gradi (è dovuto solo all'errore sui primi)\n",
    "err_rosso_gas_prisma = np.std(primi_rosso_gas_prisma_list, ddof=1)/np.sqrt(len(primi_rosso_gas_prisma_list))\n",
    "err_giallo_gas_prisma = np.std(primi_giallo_gas_prisma_list, ddof=1)/np.sqrt(len(primi_giallo_gas_prisma_list))\n",
    "err_verde_gas_prisma = np.std(primi_verde_gas_prisma_list, ddof=1)/np.sqrt(len(primi_verde_gas_prisma_list))\n",
    "err_viola_gas_prisma = np.std(primi_viola_gas_prisma_list, ddof=1)/np.sqrt(len(primi_viola_gas_prisma_list))\n",
    "\n",
    "#Calcolo le misure in gradi decimali\n",
    "deg_rosso_gas_prisma = dms_to_dd(deg_rosso_gas_prisma, primi_rosso_gas_prisma, 0)\n",
    "deg_giallo_gas_prisma = dms_to_dd(deg_giallo_gas_prisma, primi_giallo_gas_prisma, 0)\n",
    "deg_verde_gas_prisma = dms_to_dd(deg_verde_gas_prisma, primi_verde_gas_prisma, 0)\n",
    "deg_viola_gas_prisma = dms_to_dd(deg_viola_gas_prisma, primi_viola_gas_prisma, 0)"
   ]
  },
  {
   "cell_type": "code",
   "execution_count": null,
   "metadata": {},
   "outputs": [],
   "source": [
    "#calcolo di n per le varie lunghezze d'onda\n",
    "#minima_dev_prisma calcola n trasponendo le misure in radianti\n",
    "\n",
    "alfa = 60\n",
    "\n",
    "n_rosso_gas_prisma = minima_dev_prisma(deg_rosso_gas_prisma, alfa)\n",
    "n_giallo_gas_prisma = minima_dev_prisma(deg_giallo_gas_prisma, alfa)\n",
    "n_verde_gas_prisma = minima_dev_prisma(deg_verde_gas_prisma, alfa)\n",
    "n_viola_gas_prisma = minima_dev_prisma(deg_viola_gas_prisma, alfa)\n",
    "\n",
    "err_n_rosso_gas_prisma = minima_dev_prisma_err(deg_rosso_gas_prisma, alfa, err_rosso_gas_prisma, 0)\n",
    "err_n_giallo_gas_prisma = minima_dev_prisma_err(deg_giallo_gas_prisma, alfa, err_giallo_gas_prisma, 0)\n",
    "err_n_verde_gas_prisma = minima_dev_prisma_err(deg_verde_gas_prisma, alfa, err_verde_gas_prisma, 0)\n",
    "err_n_viola_gas_prisma = minima_dev_prisma_err(deg_viola_gas_prisma, alfa, err_viola_gas_prisma, 0)\n",
    "\n",
    "#calcolo di lambda per il gas ignoto\n",
    "lambda_rosso = cauchy_ignoto(n_rosso_gas_prisma, *vals1)\n",
    "lambda_giallo = cauchy_ignoto(n_giallo_gas_prisma, *vals1)\n",
    "lambda_verde = cauchy_ignoto(n_verde_gas_prisma, *vals1)\n",
    "lambda_viola = cauchy_ignoto(n_viola_gas_prisma, *vals1)\n",
    "\n",
    "#other1[3] contiene la matrice di covarianza, aggiungendo [0][1] è la covarianza tra a e b\n",
    "err_lambda_rosso = cauchy_ignoto_err(n_rosso_gas_prisma, *vals1, err_n_rosso_gas_prisma, *ers1, other1[3][0][1])\n",
    "err_lambda_giallo = cauchy_ignoto_err(n_giallo_gas_prisma, *vals1, err_n_giallo_gas_prisma, *ers1, other1[3][0][1])\n",
    "err_lambda_verde = cauchy_ignoto_err(n_verde_gas_prisma, *vals1, err_n_verde_gas_prisma, *ers1, other1[3][0][1])\n",
    "err_lambda_viola = cauchy_ignoto_err(n_viola_gas_prisma, *vals1, err_n_viola_gas_prisma, *ers1, other1[3][0][1])\n",
    "\n",
    "#stampa dei risultati\n",
    "print(f\"Indice di rifrazione per il rosso: {n_rosso_gas_prisma:.4g} ± {err_n_rosso_gas_prisma:.1g}\")\n",
    "print(f\"Indice di rifrazione per il giallo: {n_giallo_gas_prisma:.4g} ± {err_n_giallo_gas_prisma:.1g}\")\n",
    "print(f\"Indice di rifrazione per il verde: {n_verde_gas_prisma:.4g} ± {err_n_verde_gas_prisma:.1g}\")\n",
    "print(f\"Indice di rifrazione per il viola: {n_viola_gas_prisma:.4g} ± {err_n_viola_gas_prisma:.1g}\")\n",
    "\n",
    "print(f\"Lambda per il rosso: {lambda_rosso*10**9:.1f} ± {err_lambda_rosso*10**9:.1f} nm\")\n",
    "print(f\"Lambda per il giallo: {lambda_giallo*10**9:.1f} ± {err_lambda_giallo*10**9:.1f} nm\")\n",
    "print(f\"Lambda per il verde: {lambda_verde*10**9:.1f} ± {err_lambda_verde*10**9:.1f} nm\")\n",
    "print(f\"Lambda per il viola: {lambda_viola*10**9:.1f} ± {err_lambda_viola*10**9:.1f} nm\")"
   ]
  },
  {
   "cell_type": "markdown",
   "metadata": {},
   "source": [
    "# RETICOLO"
   ]
  },
  {
   "cell_type": "markdown",
   "metadata": {},
   "source": [
    "## Doppietto sodio\n",
    "Misurata una sola riga (spettro del sodio), quella più vicina al centro \\\n",
    "300 linee al millimetro \\\n",
    "Per quanto riguarda l'allineamento, sul file excel ci sono 2 set di misure:\n",
    "* il primo e' misurato con il reticolo non perpendicolare, ma settato per minimizzare la differenza di angolo (anche se poi abbiamo scoperto essere sbagliato comunque)\n",
    "* il secondo e' misurato con il reticolo piu' perpendicolare possibile"
   ]
  }
 ],
 "metadata": {
  "kernelspec": {
   "display_name": "Python 3",
   "language": "python",
   "name": "python3"
  },
  "language_info": {
   "codemirror_mode": {
    "name": "ipython",
    "version": 3
   },
   "file_extension": ".py",
   "mimetype": "text/x-python",
   "name": "python",
   "nbconvert_exporter": "python",
   "pygments_lexer": "ipython3",
   "version": "3.11.1"
  }
 },
 "nbformat": 4,
 "nbformat_minor": 2
}
