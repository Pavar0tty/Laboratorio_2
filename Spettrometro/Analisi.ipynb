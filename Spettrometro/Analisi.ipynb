{
 "cells": [
  {
   "cell_type": "code",
   "execution_count": null,
   "metadata": {},
   "outputs": [],
   "source": [
    "import numpy as np\n",
    "import pandas as pd\n",
    "import matplotlib.pyplot as plt\n",
    "\n",
    "import sys\n",
    "sys.path.insert(1, '../Config')\n",
    "from lablib import *"
   ]
  },
  {
   "cell_type": "markdown",
   "metadata": {},
   "source": [
    "# Funzioni utili"
   ]
  },
  {
   "cell_type": "code",
   "execution_count": null,
   "metadata": {},
   "outputs": [],
   "source": [
    "def dms_to_dd(d, m, s):\n",
    "    dd = d + float(m)/60 + float(s)/3600\n",
    "    return dd\n",
    "\n",
    "def Minima_dev_prisma(deg, alfa, deg_err, alfa_err):\n",
    "    '''\n",
    "    Calcola n dato l'angolo di incidenza e l'angolo di deviazione, e calcola l'errore\n",
    "    '''\n",
    "    x = np.sin(np.radians(deg + alfa)/2) / np.sin(np.radians(alfa/2))\n",
    "\n",
    "    rad = np.radians(deg)\n",
    "    alfa_rad = np.radians(alfa)\n",
    "    rad_err = np.radians(deg_err)\n",
    "    alfa_rad_err = np.radians(alfa_err)\n",
    "\n",
    "    y = (np.sqrt((np.sin(alfa_rad/2)*np.cos((alfa_rad+rad)/2)*rad_err)**2+(np.sin(rad/2)*alfa_rad_err)**2))/np.abs(np.cos(alfa_rad)-1)\n",
    "    \n",
    "    return x, y\n",
    "\n",
    "def Cauchy_ignoto(n, a, b, n_err, a_err, b_err, cov_ab):\n",
    "    '''\n",
    "    Calcola il valore di lambda e il suo errore\n",
    "    '''\n",
    "    x = np.sqrt(b/(n-a))\n",
    "    y = np.sqrt(b*(a_err/(2*(n-a)))**2 + (b_err/2)**2/b + b*(n_err/(2*(n-a)))**2 + cov_ab/2)/(np.sqrt(n-a))\n",
    "\n",
    "    return x, y\n",
    "\n",
    "def Cauchy(x, a, b):\n",
    "    return a + (b) / (x**2)\n",
    "\n",
    "def d_reticolo(n, lambda_, theta, sigma_theta):\n",
    "    sigma_theta = np.radians(sigma_theta)\n",
    "    x = n*lambda_/(np.sin(np.radians(theta)))\n",
    "    y = abs(n*lambda_*np.cos(np.radians(theta))*sigma_theta/(np.sin(np.radians(theta)))**2)\n",
    "    return x, y\n",
    "\n",
    "def lambda_reticolo(n, d, theta, sigma_theta):\n",
    "    sigma_theta = np.radians(sigma_theta)\n",
    "    x = d*np.sin(np.radians(theta))/n\n",
    "    y = abs(d*np.cos(np.radians(theta))*sigma_theta/n)\n",
    "    return x, y"
   ]
  },
  {
   "cell_type": "markdown",
   "metadata": {},
   "source": [
    "# CARATTERIZZAZIONE DEL PRISMA"
   ]
  },
  {
   "cell_type": "markdown",
   "metadata": {},
   "source": [
    "## Mercurio\n",
    "Incertezza/scala ver = 1' \\\n",
    "primo angolo riflesso = 285° 11' \\\n",
    "secondo angolo riflesso = 166° 6' \\\n",
    "alfa = 60 °"
   ]
  },
  {
   "cell_type": "code",
   "execution_count": null,
   "metadata": {},
   "outputs": [],
   "source": [
    "angolo_minimo_prisma = pd.read_excel(\"PrismaAngoloMinimo.xlsx\")\n",
    "\n",
    "# lista dei colori\n",
    "colori_1 = [\"giallo\", \"ciano\", \"blu\", \"viola\"]\n",
    "\n",
    "# matrici delle misure - colonna ciano modificata(9)\n",
    "deg_mat_prisma = angolo_minimo_prisma.iloc[:, [0, 2, 4, 6]].values.T\n",
    "primi_mat_prisma = angolo_minimo_prisma.iloc[:, [1, 9, 5, 7]].values.T\n",
    "\n",
    "# calcolo delle medie e degli errori\n",
    "deg_prisma = []\n",
    "err_prisma = []\n",
    "for i in range(4):\n",
    "    deg = []\n",
    "    for j in range(len(deg_mat_prisma[i])):\n",
    "        deg.append(dms_to_dd(deg_mat_prisma[i][j], primi_mat_prisma[i][j], 0))\n",
    "    deg_prisma.append(np.mean(deg))\n",
    "    err_prisma.append(np.std(deg, ddof=1)/np.sqrt(len(deg)))\n",
    "\n",
    "for i in range(len(colori_1)):\n",
    "    print(f\"Angolo minimo per il {colori_1[i]}: {deg_prisma[i]:.4g} ± {err_prisma[i]:.1g}\")"
   ]
  },
  {
   "cell_type": "markdown",
   "metadata": {},
   "source": [
    "Penso che le misure dei primi siano sbagliate...\\\n",
    "Per correggere dovrebbe bastare aggiungere 30 primi a ciano \\\n",
    "L'ho implementato nel codice aggiungendo una colonna, per usare i valori originali mettere 3 al posto di 9"
   ]
  },
  {
   "cell_type": "code",
   "execution_count": null,
   "metadata": {},
   "outputs": [],
   "source": [
    "# interpolazione di Cauchy\n",
    "\n",
    "alfa = 60\n",
    "lambda_note = [579.0663e-9, 435.8328e-9, 404.6563e-9, 365.0153e-9]\n",
    "\n",
    "n_prisma, n_prisma_err = zip(*[Minima_dev_prisma(deg_prisma[i], alfa, err_prisma[i], 0) for i in range(4)])\n",
    "\n",
    "pars1, vals1, ers1, *other1 = LS_fit(lambda_note, n_prisma, n_prisma_err, Cauchy, a = 1, b = 1)\n",
    "cov1 = other1[-1][0][1] # covarianza tra a e b"
   ]
  },
  {
   "cell_type": "code",
   "execution_count": null,
   "metadata": {},
   "outputs": [],
   "source": [
    "#Plot del grafico da inserire nella relazione\n",
    "\n",
    "x = np.linspace(0.35e-6, 0.6e-6, 1000)\n",
    "\n",
    "plt.errorbar(lambda_note, n_prisma, yerr = n_prisma_err, fmt = \".\", color = \"black\", label = \"Dati sperimentali\")\n",
    "plt.plot(x, Cauchy(x, *vals1), color = \"red\", label = \"Interpolazione di Cauchy\")\n",
    "plt.xlabel(\"$\\lambda$ [m]\")\n",
    "plt.ylabel(\"n\")\n",
    "plt.legend()\n",
    "plt.grid()\n",
    "plt.show()"
   ]
  },
  {
   "cell_type": "markdown",
   "metadata": {},
   "source": [
    "## Gas ignoto\n",
    "Sottrarre angoli di 180° "
   ]
  },
  {
   "cell_type": "code",
   "execution_count": null,
   "metadata": {},
   "outputs": [],
   "source": [
    "gas_ignoto = pd.read_excel(\"GasIgnoto.xlsx\")\n",
    "\n",
    "colori_2 = [\"rosso\", \"giallo\", \"verde\", \"viola\"]\n",
    "\n",
    "deg_mat_ignoto = gas_ignoto.iloc[:, [9, 2, 11, 6]].values.T - 180    #Cambiato colonna 0 e 4 in 9 e 11\n",
    "primi_mat_ignoto = gas_ignoto.iloc[:, [10, 3, 12, 7]].values.T #Cambiato colonna 1 e 5 in 10 e 12\n",
    "\n",
    "deg_ignoto = []\n",
    "err_ignoto = []\n",
    "for i in range(4):\n",
    "    deg = []\n",
    "    for j in range(len(deg_mat_ignoto[i])):\n",
    "        deg.append(dms_to_dd(deg_mat_ignoto[i][j], primi_mat_ignoto[i][j], 0))\n",
    "    deg_ignoto.append(np.mean(deg))\n",
    "    err_ignoto.append(np.std(deg, ddof=1)/np.sqrt(len(deg)))"
   ]
  },
  {
   "cell_type": "code",
   "execution_count": null,
   "metadata": {},
   "outputs": [],
   "source": [
    "# calcolo di lambda per il gas ignoto\n",
    "\n",
    "n_prisma_ignoto, n_prisma_ignoto_err = zip(*[Minima_dev_prisma(deg_ignoto[i], alfa, err_ignoto[i], 0) for i in range(4)])\n",
    "\n",
    "lambda_ignoto, lambda_ignoto_err = zip(*[Cauchy_ignoto(n_prisma_ignoto[i], *vals1, n_prisma_ignoto_err[i], *ers1, cov1) for i in range(4)])\n",
    "\n",
    "for i in range(4):\n",
    "    print(f\"n per il {colori_2[i]}: {n_prisma_ignoto[i]:.4g} ± {n_prisma_ignoto_err[i]:.1g}\")\n",
    "\n",
    "for i in range(4):\n",
    "    print(f\"Lambda per il {colori_2[i]}: {lambda_ignoto[i]:.4g} ± {lambda_ignoto_err[i]:.1g} nm\")"
   ]
  },
  {
   "cell_type": "markdown",
   "metadata": {},
   "source": [
    "I conti tornano ma perchè ho sottratto 30 primi a rosso e verde. I valori di lambda per rosso e verde non stavano nel colore corretto, per questo ho sottratto 30 primi. \\\n",
    "Facendo un'analisi con questi lambda, sembrerebbe che sia Neon"
   ]
  },
  {
   "cell_type": "markdown",
   "metadata": {},
   "source": [
    "Dovremmo capire come risolvere questo problema"
   ]
  },
  {
   "cell_type": "markdown",
   "metadata": {},
   "source": [
    "# RETICOLO"
   ]
  },
  {
   "cell_type": "markdown",
   "metadata": {},
   "source": [
    "## Doppietto sodio\n",
    "Misurata una sola riga (spettro del sodio), quella più vicina al centro \\\n",
    "300 linee al millimetro \\\n",
    "Per quanto riguarda l'allineamento, sul file excel ci sono 2 set di misure:\n",
    "* il primo e' misurato con il reticolo non perpendicolare, ma settato per minimizzare la differenza di angolo (anche se poi abbiamo scoperto essere sbagliato comunque)\n",
    "* il secondo e' misurato con il reticolo piu' perpendicolare possibile"
   ]
  },
  {
   "cell_type": "markdown",
   "metadata": {},
   "source": [
    "Le misure di angolo sono state prese due volte, perciò l'errore non è gaussiano anche prendendo la deviazione standard della media"
   ]
  },
  {
   "cell_type": "code",
   "execution_count": null,
   "metadata": {},
   "outputs": [],
   "source": [
    "#Import dei dati. deg_dx e deg_sx sono liste con i gradi decimali, ognuno corrispondente all'ordine di intensita\n",
    "#es: deg_dx[0] è la media dei gradi decimali per l'ordine 1, deg_dx[1] per l'ordine 2 e così via\n",
    "reticolo_na = pd.read_excel(\"ReticoloNa.xlsx\")\n",
    "\n",
    "ordine = [1,2,3]\n",
    "deg_zero = 221.2\n",
    "\n",
    "lambda1 = 589e-9 #lunghezza d'onda di una riga del doppietto del sodio\n",
    "lambda2 = 589.6e-9 #lunghezza d'onda dell'altra riga del doppietto del sodio\n",
    "\n",
    "gradi_dx = reticolo_na.iloc[14:20, 1:4].values\n",
    "gradi_sx = reticolo_na.iloc[14:20, 4:7].values\n",
    "\n",
    "deg_dx = []\n",
    "deg_dx_err = []\n",
    "deg_sx = []\n",
    "deg_sx_err = []\n",
    "\n",
    "for i in range(0,5,2):\n",
    "    degD = []\n",
    "    degS = []\n",
    "    for j in range(2):\n",
    "        degD.append(dms_to_dd(gradi_dx[i+j][0], gradi_dx[i+j][1], gradi_dx[i+j][2]))\n",
    "        degS.append(dms_to_dd(gradi_sx[i+j][0], gradi_sx[i+j][1], gradi_sx[i+j][2]))\n",
    "    deg_dx.append(np.mean(degD))\n",
    "    deg_sx.append(np.mean(degS))\n",
    "    deg_dx_err.append(np.std(degD, ddof=1)/np.sqrt(2))\n",
    "    deg_sx_err.append(np.std(degS, ddof=1)/np.sqrt(2))"
   ]
  },
  {
   "cell_type": "code",
   "execution_count": null,
   "metadata": {},
   "outputs": [],
   "source": [
    "#Calcolo di d del reticolo (ci aspettiamo 3e-6 m, ci sono 300 righe al mm)\n",
    "\n",
    "deg_reticolo = [(abs(deg_dx[i] - deg_zero) + abs(deg_sx[i] - deg_zero))/2 for i in range(3)]\n",
    "deg_reticolo_err = [np.sqrt((deg_dx_err[i]**2 + deg_sx_err[i]**2)/2) for i in range(3)]\n",
    "\n",
    "d_ret, d_ret_err = d_reticolo(np.array(ordine), lambda1, deg_reticolo, deg_reticolo_err)\n",
    "\n",
    "d_stimato = np.mean(d_ret)\n",
    "d_stimato_err = np.sqrt(np.sum(d_ret_err**2))\n",
    "# propagare l'errore per d\n",
    "\n",
    "for i in range(3):\n",
    "    print(f\"Gradi: {deg_reticolo[i]:.4g} ± {deg_reticolo_err[i]:.2f} -> d per l'ordine {ordine[i]}: {d_ret[i]:.4g} ± {d_ret_err[i]:.2g} m\")\n",
    "print(f\"d stimato medio: {d_stimato:.4g} ± {d_stimato_err:.2g}m\")"
   ]
  },
  {
   "cell_type": "markdown",
   "metadata": {},
   "source": [
    "## Gas ignoto"
   ]
  },
  {
   "cell_type": "code",
   "execution_count": null,
   "metadata": {},
   "outputs": [],
   "source": [
    "#Con questa cella ottengo quattro liste: deg_dx_ignoto, deg_dx_ignoto_err, deg_sx_ignoto, deg_sx_ignoto_err\n",
    "#che contengono i gradi decimali per i vari colori e ordini.\n",
    "reticolo_ignoto = pd.read_excel(\"ReticoloIgnoto.xlsx\")\n",
    "\n",
    "colori_3 = [\"blu\", \"verde\", \"giallo\"]\n",
    "\n",
    "gradi_dx_ignoto = reticolo_ignoto.iloc[:, 2:4].values\n",
    "gradi_sx_ignoto = reticolo_ignoto.iloc[:, 4:7].values\n",
    "\n",
    "# Al primo posto ci sono i colori di grado 1, al secondo quelli di grado 2\n",
    "deg_dx_ignoto = [[], []]\n",
    "deg_dx_ignoto_err = [[], []]\n",
    "deg_sx_ignoto = [[], []]\n",
    "deg_sx_ignoto_err = [[], []]\n",
    "\n",
    "for i in range(2):\n",
    "    for j in range(0, 5, 2):\n",
    "        degD = []\n",
    "        degS = []\n",
    "        for k in range(2):\n",
    "            ind = i*6 + j + k\n",
    "            degD.append(dms_to_dd(gradi_dx_ignoto[ind][0], gradi_dx_ignoto[ind][1], 0))\n",
    "            degS.append(dms_to_dd(gradi_sx_ignoto[ind][0], gradi_sx_ignoto[ind][1], 0))\n",
    "\n",
    "        deg_dx_ignoto[i].append(np.mean(degD))\n",
    "        deg_sx_ignoto[i].append(np.mean(degS))\n",
    "        deg_dx_ignoto_err[i].append(np.std(degD)/np.sqrt(2))\n",
    "        deg_sx_ignoto_err[i].append(np.std(degS)/np.sqrt(2))"
   ]
  },
  {
   "cell_type": "code",
   "execution_count": null,
   "metadata": {},
   "outputs": [],
   "source": [
    "# Calcolo lambda per gas ignoto con reticolo\n",
    "\n",
    "# calcolo dei gradi di deviazione e degli errori\n",
    "deg_ret_ignoto1, deg_ret_ignoto2 = [[(abs(deg_dx_ignoto[i][j] - deg_zero) + abs(deg_sx_ignoto[i][j] - deg_zero))/2 for j in range(3)] for i in range(2)]\n",
    "deg_ret_ignot1_err, deg_ret_ignoto2_err = [[np.sqrt((deg_dx_ignoto_err[i][j]**2 + deg_sx_ignoto_err[i][j]**2)/2) for j in range(3)] for i in range(2)]\n",
    "\n",
    "# calcolo di lambda per ordine di diffrazione\n",
    "lambda_ret_ignoto2, lambda_ret_ignoto2_err = zip(*(lambda_reticolo(2, d_stimato, deg_ret_ignoto2[i], deg_ret_ignoto2_err[i]) for i in range(3)))\n",
    "lambda_ret_ignoto1, lambda_ret_ignoto1_err = zip(*(lambda_reticolo(1, d_stimato, deg_ret_ignoto1[i], deg_ret_ignot1_err[i]) for i in range(3)))\n",
    "\n",
    "# for i in range(3):\n",
    "#     print(f\"Lambda per il {colori_3[i]} (ordine 1): {lambda_ret_ignoto1[i]:.4g} ± {lambda_ret_ignoto1_err[i]:.1g} nm\")\n",
    "#     print(f\"Lambda per il {colori_3[i]} (ordine 2): {lambda_ret_ignoto2[i]:.4g} ± {lambda_ret_ignoto2_err[i]:.1g} nm\")\n",
    "\n",
    "# calcolo di lambda medio per colore\n",
    "lambda_ret_ignoto = [(lambda_ret_ignoto1[i] + lambda_ret_ignoto2[i])/2 for i in range(3)]\n",
    "lambda_ret_ignoto_err = [np.sqrt(lambda_ret_ignoto1_err[i]**2 + lambda_ret_ignoto2_err[i]**2)/2 for i in range(3)]\n",
    "\n",
    "for i in range(3):\n",
    "    print(f\"Lambda per il {colori_3[i]}: {lambda_ret_ignoto[i]:.4g} ± {lambda_ret_ignoto_err[i]:.1g} nm\")"
   ]
  }
 ],
 "metadata": {
  "kernelspec": {
   "display_name": "Python 3",
   "language": "python",
   "name": "python3"
  },
  "language_info": {
   "codemirror_mode": {
    "name": "ipython",
    "version": 3
   },
   "file_extension": ".py",
   "mimetype": "text/x-python",
   "name": "python",
   "nbconvert_exporter": "python",
   "pygments_lexer": "ipython3",
   "version": "3.11.1"
  }
 },
 "nbformat": 4,
 "nbformat_minor": 2
}
