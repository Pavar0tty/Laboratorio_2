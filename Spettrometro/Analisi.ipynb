{
 "cells": [
  {
   "cell_type": "code",
   "execution_count": null,
   "metadata": {},
   "outputs": [],
   "source": [
    "import numpy as np\n",
    "import pandas as pd\n",
    "import matplotlib.pyplot as plt\n",
    "\n",
    "import sys\n",
    "sys.path.insert(1, '../Config')\n",
    "from lablib import *"
   ]
  },
  {
   "cell_type": "markdown",
   "metadata": {},
   "source": [
    "# Funzioni utili"
   ]
  },
  {
   "cell_type": "code",
   "execution_count": null,
   "metadata": {},
   "outputs": [],
   "source": [
    "def dms_to_dd(d, m, s):\n",
    "    dd = d + float(m)/60 + float(s)/3600\n",
    "    return dd\n",
    "\n",
    "def minima_dev_prisma(deg, alfa):\n",
    "    return np.sin(np.radians(deg + alfa)/2) / np.sin(np.radians(alfa/2))\n",
    "\n",
    "def minima_dev_prisma_err(deg, alfa, deg_err, alfa_err):\n",
    "    rad = np.radians(deg)\n",
    "    alfa_rad = np.radians(alfa)\n",
    "    rad_err = np.radians(deg_err)\n",
    "    alfa_rad_err = np.radians(alfa_err)\n",
    "    \n",
    "    return (np.sqrt((np.sin(alfa_rad/2)*np.cos((alfa_rad+rad)/2)*rad_err)**2+(np.sin(rad/2)*alfa_rad_err)**2))/np.abs(np.cos(alfa_rad)-1) \n",
    "\n",
    "def cauchy(x, a, b):\n",
    "    return a + (b) / (x**2)\n"
   ]
  },
  {
   "cell_type": "markdown",
   "metadata": {},
   "source": [
    "# CARATTERIZZAZIONE DEL PRISMA"
   ]
  },
  {
   "cell_type": "markdown",
   "metadata": {},
   "source": [
    "## Mercurio\n",
    "Incertezza/scala ver = 1' \\\n",
    "primo angolo riflesso = 285° 11' \\\n",
    "secondo angolo riflesso = 166° 6' \\\n",
    "alfa = 60 °"
   ]
  },
  {
   "cell_type": "code",
   "execution_count": null,
   "metadata": {},
   "outputs": [],
   "source": [
    "#import data dal file PrismaAngoloMinimo\n",
    "\n",
    "angolo_minimo_prisma = pd.read_excel(\"PrismaAngoloMinimo.xlsx\")\n",
    "\n",
    "deg_giallo_prisma_list = angolo_minimo_prisma[\"gradi giallo\"]\n",
    "primi_giallo_prisma_list = angolo_minimo_prisma[\"primi giallo\"]\n",
    "deg_ciano_prisma_list = angolo_minimo_prisma[\"gradi ciano\"]\n",
    "primi_ciano_prisma_list = angolo_minimo_prisma[\"primi ciano\"]\n",
    "deg_blu_prisma_list = angolo_minimo_prisma[\"gradi blu\"]\n",
    "primi_blu_prisma_list = angolo_minimo_prisma[\"primi blu\"]\n",
    "deg_viola_prisma_list = angolo_minimo_prisma[\"gradi viola\"]\n",
    "primi_viola_prisma_list = angolo_minimo_prisma[\"primi viola\"]\n",
    "\n",
    "#Calcolo media e errore standard media\n",
    "deg_giallo_prisma = np.mean(deg_giallo_prisma_list)\n",
    "primi_giallo_prisma = np.mean(primi_giallo_prisma_list)\n",
    "deg_ciano_prisma = np.mean(deg_ciano_prisma_list)\n",
    "primi_ciano_prisma = np.mean(primi_ciano_prisma_list)\n",
    "deg_blu_prisma = np.mean(deg_blu_prisma_list)\n",
    "primi_blu_prisma = np.mean(primi_blu_prisma_list)\n",
    "deg_viola_prisma = np.mean(deg_viola_prisma_list)\n",
    "primi_viola_prisma = np.mean(primi_viola_prisma_list)\n",
    "\n",
    "#Calcolo le misure in gradi decimali\n",
    "deg_giallo_prisma = dms_to_dd(deg_giallo_prisma, primi_giallo_prisma, 0)\n",
    "deg_ciano_prisma = dms_to_dd(deg_ciano_prisma, primi_ciano_prisma, 0)\n",
    "deg_blu_prisma = dms_to_dd(deg_blu_prisma, primi_blu_prisma, 0)\n",
    "deg_viola_prisma = dms_to_dd(deg_viola_prisma, primi_viola_prisma, 0)\n",
    "\n",
    "#Errore sulle misure in gradi (è dovuto solo all'errore sui primi)\n",
    "err_giallo_prisma = np.std(primi_giallo_prisma_list, ddof=1)/np.sqrt(len(primi_giallo_prisma_list))\n",
    "err_ciano_prisma = np.std(primi_ciano_prisma_list, ddof=1)/np.sqrt(len(primi_ciano_prisma_list))\n",
    "err_blu_prisma = np.std(primi_blu_prisma_list, ddof=1)/np.sqrt(len(primi_blu_prisma_list))\n",
    "err_viola_prisma = np.std(primi_viola_prisma_list, ddof=1)/np.sqrt(len(primi_viola_prisma_list))"
   ]
  },
  {
   "cell_type": "code",
   "execution_count": null,
   "metadata": {},
   "outputs": [],
   "source": [
    "#Calcolo di n per le varie lunghezze d'onda\n",
    "\n",
    "alfa = 60\n",
    "\n",
    "n_giallo_prisma = minima_dev_prisma(deg_giallo_prisma, alfa)\n",
    "n_ciano_prisma = minima_dev_prisma(deg_ciano_prisma, alfa)\n",
    "n_blu_prisma = minima_dev_prisma(deg_blu_prisma, alfa)\n",
    "n_viola_prisma = minima_dev_prisma(deg_viola_prisma, alfa)\n",
    "\n",
    "err_n_giallo_prisma = minima_dev_prisma_err(deg_giallo_prisma, alfa, err_giallo_prisma, 0)\n",
    "err_n_ciano_prisma = minima_dev_prisma_err(deg_ciano_prisma, alfa, err_ciano_prisma, 0)\n",
    "err_n_blu_prisma = minima_dev_prisma_err(deg_blu_prisma, alfa, err_blu_prisma, 0)\n",
    "err_n_viola_prisma = minima_dev_prisma_err(deg_viola_prisma, alfa, err_viola_prisma, 0)"
   ]
  },
  {
   "cell_type": "code",
   "execution_count": null,
   "metadata": {},
   "outputs": [],
   "source": [
    "#Interpolazione di lambda e n ottenuti con la formula di Cauchy\n",
    "lambda_giallo = 579.0663\n",
    "lambda_ciano = 435.8328\n",
    "lambda_blu = 404.6563\n",
    "lambda_viola = 365.0153\n",
    "\n",
    "lambda_ = [lambda_giallo, lambda_ciano, lambda_blu, lambda_viola]\n",
    "n = [n_giallo_prisma, n_ciano_prisma, n_blu_prisma, n_viola_prisma]\n",
    "err_n = [err_n_giallo_prisma, err_n_ciano_prisma, err_n_blu_prisma, err_n_viola_prisma]\n",
    "\n",
    "pars1, vals1, ers1, *other1 = LS_fit(lambda_, n, err_n, cauchy, a = 1, b = 1)"
   ]
  },
  {
   "cell_type": "code",
   "execution_count": null,
   "metadata": {},
   "outputs": [],
   "source": [
    "#Plot dei punti sperimentali e della curva interpolante\n",
    "plt.errorbar(lambda_, n, yerr=err_n, fmt='o', label=\"Punti sperimentali\")\n",
    "x = np.linspace(300, 700, 1000)\n",
    "y = cauchy(x, *vals1)\n",
    "plt.plot(x, y, label=\"Interpolazione Cauchy\")\n",
    "plt.xlabel(\"$\\lambda$ [nm]\")\n",
    "plt.ylabel(\"n\")\n",
    "plt.legend()\n",
    "plt.grid()\n",
    "plt.show()"
   ]
  },
  {
   "cell_type": "markdown",
   "metadata": {},
   "source": [
    "## Gas ignoto\n",
    "Sottrarre angoli di 180°\n",
    "dsada"
   ]
  }
 ],
 "metadata": {
  "kernelspec": {
   "display_name": "Python 3",
   "language": "python",
   "name": "python3"
  },
  "language_info": {
   "codemirror_mode": {
    "name": "ipython",
    "version": 3
   },
   "file_extension": ".py",
   "mimetype": "text/x-python",
   "name": "python",
   "nbconvert_exporter": "python",
   "pygments_lexer": "ipython3",
   "version": "3.12.2"
  }
 },
 "nbformat": 4,
 "nbformat_minor": 2
}
