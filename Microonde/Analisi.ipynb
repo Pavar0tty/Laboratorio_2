{
 "cells": [
  {
   "cell_type": "code",
   "execution_count": null,
   "metadata": {},
   "outputs": [],
   "source": [
    "import numpy as np\n",
    "import pandas as pd\n",
    "import matplotlib.pyplot as plt\n",
    "\n",
    "import sys\n",
    "sys.path.insert(1, '../Config')\n",
    "from lablib import *"
   ]
  },
  {
   "cell_type": "code",
   "execution_count": null,
   "metadata": {},
   "outputs": [],
   "source": [
    "#Per la sezione di polarizzazione\n",
    "\n",
    "def Malus(alfa, I0):\n",
    "    return I0*np.cos(alfa)**2\n",
    "\n",
    "#Sono da inserire di seguito le funzioni per fit dell'esperienza di polarizzazione\n",
    "#Sono le funzioni al variare di theta e r \n",
    "\n",
    "#Per Brewster bisogna utilizzare un'iterpolazione parabolica\n",
    "def parabola(x, a, b, c):\n",
    "    return a*x**2 + b*x + c\n",
    "\n",
    "#Per la sezione di interferenza dobbiamo scegliere due esperienza diverse. \n",
    "#Riporto comunque le funzioni per tutte e quattro\n",
    "\n",
    "#1 Per la sezione di interferenza con la doppia fenditura\n",
    "#massimi sono a: d*sin(theta) = n*lambda. Voglio ottenere theta\n",
    "def double_slit_max(n, d, l):\n",
    "    return np.arcsin(n*l/d)\n",
    "    \n",
    "#minimi sono a: d*sin(theta) = (n/2)*lambda. Voglio ottenere theta\n",
    "def double_slit_min(n, d, l):\n",
    "    return np.arcsin(n*l/(2*d))\n",
    "\n",
    "\n",
    "#2 Per la sezione di interferenza con specchio di LLoyd\n",
    "\n",
    "#voglio ottenere lambda\n",
    "def lloyd(h1, h2, d1):\n",
    "    return 2*(np.sqrt(h2**2 + d1**2) - np.sqrt(h1**2 + d1**2))\n",
    "\n",
    "#3 Per la sezione di interferenza con cavità di Fabry-Perot\n",
    "\n",
    "#voglio ottenere distanza tra i due schermi semiriflettenti\n",
    "def fabry_perot(l, m):\n",
    "    return m*l/2\n",
    "\n",
    "#4 Per la sezione di interferenza con Michelson\n",
    "\n",
    "#voglio ottenere lambda. N è il numero di frange contate nello spostamento x dello specchio\n",
    "def michelson(N, x):\n",
    "    return 2*x/N\n",
    "\n",
    "# Per la sezione di diffrazione alla Bragg\n",
    "\n",
    "#Il massimo si ha per 2*d*sin(theta) = n*lambda. Voglio ottenere d\n",
    "def braggs(l, n, theta):\n",
    "    return l/(2*np.sin(theta))"
   ]
  },
  {
   "cell_type": "markdown",
   "metadata": {},
   "source": [
    "# POLARIZZAZIONE"
   ]
  },
  {
   "cell_type": "markdown",
   "metadata": {},
   "source": [
    "# ANGOLO DI BREWSTER"
   ]
  },
  {
   "cell_type": "markdown",
   "metadata": {},
   "source": [
    "# INTERFERENZA"
   ]
  },
  {
   "cell_type": "markdown",
   "metadata": {},
   "source": [
    "# DIFFRAZIONE ALLA BRAGG"
   ]
  }
 ],
 "metadata": {
  "kernelspec": {
   "display_name": "Python 3",
   "language": "python",
   "name": "python3"
  },
  "language_info": {
   "codemirror_mode": {
    "name": "ipython",
    "version": 3
   },
   "file_extension": ".py",
   "mimetype": "text/x-python",
   "name": "python",
   "nbconvert_exporter": "python",
   "pygments_lexer": "ipython3",
   "version": "3.11.1"
  }
 },
 "nbformat": 4,
 "nbformat_minor": 2
}
