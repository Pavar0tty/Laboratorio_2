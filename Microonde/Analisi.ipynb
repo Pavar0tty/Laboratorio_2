{
 "cells": [
  {
   "cell_type": "code",
   "execution_count": null,
   "metadata": {},
   "outputs": [],
   "source": [
    "import numpy as np\n",
    "import pandas as pd\n",
    "import matplotlib.pyplot as plt\n",
    "\n",
    "import sys\n",
    "sys.path.insert(1, '../Config')\n",
    "from lablib import *"
   ]
  },
  {
   "cell_type": "markdown",
   "metadata": {},
   "source": [
    "# Definizione funzioni"
   ]
  },
  {
   "cell_type": "code",
   "execution_count": null,
   "metadata": {},
   "outputs": [],
   "source": [
    "#Per la sezione di polarizzazione\n",
    "\n",
    "def Malus(alfa, I0):\n",
    "    return I0*np.cos(alfa)**2\n",
    "\n",
    "#Sono da inserire di seguito le funzioni per fit dell'esperienza di polarizzazione\n",
    "#Sono le funzioni al variare di theta e r \n",
    "\n",
    "#Per Brewster bisogna utilizzare un'iterpolazione parabolica\n",
    "def parabola(x, a, b, c):\n",
    "    return a*x**2 + b*x + c\n",
    "\n",
    "#Per la sezione di interferenza dobbiamo scegliere due esperienza diverse. \n",
    "#Riporto comunque le funzioni per tutte e quattro\n",
    "\n",
    "#1 Per la sezione di interferenza con la doppia fenditura\n",
    "#massimi sono a: d*sin(theta) = n*lambda. Voglio ottenere theta\n",
    "def double_slit_max(n, d, l):\n",
    "    return np.arcsin(n*l/d)\n",
    "    \n",
    "#minimi sono a: d*sin(theta) = (n/2)*lambda. Voglio ottenere theta\n",
    "def double_slit_min(n, d, l):\n",
    "    return np.arcsin(n*l/(2*d))\n",
    "\n",
    "\n",
    "#2 Per la sezione di interferenza con specchio di LLoyd\n",
    "\n",
    "#voglio ottenere lambda\n",
    "def lloyd(h1, h2, d1):\n",
    "    return 2*(np.sqrt(h2**2 + d1**2) - np.sqrt(h1**2 + d1**2))\n",
    "\n",
    "#3 Per la sezione di interferenza con cavità di Fabry-Perot\n",
    "\n",
    "#voglio ottenere distanza tra i due schermi semiriflettenti\n",
    "def fabry_perot(l, m):\n",
    "    return m*l/2\n",
    "\n",
    "#4 Per la sezione di interferenza con Michelson\n",
    "\n",
    "#voglio ottenere lambda. N è il numero di frange contate nello spostamento x dello specchio\n",
    "def michelson(N, x):\n",
    "    return 2*x/N\n",
    "\n",
    "# Per la sezione di diffrazione alla Bragg\n",
    "\n",
    "#Il massimo si ha per 2*d*sin(theta) = n*lambda. Voglio ottenere d\n",
    "def braggs(l, n, theta):\n",
    "    return l/(2*np.sin(theta))"
   ]
  },
  {
   "cell_type": "markdown",
   "metadata": {},
   "source": [
    "# Import dati"
   ]
  },
  {
   "cell_type": "code",
   "execution_count": null,
   "metadata": {},
   "outputs": [],
   "source": [
    "dati1 = pd.read_excel(\"dati_pol.xlsx\")"
   ]
  },
  {
   "cell_type": "markdown",
   "metadata": {},
   "source": [
    "# POLARIZZAZIONE"
   ]
  },
  {
   "cell_type": "markdown",
   "metadata": {},
   "source": [
    "**NOTA!!!**\\\n",
    "ricordiamoci dell'errore sulle x"
   ]
  },
  {
   "cell_type": "markdown",
   "metadata": {},
   "source": [
    "Le misure degli angoli sono prese in gradi \\\n",
    "Le misure di intensità sono prese in volt \\\n",
    "Sensibilità goniometro = 5 gradi \\\n",
    "Sensibilità amperometro = 0.01 volt \\\n",
    "Oscillazione amperometro = 0.05 \\\n",
    "rrore sistematico nel goniomoetro: non è possibile fare in modo che siano sempre dritti /\n",
    "Tentiamo d prendere le misure con sempre la stessa inclinazione."
   ]
  },
  {
   "cell_type": "markdown",
   "metadata": {},
   "source": []
  },
  {
   "cell_type": "markdown",
   "metadata": {},
   "source": [
    "Le misure degli angoli sono prese in gradi \\\n",
    "Le misure di intensità sono prese in volt \\\n",
    "Sensibilità goniometro = 5 gradi \\\n",
    "Sensibilità amperometro = 0.01 volt \\\n",
    "Oscillazione amperometro = 0.05 \\\n",
    "rrore sistematico nel goniomoetro: non è possibile fare in modo che siano sempre dritti /\n",
    "Tentiamo d prendere le misure con sempre la stessa inclinazione."
   ]
  },
  {
   "cell_type": "code",
   "execution_count": null,
   "metadata": {},
   "outputs": [],
   "source": []
  },
  {
   "cell_type": "markdown",
   "metadata": {},
   "source": [
    "Le misure degli angoli sono prese in gradi \\\n",
    "Le misure di intensità sono prese in volt \\\n",
    "Sensibilità goniometro = 5 gradi \\\n",
    "Sensibilità amperometro = 0.01 volt  \\\n",
    "Oscillazione amperometro = 0.05 \\\n",
    "Errore sistematico nel goniometro: non è possibile fare in modo che siano sempre dritti \\\n",
    "Tentiamo d prendere le misure con sempre la stessa inclinazione. \\\n",
    "Distanza tra i ricevitori (da dritti) = 50cm"
   ]
  },
  {
   "cell_type": "code",
   "execution_count": null,
   "metadata": {},
   "outputs": [],
   "source": []
  },
  {
   "cell_type": "markdown",
   "metadata": {},
   "source": [
    "# AMPIEZZA"
   ]
  },
  {
   "cell_type": "markdown",
   "metadata": {},
   "source": [
    "## Rotazione"
   ]
  },
  {
   "cell_type": "code",
   "execution_count": null,
   "metadata": {},
   "outputs": [],
   "source": [
    "dati_rotazione = pd.read_excel(\"dati_rotazione.xlsx\")\n",
    "gradi_rotaz_prec = dati_rotazione[\"gradi_precisi\"]\n",
    "amp2 = dati_rotazione[\"tensione_precisa\"]\n",
    "amp2_err = [0.05 for _ in amp2]"
   ]
  },
  {
   "cell_type": "code",
   "execution_count": null,
   "metadata": {},
   "outputs": [],
   "source": [
    "plt.errorbar(gradi_rotaz_prec, amp2, amp2_err)\n",
    "plt.show()"
   ]
  },
  {
   "cell_type": "markdown",
   "metadata": {},
   "source": [
    "## Distanza"
   ]
  },
  {
   "cell_type": "code",
   "execution_count": null,
   "metadata": {},
   "outputs": [],
   "source": [
    "dati_distanza = pd.read_excel(\"dati_distanza.xlsx\")\n",
    "dist = dati_distanza[\"distanza\"][7:]\n",
    "amp3 = dati_distanza[\"tensione\"][7:]"
   ]
  },
  {
   "cell_type": "code",
   "execution_count": null,
   "metadata": {},
   "outputs": [],
   "source": [
    "plt.scatter(dist, amp3, marker=\".\")\n",
    "plt.show()"
   ]
  },
  {
   "cell_type": "code",
   "execution_count": null,
   "metadata": {},
   "outputs": [],
   "source": [
    "# plot con le misure più fitte\n",
    "# le misure oscillavano di meno\n",
    "\n",
    "dist_prec = dati_distanza[\"distanza_precisa\"].dropna()\n",
    "amp3_prec = dati_distanza[\"tensione_precisa\"].dropna()\n",
    "amp3_prec_err = [0.02 for _ in amp3_prec]"
   ]
  },
  {
   "cell_type": "code",
   "execution_count": null,
   "metadata": {},
   "outputs": [],
   "source": [
    "plt.errorbar(dist_prec, amp3_prec, amp3_prec_err, fmt=\".r\")\n",
    "plt.grid()\n",
    "plt.show()"
   ]
  },
  {
   "cell_type": "markdown",
   "metadata": {},
   "source": [
    "proviamo a fittare con un modello combinato tra uno che va come 1/r o 1/r^2 e uno che va con un coseno smorzato"
   ]
  },
  {
   "cell_type": "markdown",
   "metadata": {},
   "source": [
    "# ANGOLO DI BREWSTER"
   ]
  },
  {
   "cell_type": "markdown",
   "metadata": {},
   "source": [
    "tensione senza polietilene $\\approx$ 2.95 \\\n",
    "errore sulle x (gradi) = 2-3 \\"
   ]
  },
  {
   "cell_type": "code",
   "execution_count": null,
   "metadata": {},
   "outputs": [],
   "source": [
    "dati_brewster_trasm = pd.read_excel(\"dati_brewster_trasm.xlsx\")\n",
    "gradi_br = dati_brewster_trasm[\"angolo\"]\n",
    "amp_br_tr_oriz = dati_brewster_trasm[\"tensione(oriz)\"]\n",
    "amp_br_tr_vert = dati_brewster_trasm[\"tensione(vert)\"]\n",
    "amp_br_tr_err = [0.03 for _ in amp_br_tr_vert]"
   ]
  },
  {
   "cell_type": "markdown",
   "metadata": {},
   "source": [
    "## Trasmissione"
   ]
  },
  {
   "cell_type": "code",
   "execution_count": null,
   "metadata": {},
   "outputs": [],
   "source": [
    "plt.errorbar(gradi_br, amp_br_tr_oriz, amp_br_tr_err)\n",
    "plt.grid()\n",
    "plt.show()"
   ]
  },
  {
   "cell_type": "markdown",
   "metadata": {},
   "source": [
    "per spiegare il picco iniziale, le onde vengono riflesse più volte, quindi leggiamo un segnale maggiore. \\\n",
    "per spiegare il picco finale, semplicemente parte delle onde raggiunge il ricevitore inimpedita, quindi non c'è perdita di segnale"
   ]
  },
  {
   "cell_type": "code",
   "execution_count": null,
   "metadata": {},
   "outputs": [],
   "source": [
    "plt.errorbar(gradi_br, amp_br_tr_vert, amp_br_tr_err)\n",
    "plt.grid()\n",
    "plt.show()"
   ]
  },
  {
   "cell_type": "markdown",
   "metadata": {},
   "source": [
    "## Riflessione"
   ]
  },
  {
   "cell_type": "markdown",
   "metadata": {},
   "source": [
    "L'angolo lo abbiamo preso in base alla lastra di polietilene: ruotando la lastra, misuriamo l'angolo e spostiamo l'emettitore in modo da avere 180-2*$\\theta$ (per la legge degli angoli o qualcosa) \\\n",
    "Ad esempio: se lo specchio è a 30°, l'emettitore sarà a 180°-60° = 120°"
   ]
  },
  {
   "cell_type": "code",
   "execution_count": null,
   "metadata": {},
   "outputs": [],
   "source": [
    "# i dati non sono per nulla affidabili, se vogliamo fare sta parte sono da riprendere"
   ]
  },
  {
   "cell_type": "markdown",
   "metadata": {},
   "source": [
    "# DIFFRAZIONE DI BRAGG"
   ]
  },
  {
   "cell_type": "markdown",
   "metadata": {},
   "source": []
  },
  {
   "cell_type": "code",
   "execution_count": null,
   "metadata": {},
   "outputs": [],
   "source": []
  },
  {
   "cell_type": "markdown",
   "metadata": {},
   "source": [
    "# INTERFERENZA"
   ]
  }
 ],
 "metadata": {
  "kernelspec": {
   "display_name": "Python 3",
   "language": "python",
   "name": "python3"
  },
  "language_info": {
   "codemirror_mode": {
    "name": "ipython",
    "version": 3
   },
   "file_extension": ".py",
   "mimetype": "text/x-python",
   "name": "python",
   "nbconvert_exporter": "python",
   "pygments_lexer": "ipython3",
   "version": "3.11.1"
  }
 },
 "nbformat": 4,
 "nbformat_minor": 2
}
