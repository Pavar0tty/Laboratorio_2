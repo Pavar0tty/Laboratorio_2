{
 "cells": [
  {
   "cell_type": "code",
   "execution_count": null,
   "metadata": {},
   "outputs": [],
   "source": [
    "import numpy as np\n",
    "import pandas as pd\n",
    "import matplotlib.pyplot as plt\n",
    "\n",
    "import sys\n",
    "sys.path.insert(1, '../Config')\n",
    "from lablib import *"
   ]
  },
  {
   "cell_type": "markdown",
   "metadata": {},
   "source": [
    "# Definizione funzioni"
   ]
  },
  {
   "cell_type": "code",
   "execution_count": null,
   "metadata": {},
   "outputs": [],
   "source": [
    "#Per la sezione di polarizzazione\n",
    "\n",
    "def Malus_cmp_el(alfa, I0):\n",
    "    return np.sqrt(I0)*(np.cos(alfa))\n",
    "\n",
    "def Malus_onde_piane(alfa, I0):\n",
    "    return I0*np.cos(alfa)**2\n",
    "\n",
    "def Malus_onde_sferiche(alfa, I0, d):\n",
    "    return (I0*(np.cos(alfa)/d)**2)\n",
    "\n",
    "def Malus_combo(alfa, I0, A, B, C, D):\n",
    "    return A*I0**C*np.cos(alfa)**2 + B*I0**D*np.cos(alfa)\n",
    "\n",
    "def Malus_disperazione(alfa, I0, A, B, C):\n",
    "    return A*I0*(np.cos(alfa))**2 + B*I0*(np.cos(alfa))**2 + C*I0*(np.cos(alfa))**2\n",
    "\n",
    "#Sono da inserire di seguito le funzioni per fit dell'esperienza di polarizzazione\n",
    "#Sono le funzioni al variare di theta e r \n",
    "\n",
    "#Per Brewster bisogna utilizzare un'iterpolazione parabolica\n",
    "def parabola(x, a, b, c):\n",
    "    return a*x**2 + b*x + c\n",
    "\n",
    "def parabola_shift(x, a, b):\n",
    "    return -(x-b)**2 + a\n",
    "\n",
    "#Per la sezione di interferenza dobbiamo scegliere due esperienza diverse. \n",
    "#Riporto comunque le funzioni per tutte e quattro\n",
    "\n",
    "# #1 Per la sezione di interferenza con la doppia fenditura\n",
    "# #massimi sono a: d*sin(theta) = n*lambda. Voglio ottenere theta\n",
    "# def double_slit_max(n, d, l):\n",
    "#     return np.arcsin(n*l/d)\n",
    "    \n",
    "# #minimi sono a: d*sin(theta) = (n/2)*lambda. Voglio ottenere theta\n",
    "# def double_slit_min(n, d, l):\n",
    "#     return np.arcsin(n*l/(2*d))\n",
    "\n",
    "\n",
    "#2 Per la sezione di interferenza con specchio di LLoyd\n",
    "\n",
    "#voglio ottenere n, sapendo che abbiamo misurato dei minimi\n",
    "def lloyd_n_frangia(d, h):\n",
    "    return int((2*h + 4*np.sqrt((d/2)**2 + h**2))/2.85)\n",
    "\n",
    "#voglio ottenere solo lambda\n",
    "def lloyd(d, h, n):\n",
    "    return (2*h + 4*np.sqrt((d/2)**2 + h**2))/n\n",
    "\n",
    "# #3 Per la sezione di interferenza con cavità di Fabry-Perot\n",
    "\n",
    "# #voglio ottenere distanza tra i due schermi semiriflettenti\n",
    "# def fabry_perot(l, m):\n",
    "#     return m*l/2\n",
    "\n",
    "#4 Per la sezione di interferenza con Michelson\n",
    "\n",
    "#voglio ottenere lambda. N è il numero di frange contate nello spostamento x dello specchio\n",
    "def michelson(N, x):\n",
    "    return 2*x/N\n",
    "\n",
    "# Per la sezione di diffrazione alla Bragg\n",
    "\n",
    "#Il massimo si ha per 2*d*sin(theta) = n*lambda. Voglio ottenere d\n",
    "def braggs(l, n, theta):\n",
    "    return l/(2*np.sin(theta))"
   ]
  },
  {
   "cell_type": "markdown",
   "metadata": {},
   "source": [
    "# Import dati"
   ]
  },
  {
   "cell_type": "markdown",
   "metadata": {},
   "source": [
    "# POLARIZZAZIONE"
   ]
  },
  {
   "cell_type": "markdown",
   "metadata": {},
   "source": [
    "**NOTA!!!**\\\n",
    "ricordiamoci dell'errore sulle x"
   ]
  },
  {
   "cell_type": "markdown",
   "metadata": {},
   "source": [
    "Le misure degli angoli sono prese in gradi \\\n",
    "Le misure di intensità sono prese in volt \\\n",
    "Sensibilità goniometro = 5 gradi \\\n",
    "Sensibilità amperometro = 0.01 volt  \\\n",
    "Oscillazione amperometro = 0.05 \\\n",
    "Errore sistematico nel goniometro: non è possibile fare in modo che siano sempre dritti \\\n",
    "Tentiamo d prendere le misure con sempre la stessa inclinazione. \\\n",
    "Distanza tra i ricevitori (da dritti) = 50cm"
   ]
  },
  {
   "cell_type": "code",
   "execution_count": null,
   "metadata": {},
   "outputs": [],
   "source": [
    "dati_polatizzazione = pd.read_excel(\"dati_pol.xlsx\")\n",
    "rad_malus = np.deg2rad(dati_polatizzazione[\"gradi\"])\n",
    "amp_malus = dati_polatizzazione[\"tensione\"]\n",
    "amp_malus_err = [0.05]*len(amp_malus)\n",
    "dist_malus = .5"
   ]
  },
  {
   "cell_type": "code",
   "execution_count": null,
   "metadata": {},
   "outputs": [],
   "source": [
    "t1 = np.linspace(min(rad_malus), max(rad_malus), 100000)\n",
    "plt.scatter(rad_malus, amp_malus, label=\"Dati\", marker=\"o\")\n",
    "plt.plot(t1, Malus_onde_piane(t1, max(amp_malus)), label=\"Malus onde piane\", color=\"red\")\n",
    "#plt.plot(t1, Malus_onde_sferiche(t1, max(amp_malus), dist_malus), label=\"Malus onde sferiche\", color=\"green\")\n",
    "#plt.plot(t1, Malus_cmp_el(t1, max(amp_malus)), label=\"\", color=\"blue\")\n",
    "plt.xlabel(\"Gradi\")\n",
    "plt.ylabel(\"Tensione [V]\")\n",
    "plt.title(\"Polarizzazione\")\n",
    "plt.legend()\n",
    "plt.show()"
   ]
  },
  {
   "cell_type": "code",
   "execution_count": null,
   "metadata": {},
   "outputs": [],
   "source": [
    "#  #fit del modello combo\n",
    "\n",
    "# def func(alfa, A, B, C):\n",
    "#     return Malus_combo(alfa, max(amp), A, B, C)\n",
    "\n",
    "# pars_malus, vals_malus, ers_malus, *other_malus = LS_fit(rad_malus, amp_malus, amp_malus_err, func, A=1, B=1, C=1)"
   ]
  },
  {
   "cell_type": "code",
   "execution_count": null,
   "metadata": {},
   "outputs": [],
   "source": [
    "#fit Malus disperazione\n",
    "\n",
    "def func_disp(alfa, A, B, C):\n",
    "    return Malus_disperazione(alfa, max(amp_malus), A, B, C)\n",
    "\n",
    "pars_malus_d, vals_malus_d, ers_malus_d, *other_malus_d = LS_fit(rad_malus, amp_malus, amp_malus_err, func_disp, A=1, B=1, C=1)"
   ]
  },
  {
   "cell_type": "code",
   "execution_count": null,
   "metadata": {},
   "outputs": [],
   "source": [
    "# fit manuale per fissare i dati - non ho idea di come funzioni\n",
    "# di base crea una funzione di costo personalizzata\n",
    "\n",
    "x_fixed_points = [t1[0], t1[-1]]\n",
    "y_fixed_values = [amp_malus[0], amp_malus[len(amp_malus)-1]]\n",
    "penalty_weight = 10000  # Peso della penalità per fissare i punti\n",
    "\n",
    "def chi_squared(a, b, c):\n",
    "    model = func_disp\n",
    "    y_model = model(rad_malus, a, b, c)\n",
    "    chi2 = np.sum(((amp_malus - y_model) / amp_malus_err) ** 2)\n",
    "    for x_fixed, y_fixed in zip(x_fixed_points, y_fixed_values):\n",
    "        y_model_fixed = model(x_fixed, a, b, c)\n",
    "        chi2 += penalty_weight * (y_model_fixed - y_fixed) ** 2\n",
    "    return chi2\n",
    "\n",
    "# Inizializzazione del fit\n",
    "m_malus = Minuit(chi_squared, a=5, b=4, c=1)\n",
    "m_malus.errordef = Minuit.LEAST_SQUARES\n",
    "m_malus.migrad()\n",
    "a_fit, b_fit, c_fit = m_malus.values[\"a\"], m_malus.values[\"b\"], m_malus.values[\"c\"]\n",
    "\n",
    "\n",
    "# plot dei risultati\n",
    "\n",
    "plt.scatter(rad_malus, amp_malus, label=\"Dati\", marker=\"o\")\n",
    "plt.plot(t1, Malus_disperazione(t1, max(amp_malus), a_fit, b_fit, c_fit), label=\"Malus disperazione\", color=\"red\")\n",
    "plt.xlabel(\"Gradi\")\n",
    "plt.ylabel(\"Tensione [V]\")\n",
    "plt.title(\"Polarizzazione\")\n",
    "plt.legend()\n",
    "plt.show()"
   ]
  },
  {
   "cell_type": "markdown",
   "metadata": {},
   "source": [
    "# AMPIEZZA"
   ]
  },
  {
   "cell_type": "markdown",
   "metadata": {},
   "source": [
    "## Rotazione"
   ]
  },
  {
   "cell_type": "code",
   "execution_count": null,
   "metadata": {},
   "outputs": [],
   "source": [
    "dati_rotazione = pd.read_excel(\"dati_rotazione.xlsx\")\n",
    "rad_rotaz_prec = np.deg2rad(dati_rotazione[\"gradi_precisi\"])\n",
    "amp_rotaz = dati_rotazione[\"tensione_precisa\"]\n",
    "amp_rotaz_err = [0.05 for _ in amp_rotaz]"
   ]
  },
  {
   "cell_type": "code",
   "execution_count": null,
   "metadata": {},
   "outputs": [],
   "source": [
    "plt.errorbar(rad_rotaz_prec, amp_rotaz, amp_rotaz_err)\n",
    "plt.grid()\n",
    "plt.show()"
   ]
  },
  {
   "cell_type": "markdown",
   "metadata": {},
   "source": [
    "## Distanza"
   ]
  },
  {
   "cell_type": "markdown",
   "metadata": {},
   "source": [
    "Si può provare a fare i fit utilizzando solo i massimi o solo i minimi."
   ]
  },
  {
   "cell_type": "code",
   "execution_count": null,
   "metadata": {},
   "outputs": [],
   "source": [
    "dati_distanza = pd.read_excel(\"dati_distanza.xlsx\")\n",
    "dist = dati_distanza[\"distanza\"][7:]\n",
    "amp3 = dati_distanza[\"tensione\"][7:]\n",
    "amp3_err = [0.05 for _ in amp3]"
   ]
  },
  {
   "cell_type": "code",
   "execution_count": null,
   "metadata": {},
   "outputs": [],
   "source": [
    "t3 = np.linspace(min(dist), max(dist), 100000)\n",
    "plt.scatter(dist, amp3, marker=\".\")\n",
    "plt.show()"
   ]
  },
  {
   "cell_type": "code",
   "execution_count": null,
   "metadata": {},
   "outputs": [],
   "source": [
    "# tentativo di fit con modello 1/r\n",
    "\n",
    "# ho provato un po' con questi modelli ma non funziona troppo\n",
    "# def modello_1suR(x, A, T, omega, phi):\n",
    "#     return (A*np.exp(-x/T)*np.cos(omega*x + phi))/x\n",
    "\n",
    "# def modello_1suR_2(x, A, T, omega, phi):\n",
    "#     return (A*np.exp(-x/T)*np.cos(omega*x + phi))/(x**2)\n",
    "\n",
    "def mod_1suR(r, a, b):\n",
    "    return a/r + b\n",
    "\n",
    "pars1_1, vals1_1, ers1_1, *other1_1 = LS_fit(dist, amp3, amp3_err, mod_1suR, a=1, b=0)"
   ]
  },
  {
   "cell_type": "code",
   "execution_count": null,
   "metadata": {},
   "outputs": [],
   "source": [
    "# modello 1/r^2\n",
    "\n",
    "def mod_1suR2(r, a, b):\n",
    "    return a/r**2 + b\n",
    "\n",
    "pars1_2, vals1_2, ers1_2, *other1_2 = LS_fit(dist, amp3, amp3_err, mod_1suR2, a=1, b=0.5)"
   ]
  },
  {
   "cell_type": "code",
   "execution_count": null,
   "metadata": {},
   "outputs": [],
   "source": [
    "# modello combinato\n",
    "\n",
    "def mod_comb(r, a, b, c):\n",
    "    return a/r + b/r**2 + c\n",
    "\n",
    "pars1_3, vals1_3, ers1_3, *other1_3 = LS_fit(dist, amp3, amp3_err, mod_comb, a=1, b=1, c=0)"
   ]
  },
  {
   "cell_type": "code",
   "execution_count": null,
   "metadata": {},
   "outputs": [],
   "source": [
    "# modello lineare\n",
    "\n",
    "def mod_lin(r, a, b):\n",
    "    return a*r + b\n",
    "\n",
    "pars1_4, vals1_4, ers1_4, *other1_4 = LS_fit(dist, amp3, amp3_err, mod_lin, a=1, b=0)"
   ]
  },
  {
   "cell_type": "code",
   "execution_count": null,
   "metadata": {},
   "outputs": [],
   "source": [
    "# plot con le misure più fitte\n",
    "# le misure oscillavano di meno\n",
    "\n",
    "dist_prec = dati_distanza[\"distanza_precisa\"].dropna()\n",
    "amp3_prec = dati_distanza[\"tensione_precisa\"].dropna()\n",
    "amp3_prec_err = [0.02 for _ in amp3_prec]"
   ]
  },
  {
   "cell_type": "code",
   "execution_count": null,
   "metadata": {},
   "outputs": [],
   "source": [
    "plt.errorbar(dist_prec, amp3_prec, amp3_prec_err, fmt=\".r\")\n",
    "plt.grid()\n",
    "plt.show()"
   ]
  },
  {
   "cell_type": "markdown",
   "metadata": {},
   "source": [
    "proviamo a fittare con un modello combinato tra uno che va come 1/r o 1/r^2 e uno che va con un coseno smorzato"
   ]
  },
  {
   "cell_type": "markdown",
   "metadata": {},
   "source": [
    "# ANGOLO DI BREWSTER"
   ]
  },
  {
   "cell_type": "markdown",
   "metadata": {},
   "source": [
    "tensione senza polietilene $\\approx$ 2.95 \\\n",
    "errore sulle x (gradi) = 2-3 \\\n",
    "indice rifrazione polietilene = 1.575"
   ]
  },
  {
   "cell_type": "code",
   "execution_count": null,
   "metadata": {},
   "outputs": [],
   "source": [
    "dati_brewster_trasm = pd.read_excel(\"dati_brewster_trasm.xlsx\")\n",
    "gradi_br = dati_brewster_trasm[\"angolo\"]\n",
    "amp_br_tr_oriz = dati_brewster_trasm[\"tensione(oriz)\"]\n",
    "amp_br_tr_vert = dati_brewster_trasm[\"tensione(vert)\"]\n",
    "amp_br_tr_err = [0.03 for _ in amp_br_tr_vert]\n",
    "\n",
    "#Diamo una stima di quanto dovrebbe uscire, conoscendo gli indici di rifrazione\n",
    "indice_rifr1 = 1.00029\n",
    "indice_rifr2 = 1.575\n",
    "theta_br_atteso_rad = np.arctan(indice_rifr2/indice_rifr1)\n",
    "theta_br_atteso_deg = np.rad2deg(theta_br_atteso_rad)\n",
    "theta_br_atteso_err = 0\n",
    "print(f\"Theta atteso: {theta_br_atteso_deg :.2f}\")"
   ]
  },
  {
   "cell_type": "markdown",
   "metadata": {},
   "source": [
    "## Trasmissione"
   ]
  },
  {
   "cell_type": "markdown",
   "metadata": {},
   "source": [
    "Per la trasmissione ci sono da escludere le misure dopo gli azzeramenti delle intensità: infatti dopo un certo angolo la tensione torna a crescere perchè il raggio dell'emettitore sorpassa la lastra senza effettuare il fenomeno che vogliamo"
   ]
  },
  {
   "cell_type": "code",
   "execution_count": null,
   "metadata": {},
   "outputs": [],
   "source": [
    "N_misura = 15\n",
    "\n",
    "fig, axs = plt.subplots(1, 2, figsize=(10, 5))\n",
    "axs[0].errorbar(gradi_br, amp_br_tr_oriz, amp_br_tr_err)\n",
    "axs[0].grid()\n",
    "\n",
    "axs[1].errorbar(gradi_br[:N_misura], amp_br_tr_oriz[:N_misura], amp_br_tr_err[:N_misura])\n",
    "axs[1].grid()"
   ]
  },
  {
   "cell_type": "code",
   "execution_count": null,
   "metadata": {},
   "outputs": [],
   "source": [
    "def parabola_complete(x, a, b, c):\n",
    "    return a*(x-b)**2 + c\n",
    "\n",
    "first_point = 8\n",
    "secnd_point = 14\n",
    "\n",
    "dati_br_fit = amp_br_tr_oriz[first_point:secnd_point]\n",
    "dati_br_fit_err = amp_br_tr_err[first_point:secnd_point]\n",
    "gradi_br_fit = gradi_br[first_point:secnd_point]\n",
    "\n",
    "pars2, vals2, ers2, *other2 = LS_fit(gradi_br_fit, dati_br_fit, dati_br_fit_err, parabola_complete, a=-1, b=57, c=0)\n",
    "\n",
    "#test di compatibilità\n",
    "comp_brew_1 = TestCompatibilita(vals2[1], ers2[1], theta_br_atteso_rad, theta_br_atteso_err)\n",
    "\n",
    "#stampa dei risultati\n",
    "print(f\"Theta Brewster: {vals2[1]:.2f} +- {ers2[1]:.2f}\")\n",
    "print(f\"Distanza in deviazioni standard: {comp_brew_1:.2f}\")"
   ]
  },
  {
   "cell_type": "markdown",
   "metadata": {},
   "source": [
    "per spiegare il picco iniziale, le onde vengono riflesse più volte, quindi leggiamo un segnale maggiore. \\\n",
    "per spiegare il picco finale, semplicemente parte delle onde raggiunge il ricevitore inimpedita, quindi non c'è perdita di segnale"
   ]
  },
  {
   "cell_type": "code",
   "execution_count": null,
   "metadata": {},
   "outputs": [],
   "source": [
    "plt.errorbar(gradi_br, amp_br_tr_vert, amp_br_tr_err)\n",
    "plt.grid()\n",
    "plt.show()"
   ]
  },
  {
   "cell_type": "markdown",
   "metadata": {},
   "source": [
    "## Riflessione"
   ]
  },
  {
   "cell_type": "markdown",
   "metadata": {},
   "source": [
    "L'angolo lo abbiamo preso in base alla lastra di polietilene: ruotando la lastra, misuriamo l'angolo e spostiamo l'emettitore in modo da avere 180-2*$\\theta$ (per la legge degli angoli o qualcosa) \\\n",
    "Ad esempio: se lo specchio è a 30°, l'emettitore sarà a 180°-60° = 120°"
   ]
  },
  {
   "cell_type": "code",
   "execution_count": null,
   "metadata": {},
   "outputs": [],
   "source": [
    "# i dati non sono per nulla affidabili, se vogliamo fare sta parte sono da riprendere"
   ]
  },
  {
   "cell_type": "markdown",
   "metadata": {},
   "source": [
    "# DIFFRAZIONE DI BRAGG"
   ]
  },
  {
   "cell_type": "markdown",
   "metadata": {},
   "source": [
    "La condizione di Bragg si verifica quando la differenza di cammino ottico tra i riflessi dai vari piani del cristallo da luogo a interferenza costruttiva:\n",
    "\n",
    "n $\\lambda$ = 2dsin $\\theta$\n",
    "\n",
    "lunghezza d'onda tabulata = 2.85cm\n",
    "\n",
    "Piano parallelo utilizzato famiglia (100) quindi n = 1\n",
    "\n",
    "\n",
    "\n",
    "Giorno 2 abbiamo preso ogni 2 gradi il cubo e di conseguenza 4 gradi il ricevitore \n",
    "a partire da 90 fino a 160\n",
    "\n"
   ]
  },
  {
   "cell_type": "markdown",
   "metadata": {},
   "source": []
  },
  {
   "cell_type": "code",
   "execution_count": null,
   "metadata": {},
   "outputs": [],
   "source": [
    "dati_bragg = pd.read_excel(\"dati_bragg.xlsx\")\n",
    "rad_bragg = np.deg2rad(dati_bragg[\"angolo(giorno2)\"])\n",
    "amp_bragg = dati_bragg[\"tensione(giorno2)\"]\n",
    "amp_bragg_err = [0.03 for i in amp_bragg]"
   ]
  },
  {
   "cell_type": "code",
   "execution_count": null,
   "metadata": {},
   "outputs": [],
   "source": [
    "plt.plot(rad_bragg, amp_bragg)\n",
    "plt.errorbar(rad_bragg, amp_bragg, amp_bragg_err, fmt=\".r\")\n",
    "plt.xlabel(\"Angolo [rad]\")\n",
    "plt.ylabel(\"Tensione [V]\")\n",
    "plt.grid()\n",
    "plt.show()\n",
    "# I vari picchi strani del grafico rappresentano diffrazioni da vari piani oltre al nostro con indici 100"
   ]
  },
  {
   "cell_type": "code",
   "execution_count": null,
   "metadata": {},
   "outputs": [],
   "source": [
    "lambda_true = 2.85 #cm\n",
    "\n",
    "\n",
    "# ho picco ogni volta che si veririca bragg \n",
    "# ovvero ogni volta che lambda = 2dsin(theta)\n",
    "# il modello = lambda_true - 2dsin(theta)\n",
    "# calcolo chi2 a mano sommando i quadrati delle diff\n",
    "# d iniziale 1cm\n",
    "def func(d):\n",
    "    model = lambda_true - (2 * d * np.sin(theta))\n",
    "    return np.sum(((amp_bragg - model)/ amp_bragg_err)**2)\n",
    "\n",
    "m = Minuit(func, d = 1)\n",
    "m.migrad()\n",
    "d_fit = m.values[\"d\"]\n",
    "d_fit_err = m.errors[\"d\"]\n",
    "print(f\"Stima della distanza d: ({d_fit:.4f} ± {d_fit_err:.4f}) cm\")\n",
    "\n"
   ]
  },
  {
   "cell_type": "markdown",
   "metadata": {},
   "source": [
    "# INTERFERENZA"
   ]
  },
  {
   "cell_type": "markdown",
   "metadata": {},
   "source": [
    "## Michelson & Morley"
   ]
  },
  {
   "cell_type": "markdown",
   "metadata": {},
   "source": [
    "**Posizioni iniziali** (distanze dal centro)\n",
    "* emettitore = $26 \\pm 0.3$ cm\n",
    "* ricevitore = $28 \\pm 0.3$ cm\n",
    "* specchio b = $24.2 \\pm 0.3$ cm\n",
    "* specchio a (mobile) = $28.1 \\pm 3$ cm --- segnato = 38.7 cm (sul metro)\n",
    "* lunghezza del supporto = 4.5cm\n"
   ]
  },
  {
   "cell_type": "code",
   "execution_count": null,
   "metadata": {},
   "outputs": [],
   "source": [
    "# minimi passati = 10\n",
    "# errore sulle distanze = 0.2 cm\n",
    "# errore sulle intensità = 0.02 V\n",
    "x1 = 38.7\n",
    "I1 = 0.82\n",
    "x2 = 24.5\n",
    "I2 = 0.87\n",
    "\n",
    "x3 = 43.0\n",
    "I3 = 1.1\n",
    "x4 = 28.8\n",
    "I4 = 0.83\n",
    "\n",
    "x5 = 34.4\n",
    "I5 = 0.83\n",
    "x6 = 20.1\n",
    "I6 = 0.86  "
   ]
  },
  {
   "cell_type": "code",
   "execution_count": null,
   "metadata": {},
   "outputs": [],
   "source": [
    "# Calcolo delle lunghezze d'onda\n",
    "\n",
    "mic_lambda_1 = (x1 - x2) / 10 * 2\n",
    "mic_lambda_2 = (x3 - x4) / 10 * 2\n",
    "mic_lambda_3 = (x5 - x6) / 10 * 2\n",
    "#print(mic_lambda_1 , mic_lambda_2, mic_lambda_3)\n",
    "\n",
    "mic_lambda_err = 0.2 \n",
    "mic_sigma_lambda = np.sqrt(2 * (1/25)**2 * mic_lambda_err**2 ) # da formula della propagazione degli errori\n",
    "\n",
    "mic_lambda_best = np.mean((mic_lambda_1, mic_lambda_2, mic_lambda_3))\n",
    "\n",
    "print(f\"Lambda best = {mic_lambda_best:.3g} +- {mic_sigma_lambda:.3g}\")"
   ]
  },
  {
   "cell_type": "code",
   "execution_count": null,
   "metadata": {},
   "outputs": [],
   "source": [
    "# test compatibilità\n",
    "\n",
    "mic_lambda_comp = TestCompatibilita(mic_lambda_best, mic_sigma_lambda, 2.85, 0)\n",
    "print(f\"Test compatibilità lambda di Michelson: {mic_lambda_comp:.3g}\")"
   ]
  },
  {
   "cell_type": "code",
   "execution_count": null,
   "metadata": {},
   "outputs": [],
   "source": [
    "# relazione intensità non so bene cosa fare\n",
    "\n",
    "# plt.scatter([x1,x2,x3,x4,x5,x6], [I1, I2, I3, I4, I5, I6])\n",
    "# plt.show()"
   ]
  },
  {
   "cell_type": "markdown",
   "metadata": {},
   "source": [
    "## Specchio di Lloyd"
   ]
  },
  {
   "cell_type": "markdown",
   "metadata": {},
   "source": [
    "**Posizioni iniziali** (distanze dal centro)\n",
    "* distanza specchio centro(shift) = $8 \\pm 0.3$ cm\n",
    "Per specchio di Lloyd abbiamo preso la distanza tra ricevitore ed emettitore reale, tra il punto di emissione e quello di ricezione.\n",
    "* supporto-ricevitore = $5.5 \\pm 0.3$ cm\n",
    "* supporto-emettitore = $2.5 \\pm 0.3$ cm\n",
    "* Distanza12 emissione-ricezione = $100 \\pm 1$ cm\n",
    "* Distanza34 emissione-ricezione = $110 \\pm 1$ cm\n"
   ]
  },
  {
   "cell_type": "code",
   "execution_count": null,
   "metadata": {},
   "outputs": [],
   "source": [
    "#Misure prese con specchio sottile\n",
    "#h1 = 10.4\n",
    "#v1 = 1.74\n",
    "#h2 = 16.7\n",
    "#v2 = 1.74\n",
    "#Le misure h sono prese in cm, le misure in v sono prese in volt\n",
    "#Incertezza lunghezza: 0.2 cm, Incertezza intensità: 0.03 volt\n",
    "h_err = 0.2\n",
    "v_err = 0.03\n",
    "\n",
    "# prima misurazione\n",
    "d12 = 100\n",
    "d12_err = 1\n",
    "\n",
    "h1 = 9.9\n",
    "v1 = 1.64\n",
    "h2 = 16.9\n",
    "v2 = 1.7\n",
    "\n",
    "# seconda misurazione\n",
    "d34 = 110\n",
    "d34_err = 1\n",
    "\n",
    "h3 = 10.9\n",
    "v4 = 1.40\n",
    "h4 = 17.2\n",
    "v4 = 1.5\n"
   ]
  },
  {
   "cell_type": "code",
   "execution_count": null,
   "metadata": {},
   "outputs": [],
   "source": [
    "# calcolo n, il numero del minimo per tutte le misurazioni, dato che per ottenere lambda serve n\n",
    "\n",
    "n_1 = lloyd_n_frangia(d12, h1)\n",
    "n_2 = lloyd_n_frangia(d12, h2)\n",
    "n_3 = lloyd_n_frangia(d34, h3)\n",
    "n_4 = lloyd_n_frangia(d34, h4)\n",
    "\n",
    "#calcolo lambda per ogni misurazione\n",
    "lambda_1 = lloyd(d12, h1, n_1)\n",
    "lambda_2 = lloyd(d12, h2, n_2)\n",
    "lambda_3 = lloyd(d34, h3, n_3)\n",
    "lambda_4 = lloyd(d34, h4, n_4)\n",
    "\n",
    "#calcolo errore su lambda\n",
    "lambda_1_err = (np.sqrt(((2*d12 + 2*np.sqrt(4*h1**2 + d12**2))*d12_err)**2 + (8*h1*h_err)**2))/(n_1*np.sqrt(4*h1**2 + d12**2))\n",
    "lambda_2_err = (np.sqrt(((2*d12 + 2*np.sqrt(4*h2**2 + d12**2))*d12_err)**2 + (8*h2*h_err)**2))/(n_2*np.sqrt(4*h2**2 + d12**2))\n",
    "lambda_3_err = (np.sqrt(((2*d34 + 2*np.sqrt(4*h3**2 + d34**2))*d34_err)**2 + (8*h3*h_err)**2))/(n_3*np.sqrt(4*h3**2 + d34**2))\n",
    "lambda_4_err = (np.sqrt(((2*d34 + 2*np.sqrt(4*h4**2 + d34**2))*d34_err)**2 + (8*h4*h_err)**2))/(n_4*np.sqrt(4*h4**2 + d34**2))\n",
    "\n",
    "\n",
    "#stampo i risultati\n",
    "print(f\"Lambda 1 = {lambda_1:.3g} +- {lambda_1_err:.1g}\")\n",
    "print(f\"Lambda 2 = {lambda_2:.3g} +- {lambda_2_err:.1g}\")\n",
    "print(f\"Lambda 3 = {lambda_3:.3g} +- {lambda_3_err:.1g}\")\n",
    "print(f\"Lambda 4 = {lambda_4:.3g} +- {lambda_4_err:.1g}\")\n",
    "\n",
    "# test compatibilità\n",
    "comp_1 = TestCompatibilita(lambda_1, lambda_1_err, 2.85, 0)\n",
    "comp_2 = TestCompatibilita(lambda_2, lambda_2_err, 2.85, 0)\n",
    "comp_3 = TestCompatibilita(lambda_3, lambda_3_err, 2.85, 0)\n",
    "comp_4 = TestCompatibilita(lambda_4, lambda_4_err, 2.85, 0)\n",
    "\n",
    "print(f\"Distanza in deviazioni standard per lambda 1: {comp_1:.3g}\")\n",
    "print(f\"Distanza in deviazioni standard per lambda 2: {comp_2:.3g}\")\n",
    "print(f\"Distanza in deviazioni standard per lambda 3: {comp_3:.3g}\")\n",
    "print(f\"Distanza in deviazioni standard per lambda 4: {comp_4:.3g}\")\n"
   ]
  }
 ],
 "metadata": {
  "kernelspec": {
   "display_name": "Python 3",
   "language": "python",
   "name": "python3"
  },
  "language_info": {
   "codemirror_mode": {
    "name": "ipython",
    "version": 3
   },
   "file_extension": ".py",
   "mimetype": "text/x-python",
   "name": "python",
   "nbconvert_exporter": "python",
   "pygments_lexer": "ipython3",
   "version": "3.11.1"
  }
 },
 "nbformat": 4,
 "nbformat_minor": 2
}
