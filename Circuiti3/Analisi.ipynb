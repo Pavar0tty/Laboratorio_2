{
 "cells": [
  {
   "cell_type": "code",
   "execution_count": null,
   "metadata": {},
   "outputs": [],
   "source": [
    "import numpy as np\n",
    "import pandas as pd\n",
    "import matplotlib.pyplot as plt\n",
    "\n",
    "import sys\n",
    "sys.path.insert(1, '../Config')\n",
    "from lablib import *"
   ]
  },
  {
   "cell_type": "markdown",
   "metadata": {},
   "source": [
    "## Funzioni di trasferimento"
   ]
  },
  {
   "cell_type": "code",
   "execution_count": null,
   "metadata": {},
   "outputs": [],
   "source": [
    "def RC_R(R, C, W):\n",
    "    mod = R/(np.sqrt(R**2 + 1/(W*C)**2))\n",
    "    fase = np.arctan(1/(W*C*R))\n",
    "\n",
    "    return mod, fase\n",
    "\n",
    "def RC_C(R, C, W):\n",
    "    mod = 1/np.sqrt(1+(R*C*W)**2)\n",
    "    fase = np.arctan(R*C*W)\n",
    "\n",
    "    return mod, fase\n",
    "\n",
    "def RL_R(R, L, W):\n",
    "    mod = R/(R**2 + (W*L)**2)\n",
    "    fase = np.arctan(W*L/R)\n",
    "\n",
    "    return mod, fase\n",
    "\n",
    "def RL_L(R, L, W):\n",
    "    mod = W*L/(R**2 + (W*L)**2)\n",
    "    fase = np.arctan(W*L/R)\n",
    "\n",
    "def RLC_R(R,C,L,W):\n",
    "    mod = R/(np.sqrt((R**2)+((W*L)-(1/(W*C))**2)))\n",
    "    fase = np.arctan((((W**2)*L*C)-1)/(W*C*R))\n",
    "    \n",
    "    return mod, fase\n",
    "\n",
    "def RLC_C(R,C,L,W):\n",
    "    mod =  1/(np.sqrt((1-((W**2)*L*C))**2)+((W**2)*(C**2)*(R**2)))\n",
    "    fase = np.arctan((W*C*R)/(1-((W**2)*L*C)))\n",
    "    \n",
    "    return mod, fase\n",
    "\n",
    "\n",
    "def RLC_L(R,C,L,W):\n",
    "    mod = ((W**2)*(L**2))/(np.sqrt((R**2) + ((W*L)-(1/(W*C)))**2))\n",
    "    fase = np.arctan((((W**2)*L*C)-1)/(W*C*R))\n",
    "\n",
    "    return mod, fase"
   ]
  },
  {
   "cell_type": "markdown",
   "metadata": {},
   "source": [
    "# Prima parte RC RL "
   ]
  },
  {
   "cell_type": "markdown",
   "metadata": {},
   "source": [
    "# CIRCUITO RC\n",
    " Capacità utilizzata= $99 \\pm 1$ nF \\\n",
    " Resistenza= $100\\pm 1 \\Omega$ (check)\n",
    " \n",
    " Incertezza fase (CH2-CH1) = $\\pm 1$ \\\n",
    " Incertezza Ampiezza V_in(CH1) = $\\pm 0.05$   Trasportarla su asse x e asse y \\\n",
    " Incertezza Ampiezza V_out (CH2) = $\\pm 0.05$ \\\n",
    " Incertezza differenza (MATH)  = $\\pm 0.01$ \\\n",
    "\n",
    " le fasi nel foglio sono scritte in gradi"
   ]
  },
  {
   "cell_type": "code",
   "execution_count": null,
   "metadata": {},
   "outputs": [],
   "source": [
    "dati1 = pd.read_excel(\"dati_rc.xlsx\")\n",
    "\n",
    "RC_freq = dati1[\"Frequenza\"]\n",
    "RC_amp_A = dati1[\"Ampiezza Va\"]\n",
    "RC_amp_B = dati1[\"Ampiezza Vb\"]\n",
    "RC_amp_ab = dati1[\"Ampiezza Va-b\"]\n",
    "RC_fase_A = dati1[\"ddf a/b\"] \n",
    "RC_fase_AB = dati1[\"ddf a-b/a\"]"
   ]
  },
  {
   "cell_type": "code",
   "execution_count": null,
   "metadata": {},
   "outputs": [],
   "source": [
    "# PLot dati RC resitenza\n",
    "\n",
    "plt.plot(RC_freq, [i/j for i,j in zip(RC_amp_B, RC_amp_A)])\n",
    "plt.scatter(RC_freq, [i/j for i,j in zip(RC_amp_B, RC_amp_A)], color ='r')\n",
    "plt.xscale('log')\n",
    "plt.grid()\n",
    "plt.show()"
   ]
  },
  {
   "cell_type": "code",
   "execution_count": null,
   "metadata": {},
   "outputs": [],
   "source": [
    "#plot dati capacità\n",
    "\n",
    "plt.plot(RC_freq, [i/j for i,j in zip(RC_amp_ab, RC_amp_A)])\n",
    "plt.scatter(RC_freq, [i/j for i,j in zip(RC_amp_ab, RC_amp_A)], color ='r')\n",
    "plt.xscale('log')\n",
    "plt.grid()\n",
    "plt.show()"
   ]
  },
  {
   "cell_type": "markdown",
   "metadata": {},
   "source": [
    "# CIRCUITO RL\n"
   ]
  },
  {
   "cell_type": "markdown",
   "metadata": {},
   "source": [
    "Induttanza utilizzata =   \\\n",
    "Resistenza utilizzata =   \\\n",
    "Incertezza fase =   \\\n",
    "Incertezza ampiezza V_in =  \\ \n",
    "Incertezza ampiezza V_out =  \\\n",
    "Incertezza differenza (MATH) =   \n"
   ]
  },
  {
   "cell_type": "code",
   "execution_count": null,
   "metadata": {},
   "outputs": [],
   "source": []
  },
  {
   "cell_type": "markdown",
   "metadata": {},
   "source": [
    "# CIRCUITO RLC"
   ]
  },
  {
   "cell_type": "markdown",
   "metadata": {},
   "source": [
    "Resistenza utilizzata = \n",
    "Induttanza utilizzata = \n",
    "Capacità utilizzata = \n",
    "\n"
   ]
  }
 ],
 "metadata": {
  "kernelspec": {
   "display_name": "Python 3",
   "language": "python",
   "name": "python3"
  },
  "language_info": {
   "codemirror_mode": {
    "name": "ipython",
    "version": 3
   },
   "file_extension": ".py",
   "mimetype": "text/x-python",
   "name": "python",
   "nbconvert_exporter": "python",
   "pygments_lexer": "ipython3",
   "version": "3.11.1"
  }
 },
 "nbformat": 4,
 "nbformat_minor": 2
}
