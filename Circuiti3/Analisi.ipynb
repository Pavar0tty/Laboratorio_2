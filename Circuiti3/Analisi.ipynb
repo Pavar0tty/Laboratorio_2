{
 "cells": [
  {
   "cell_type": "code",
   "execution_count": null,
   "metadata": {},
   "outputs": [],
   "source": [
    "import numpy as np\n",
    "import pandas as pd\n",
    "import matplotlib.pyplot as plt\n",
    "\n",
    "import sys\n",
    "sys.path.insert(1, '../Config')\n",
    "from lablib import *"
   ]
  },
  {
   "cell_type": "markdown",
   "metadata": {},
   "source": [
    "## Funzioni di trasferimento"
   ]
  },
  {
   "cell_type": "code",
   "execution_count": null,
   "metadata": {},
   "outputs": [],
   "source": [
    "def RC_R():\n",
    "    def mod(W, R, C):\n",
    "        return R/(np.sqrt(R**2 + 1/(W*C)**2))\n",
    "    def fase(W, R, C):\n",
    "        return -np.arctan(1/(W*C*R))\n",
    "    return mod, fase\n",
    "\n",
    "def RC_C():\n",
    "\n",
    "    def mod(W, R, C):\n",
    "        return 1/(np.sqrt(1+(R*C*W)**2))\n",
    "    def fase(W, R, C):\n",
    "        return np.arctan(R*C*W)\n",
    "    return mod, fase\n",
    "\n",
    "def RL_R():\n",
    "    def mod(W, R, L):\n",
    "        return R/(R**2 + (W*L)**2)\n",
    "    def fase(W, R, L):\n",
    "        return np.arctan(W*L/R)\n",
    "    return mod, fase\n",
    "\n",
    "def RL_L():\n",
    "    def mod(W, R, L):\n",
    "        return W*L/(R**2 + (W*L)**2)\n",
    "    def fase(W, R, L):\n",
    "        return np.arctan(W*L/R)\n",
    "    return mod, fase\n",
    "\n",
    "def RLC_R():\n",
    "\n",
    "    def mod(W, R, C, L):\n",
    "        return R/(np.sqrt(R**2 + (W*L - 1/(W*C))**2))\n",
    "    def fase(W, R, C, L):\n",
    "        return np.arctan((W*L*C - 1)/(W*C*R))\n",
    "    return mod, fase\n",
    "\n",
    "def RLC_C():\n",
    "    def mod(W, R, C, L):\n",
    "        return 1/(np.sqrt((1 - (W**2)*L*C)**2 + (W*C*R)**2))\n",
    "    def fase(W, R, C, L):\n",
    "        return np.arctan(W*C*R/(1 - (W**2)*L*C))\n",
    "    return mod, fase\n",
    "\n",
    "\n",
    "def RLC_L():\n",
    "    def mod(W, R, C, L):\n",
    "        return W*L/(np.sqrt((1 - (W**2)*L*C)**2 + (W*C*R)**2))\n",
    "    def fase(W, R, C, L):\n",
    "        return np.arctan((1 - (W**2)*L*C)/(W*C*R))\n",
    "    return mod, fase"
   ]
  },
  {
   "cell_type": "markdown",
   "metadata": {},
   "source": [
    "# Prima parte RC RL "
   ]
  },
  {
   "cell_type": "markdown",
   "metadata": {},
   "source": [
    "# CIRCUITO RC\n",
    " Capacità utilizzata= $99 \\pm 1$ nF \\\n",
    " Resistenza= $100\\pm 1 \\Omega$ (check)\n",
    " \n",
    " Incertezza fase (CH2-CH1) = $\\pm 1$ \\\n",
    " Incertezza Ampiezza V_in(CH1) = $\\pm 0.05$   Trasportarla su asse x e asse y \\\n",
    " Incertezza Ampiezza V_out (CH2) = $\\pm 0.05$ \\\n",
    " Incertezza differenza (MATH)  = $\\pm 0.01$ \\\n",
    "\n",
    " le fasi nel foglio sono scritte in gradi"
   ]
  },
  {
   "cell_type": "code",
   "execution_count": null,
   "metadata": {},
   "outputs": [],
   "source": [
    "dati1 = pd.read_excel(\"dati_rc.xlsx\")\n",
    "RC_freq, RC_amp_A, RC_amp_B, RC_amp_ab, RC_fase_A, RC_fase_AB = dati1.iloc[:, 0:6].values.T\n",
    "# .T serve a trasporre la matrice, ovvero a scambiare righe e colonne"
   ]
  },
  {
   "cell_type": "code",
   "execution_count": null,
   "metadata": {},
   "outputs": [],
   "source": [
    "# PLot dati RC resitenza\n",
    "\n",
    "RC_H_R = [i/j for i,j in zip(RC_amp_B, RC_amp_A)]\n",
    "\n",
    "\n",
    "plt.plot(RC_freq,RC_H_R, marker = 'o')\n",
    "plt.xscale('log')\n",
    "plt.grid()\n",
    "plt.show()"
   ]
  },
  {
   "cell_type": "code",
   "execution_count": null,
   "metadata": {},
   "outputs": [],
   "source": [
    "# fit dati resistenza\n",
    "\n",
    "Res = 100 #ohm\n",
    "Cap = 100e-9 #farad\n",
    "\n",
    "rc_mod, rc_fase = RC_R()\n",
    "V_err = [0.05]*len(RC_H_R)\n",
    "\n",
    "pars1, vals1, ers1, *other1 = LS_fit(RC_freq, RC_H_R, V_err, rc_mod, R = Res, C = Cap)\n",
    "# separare le funzioni sopra"
   ]
  },
  {
   "cell_type": "code",
   "execution_count": null,
   "metadata": {},
   "outputs": [],
   "source": [
    "x = np.linspace(1, 3000000, 1000)\n",
    "y = rc_fase(x, Res, Cap)\n",
    "\n",
    "plt.scatter(RC_freq, [np.deg2rad(i) for i in RC_fase_AB],marker='.', c='r')\n",
    "plt.plot(x, y)\n",
    "plt.grid()\n",
    "plt.show()"
   ]
  },
  {
   "cell_type": "code",
   "execution_count": null,
   "metadata": {},
   "outputs": [],
   "source": []
  },
  {
   "cell_type": "code",
   "execution_count": null,
   "metadata": {},
   "outputs": [],
   "source": [
    "#plot dati capacità\n",
    "\n",
    "RC_H_C = [i/j for i,j in zip(RC_amp_ab, RC_amp_A)]\n",
    "\n",
    "plt.plot(RC_freq, RC_H_C, marker='o')\n",
    "plt.xscale('log')\n",
    "plt.grid()\n",
    "plt.show()"
   ]
  },
  {
   "cell_type": "markdown",
   "metadata": {},
   "source": [
    "# CIRCUITO RL\n"
   ]
  },
  {
   "cell_type": "markdown",
   "metadata": {},
   "source": [
    "Induttanza utilizzata =   \\\n",
    "Resistenza utilizzata =   \\\n",
    "Incertezza fase =   \\\n",
    "Incertezza ampiezza V_in =  \\ \n",
    "Incertezza ampiezza V_out =  \\\n",
    "Incertezza differenza (MATH) =   \n"
   ]
  },
  {
   "cell_type": "code",
   "execution_count": null,
   "metadata": {},
   "outputs": [],
   "source": []
  },
  {
   "cell_type": "markdown",
   "metadata": {},
   "source": [
    "# CIRCUITO RLC"
   ]
  },
  {
   "cell_type": "markdown",
   "metadata": {},
   "source": [
    "Resistenza utilizzata = \n",
    "Induttanza utilizzata = \n",
    "Capacità utilizzata = \n",
    "\n"
   ]
  }
 ],
 "metadata": {
  "kernelspec": {
   "display_name": "Python 3",
   "language": "python",
   "name": "python3"
  },
  "language_info": {
   "codemirror_mode": {
    "name": "ipython",
    "version": 3
   },
   "file_extension": ".py",
   "mimetype": "text/x-python",
   "name": "python",
   "nbconvert_exporter": "python",
   "pygments_lexer": "ipython3",
   "version": "3.11.1"
  }
 },
 "nbformat": 4,
 "nbformat_minor": 2
}
