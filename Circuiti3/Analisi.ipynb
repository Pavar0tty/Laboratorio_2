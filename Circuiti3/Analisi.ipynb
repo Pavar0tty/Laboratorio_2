{
 "cells": [
  {
   "cell_type": "code",
   "execution_count": null,
   "metadata": {},
   "outputs": [],
   "source": [
    "import numpy as np\n",
    "import pandas as pd\n",
    "import matplotlib.pyplot as plt\n",
    "\n",
    "import sys\n",
    "sys.path.insert(1, '../Config')\n",
    "from lablib import *"
   ]
  },
  {
   "cell_type": "markdown",
   "metadata": {},
   "source": [
    "## Funzioni di trasferimento"
   ]
  },
  {
   "cell_type": "code",
   "execution_count": null,
   "metadata": {},
   "outputs": [],
   "source": [
    "def RC_R():\n",
    "    def mod(W, R, C):\n",
    "        return R/(np.sqrt(R**2 + 1/(W*C)**2))\n",
    "    def fase(W, R, C):\n",
    "        return np.arctan(1/(W*C*R))\n",
    "    return mod, fase\n",
    "\n",
    "def RC_C():\n",
    "\n",
    "    def mod(W, R, C):\n",
    "        return 1/(np.sqrt(1+(R*C*W)**2))\n",
    "    def fase(W, R, C):\n",
    "        return np.arctan(R*C*W)\n",
    "    return mod, fase\n",
    "\n",
    "def RL_R():\n",
    "    def mod(W, R, L):\n",
    "        return R/(R**2 + (W*L)**2)\n",
    "    def fase(W, R, L):\n",
    "        return np.arctan(W*L/R)\n",
    "    return mod, fase\n",
    "\n",
    "def RL_L():\n",
    "    def mod(W, R, L):\n",
    "        return W*L/(R**2 + (W*L)**2)\n",
    "    def fase(W, R, L):\n",
    "        return np.arctan(W*L/R)\n",
    "    return mod, fase\n",
    "\n",
    "def RLC_R():\n",
    "\n",
    "    def mod(W, R, C, L):\n",
    "        return R/(np.sqrt(R**2 + (W*L - 1/(W*C))**2))\n",
    "    def fase(W, R, C, L):\n",
    "        return np.arctan((W*L*C - 1)/(W*C*R))\n",
    "    return mod, fase\n",
    "\n",
    "def RLC_C():\n",
    "    def mod(W, R, C, L):\n",
    "        return 1/(np.sqrt((1 - (W**2)*L*C)**2 + (W*C*R)**2))\n",
    "    def fase(W, R, C, L):\n",
    "        return np.arctan(W*C*R/(1 - (W**2)*L*C))\n",
    "    return mod, fase\n",
    "\n",
    "\n",
    "def RLC_L():\n",
    "    def mod(W, R, C, L):\n",
    "        return W*L/(np.sqrt((1 - (W**2)*L*C)**2 + (W*C*R)**2))\n",
    "    def fase(W, R, C, L):\n",
    "        return np.arctan((1 - (W**2)*L*C)/(W*C*R))\n",
    "    return mod, fase"
   ]
  },
  {
   "cell_type": "markdown",
   "metadata": {},
   "source": [
    "# Prima parte RC RL "
   ]
  },
  {
   "cell_type": "markdown",
   "metadata": {},
   "source": [
    "# CIRCUITO RC\n",
    " Capacità utilizzata= $99 \\pm 1$ nF \\\n",
    " Resistenza= $100\\pm 1 \\Omega$ (check)\n",
    " \n",
    " Incertezza fase (CH2-CH1) = $\\pm 1$ \\\n",
    " Incertezza Ampiezza V_in(CH1) = $\\pm 0.05$   Trasportarla su asse x e asse y \\\n",
    " Incertezza Ampiezza V_out (CH2) = $\\pm 0.05$ \\\n",
    " Incertezza differenza (MATH)  = $\\pm 0.01$ \\\n",
    "\n",
    " le fasi nel foglio sono scritte in gradi \\ \n",
    "\n",
    " **R E C SONO SBAGLIATE**"
   ]
  },
  {
   "cell_type": "code",
   "execution_count": null,
   "metadata": {},
   "outputs": [],
   "source": [
    "dati1 = pd.read_excel(\"dati_rc.xlsx\")\n",
    "RC_freq, RC_amp_A, RC_amp_B, RC_amp_ab, RC_r_fase_A, RC_r_fase_AB = dati1.iloc[:, 0:6].values.T\n",
    "# .T serve a trasporre la matrice, ovvero a scambiare righe e colonne"
   ]
  },
  {
   "cell_type": "markdown",
   "metadata": {},
   "source": [
    "### Resistenza"
   ]
  },
  {
   "cell_type": "code",
   "execution_count": null,
   "metadata": {},
   "outputs": [],
   "source": [
    "# PLot dati RC resitenza\n",
    "\n",
    "RC_H_R = [i/j for i,j in zip(RC_amp_B, RC_amp_A)]\n",
    "RC_R_err = [0.05]*len(RC_H_R)\n",
    "\n",
    "rc_r_mod, rc_r_fase = RC_R()\n",
    "x = np.linspace(min(RC_freq), max(RC_freq), 1000)\n",
    "Res = 100 #ohm\n",
    "Cap = 100e-9 #farad\n",
    "\n",
    "plt.errorbar(RC_freq, RC_H_R, RC_R_err, fmt = '.r', label = \"Dati\")\n",
    "plt.plot(RC_freq, rc_r_mod(RC_freq, Res, Cap), label = \"Modello\")\n",
    "plt.xscale('log')\n",
    "plt.title(\"$H_R$ vs $\\omega$\")\n",
    "plt.grid()\n",
    "plt.legend()\n",
    "plt.show()"
   ]
  },
  {
   "cell_type": "code",
   "execution_count": null,
   "metadata": {},
   "outputs": [],
   "source": [
    "# fit dati resistenza\n",
    "\n",
    "pars1, vals1, ers1, *other1 = LS_fit(RC_freq, RC_H_R, RC_R_err, rc_r_mod, R = Res, C = Cap)\n",
    "# separare le funzioni sopra"
   ]
  },
  {
   "cell_type": "code",
   "execution_count": null,
   "metadata": {},
   "outputs": [],
   "source": [
    "#plot resistenza fase\n",
    "\n",
    "plt.errorbar(RC_freq, [np.deg2rad(i) for i in RC_r_fase_A], RC_R_err, fmt='.r', label='Dati')\n",
    "plt.plot(x, rc_r_fase(x, Res, Cap), label='Modello')\n",
    "plt.xscale('log')\n",
    "plt.title(\"$\\phi_R$ vs $\\omega$\")\n",
    "plt.grid()\n",
    "plt.legend()\n",
    "plt.show()"
   ]
  },
  {
   "cell_type": "code",
   "execution_count": null,
   "metadata": {},
   "outputs": [],
   "source": [
    "# fit resistenza fase\n",
    "\n",
    "RC_F_err = [np.deg2rad(2)]*len(RC_r_fase_A)\n",
    "\n",
    "pars2, vals2, ers2, *other2 = LS_fit(RC_freq, [np.deg2rad(i) for i in RC_r_fase_A], \n",
    "                                     RC_F_err, rc_r_fase, R = Res, C = Cap)\n"
   ]
  },
  {
   "cell_type": "markdown",
   "metadata": {},
   "source": [
    "### Capacita"
   ]
  },
  {
   "cell_type": "code",
   "execution_count": null,
   "metadata": {},
   "outputs": [],
   "source": [
    "#plot dati RC capacità\n",
    "\n",
    "RC_H_C = [i/j for i,j in zip(RC_amp_ab, RC_amp_A)]\n",
    "RC_C_err = [.05]*len(RC_H_C)\n",
    "rc_c_mod, rc_c_fase = RC_C()\n",
    "\n",
    "plt.errorbar(RC_freq, RC_H_C, RC_C_err, fmt='.r', label='Dati')\n",
    "plt.plot(x, rc_c_mod(x, Res, Cap), label='Modello')\n",
    "plt.xscale('log')\n",
    "plt.legend()\n",
    "plt.grid()\n",
    "plt.show()"
   ]
  },
  {
   "cell_type": "code",
   "execution_count": null,
   "metadata": {},
   "outputs": [],
   "source": [
    "# fit RC capacità\n",
    "\n",
    "pars3, vals3, ers3, *other3 = LS_fit(RC_freq, RC_H_C, RC_C_err, rc_c_mod, R = Res, C = Cap)"
   ]
  },
  {
   "cell_type": "code",
   "execution_count": null,
   "metadata": {},
   "outputs": [],
   "source": [
    "#plot RC capacità fase\n",
    "\n",
    "plt.errorbar(RC_freq, [np.deg2rad(i) for i in RC_r_fase_AB], RC_F_err, fmt='.r', label='Dati')\n",
    "plt.plot(x, rc_c_fase(x, Res, Cap), label='Modello')\n",
    "plt.xscale('log')\n",
    "plt.title(\"$\\phi_C$ vs $\\omega$\")\n",
    "plt.grid()\n",
    "plt.legend()\n",
    "plt.show()"
   ]
  },
  {
   "cell_type": "markdown",
   "metadata": {},
   "source": [
    "# CIRCUITO RL\n"
   ]
  },
  {
   "cell_type": "markdown",
   "metadata": {},
   "source": [
    "Induttanza utilizzata =   \\\n",
    "Resistenza utilizzata =   \\\n",
    "Incertezza fase =   \\\n",
    "Incertezza ampiezza V_in =  \\ \n",
    "Incertezza ampiezza V_out =  \\\n",
    "Incertezza differenza (MATH) =   \n"
   ]
  },
  {
   "cell_type": "code",
   "execution_count": null,
   "metadata": {},
   "outputs": [],
   "source": []
  },
  {
   "cell_type": "markdown",
   "metadata": {},
   "source": [
    "# CIRCUITO RLC"
   ]
  },
  {
   "cell_type": "markdown",
   "metadata": {},
   "source": [
    "Resistenza utilizzata = \n",
    "Induttanza utilizzata = \n",
    "Capacità utilizzata = \n",
    "\n"
   ]
  }
 ],
 "metadata": {
  "kernelspec": {
   "display_name": "Python 3",
   "language": "python",
   "name": "python3"
  },
  "language_info": {
   "codemirror_mode": {
    "name": "ipython",
    "version": 3
   },
   "file_extension": ".py",
   "mimetype": "text/x-python",
   "name": "python",
   "nbconvert_exporter": "python",
   "pygments_lexer": "ipython3",
   "version": "3.11.1"
  }
 },
 "nbformat": 4,
 "nbformat_minor": 2
}
