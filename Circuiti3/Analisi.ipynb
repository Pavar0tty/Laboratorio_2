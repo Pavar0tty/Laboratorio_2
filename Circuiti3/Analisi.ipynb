{
 "cells": [
  {
   "cell_type": "code",
   "execution_count": null,
   "metadata": {},
   "outputs": [],
   "source": [
    "import numpy as np\n",
    "import pandas as pd\n",
    "import matplotlib.pyplot as plt\n",
    "\n",
    "import sys\n",
    "sys.path.insert(1, '../Config')\n",
    "from lablib import *"
   ]
  },
  {
   "cell_type": "markdown",
   "metadata": {},
   "source": [
    "## TODO\n",
    "\n",
    "- risolvere la funzione che va sopra 1\n",
    "- risolvere le fasi di RL fottute\n",
    "- riconsiderare gli errori"
   ]
  },
  {
   "cell_type": "markdown",
   "metadata": {},
   "source": [
    "## Funzioni di trasferimento"
   ]
  },
  {
   "cell_type": "code",
   "execution_count": null,
   "metadata": {},
   "outputs": [],
   "source": [
    "pi = np.pi\n",
    "\n",
    "def RC_R():\n",
    "    def mod(W, R, C):\n",
    "        return R/(np.sqrt(R**2 + 1/(W*C)**2))\n",
    "    def fase(W, R, C):\n",
    "        return np.arctan(1/(W*C*R))\n",
    "    return mod, fase\n",
    "\n",
    "def RC_C():\n",
    "    def mod(W, R, C):\n",
    "        return 1/(np.sqrt(1+(R*C*W)**2))\n",
    "    def fase(W, R, C):\n",
    "        return np.arctan(R*C*W)\n",
    "    return mod, fase\n",
    "\n",
    "def RL_R():\n",
    "    def mod(W, R, L):\n",
    "        return R/(np.sqrt(R**2 + (W*L)**2))\n",
    "    def fase(W, R, L):\n",
    "        return np.arctan(W*L/R)\n",
    "    return mod, fase\n",
    "\n",
    "def RL_L():\n",
    "    def mod(W, R, L):\n",
    "        return W*L/(np.sqrt(R**2 + (W*L)**2))\n",
    "    def fase(W, R, L):\n",
    "        return np.arctan(W*L/R) - pi/2\n",
    "    return mod, fase\n",
    "\n",
    "def RLC_R():\n",
    "    def mod(W, R, L, C):\n",
    "        return R/(np.sqrt(R**2 + (W*L - 1/(W*C))**2))\n",
    "    def fase(W, R, L, C):\n",
    "        return np.arctan(((W**2)*L*C - 1)/(W*C*R))\n",
    "    return mod, fase\n",
    "\n",
    "def RLC_C():\n",
    "    def mod(W, R, L, C):\n",
    "        return 1/(np.sqrt((1 - (W**2)*L*C)**2 + (W*C*R)**2))\n",
    "    def fase(W, R, L, C):\n",
    "        return np.arctan(W*C*R/(1 - (W**2)*L*C))\n",
    "    return mod, fase\n",
    "\n",
    "\n",
    "def RLC_L():\n",
    "    def mod(W, R, L, C):\n",
    "        return W*L/(np.sqrt((1 - (W**2)*L*C)**2 + (W*C*R)**2))\n",
    "    def fase(W, R, L, C):\n",
    "        return np.arctan((1 - (W**2)*L*C)/(W*C*R))\n",
    "    return mod, fase\n",
    "\n",
    "def RLC_LC():\n",
    "    def mod(W, R, L, C):\n",
    "        return (1-(W**2)*L*C)/(np.sqrt((1-(W**2)*L*C)**2 + (R*W*C)**2))\n",
    "    def fase (W, R, L, C):\n",
    "        return np.arctan((R*W*C)/(1-(W**2)*L*C))\n",
    "    return mod, fase"
   ]
  },
  {
   "cell_type": "markdown",
   "metadata": {},
   "source": [
    "# Prima parte RC RL "
   ]
  },
  {
   "cell_type": "markdown",
   "metadata": {},
   "source": [
    "## CIRCUITO RC\n",
    " Capacità utilizzata= $99 \\pm 1$ nF \\\n",
    " Resistenza= $100\\pm 1 \\Omega$ (check)\n",
    " \n",
    " Incertezza fase (CH2-CH1) = $\\pm 1$ \\\n",
    " Incertezza Ampiezza V_in(CH1) = $\\pm 0.05$   Trasportarla su asse x e asse y \\\n",
    " Incertezza Ampiezza V_out (CH2) = $\\pm 0.05$ \\\n",
    " Incertezza differenza (MATH)  = $\\pm 0.01$ \\\n",
    "\n",
    " le fasi nel foglio sono scritte in gradi \\ \n",
    "\n",
    " Per il voltaggio a capo di Z bisogna sottrarre a mano V_a e V_b\n",
    "\n",
    " **R E C SONO SBAGLIATE**"
   ]
  },
  {
   "cell_type": "code",
   "execution_count": null,
   "metadata": {},
   "outputs": [],
   "source": [
    "dati1 = pd.read_excel(\"dati_rc.xlsx\")\n",
    "RC_freq, RC_amp_A, RC_amp_B, RC_amp_AB, RC_fase_A, RC_fase_AB = dati1.iloc[:, 0:6].values.T\n",
    "# .T serve a trasporre la matrice, ovvero a scambiare righe e colonne"
   ]
  },
  {
   "cell_type": "markdown",
   "metadata": {},
   "source": [
    "### Resistenza"
   ]
  },
  {
   "cell_type": "markdown",
   "metadata": {},
   "source": [
    "#### Modulo"
   ]
  },
  {
   "cell_type": "code",
   "execution_count": null,
   "metadata": {},
   "outputs": [],
   "source": [
    "# PLot dati RC_R resistenza\n",
    "RC_H_R = [i/j for i,j in zip(RC_amp_B, RC_amp_A)]\n",
    "RC_R_err = [0.01]*len(RC_H_R)\n",
    "RC_vel_ang = RC_freq*2*pi\n",
    "\n",
    "rc_r_mod, rc_r_fase = RC_R()\n",
    "x = np.linspace(min(RC_vel_ang), max(RC_vel_ang), 10000)\n",
    "Res_RC = 100 #ohm\n",
    "Cap_RC = 100e-9 #farad\n",
    "\n",
    "plt.errorbar(RC_vel_ang, RC_H_R, RC_R_err, fmt = '.r', label = \"Dati\")\n",
    "plt.plot(x, rc_r_mod(x, Res_RC, Cap_RC), label = \"Modello\")\n",
    "plt.xscale('log')\n",
    "plt.title(\"$H_R$ vs $\\omega$\")\n",
    "plt.grid()\n",
    "plt.legend()\n",
    "plt.show()\n",
    "\n",
    "# il mio amico piu' esperto di noi dice che potrebbe essersi formato un\n",
    "# trasformatore (correnti induttive) che fotte i dati "
   ]
  },
  {
   "cell_type": "code",
   "execution_count": null,
   "metadata": {},
   "outputs": [],
   "source": [
    "# fit dati resistenza\n",
    "\n",
    "pars1, vals1, ers1, *other1 = LS_fit(RC_vel_ang, RC_H_R, RC_R_err, rc_r_mod, R = Res_RC, C = Cap_RC)\n",
    "\n",
    "for res, val, err in zip(pars1, vals1, ers1):\n",
    "    print(f\"{res} = {val:.4g} +- {err:.4g}\")"
   ]
  },
  {
   "cell_type": "code",
   "execution_count": null,
   "metadata": {},
   "outputs": [],
   "source": [
    "# fit dati resistenza (con fattore correttivo)\n",
    "\n",
    "def RC_R_just():\n",
    "    def mod(W, R, C, a):\n",
    "        return a*R/(np.sqrt(R**2 + 1/(W*C)**2))\n",
    "    def fase(W, R, C):\n",
    "        return np.arctan(1/(W*C*R))\n",
    "    return mod, fase\n",
    "\n",
    "rc_r_mod_just, rc_r_fase_just = RC_R_just()\n",
    "\n",
    "pars1_5, vals1_5, ers1_5, *other1_5 = LS_fit(RC_vel_ang, RC_H_R, RC_R_err, rc_r_mod_just, R = Res_RC, C = Cap_RC, a = 1) # separare le funzioni sopra\n",
    "\n",
    "for i, j, k in zip(pars1_5, vals1_5, ers1_5):\n",
    "    print(f\"{i} = {j:.4g} +- {k:.4g}\")"
   ]
  },
  {
   "cell_type": "code",
   "execution_count": null,
   "metadata": {},
   "outputs": [],
   "source": [
    "# PLot dati RC_R con fattore correttivo\n",
    "\n",
    "A = vals1_5[2] #fattore correttivo\n",
    "\n",
    "plt.errorbar(RC_vel_ang, RC_H_R, RC_R_err, fmt = '.r', label = \"Dati\")\n",
    "plt.plot(RC_vel_ang, rc_r_mod_just(RC_vel_ang, Res_RC, Cap_RC, a = A), label = \"Modello\")\n",
    "plt.xscale('log')\n",
    "plt.title(\"$H_R$ vs $\\omega$ (con fattore correttivo)\")\n",
    "plt.grid()\n",
    "plt.legend()\n",
    "plt.show()"
   ]
  },
  {
   "cell_type": "markdown",
   "metadata": {},
   "source": [
    "#### Fase"
   ]
  },
  {
   "cell_type": "code",
   "execution_count": null,
   "metadata": {},
   "outputs": [],
   "source": [
    "#plot resistenza fase\n",
    "\n",
    "plt.errorbar(RC_vel_ang, [np.deg2rad(i) for i in RC_fase_A], RC_R_err, fmt='.r', label='Dati')\n",
    "plt.plot(x, rc_r_fase(x, Res_RC, Cap_RC), label='Modello')\n",
    "plt.xscale('log')\n",
    "plt.title(\"$\\phi_R$ vs $\\omega$\")\n",
    "plt.grid()\n",
    "plt.legend()\n",
    "plt.show()"
   ]
  },
  {
   "cell_type": "code",
   "execution_count": null,
   "metadata": {},
   "outputs": [],
   "source": [
    "# fit resistenza fase\n",
    "\n",
    "RC_F_err = [np.deg2rad(2)]*len(RC_fase_A)\n",
    "\n",
    "pars2, vals2, ers2, *other2 = LS_fit(RC_vel_ang, [np.deg2rad(i) for i in RC_fase_A], \n",
    "                                     RC_F_err, rc_r_fase, R = Res_RC, C = Cap_RC)\n",
    "\n",
    "for i, j, k in zip(pars2, vals2, ers2):\n",
    "    print(f\"{i} = {j:.3g} pm {k:.3g}\")"
   ]
  },
  {
   "cell_type": "markdown",
   "metadata": {},
   "source": [
    "### Capacità"
   ]
  },
  {
   "cell_type": "markdown",
   "metadata": {},
   "source": [
    "#### Modulo"
   ]
  },
  {
   "cell_type": "code",
   "execution_count": null,
   "metadata": {},
   "outputs": [],
   "source": [
    "#plot dati RC capacità\n",
    "\n",
    "RC_H_C = [i/j for i,j in zip(RC_amp_AB, RC_amp_A)]\n",
    "RC_C_err = [.02]*len(RC_H_C)\n",
    "rc_c_mod, rc_c_fase = RC_C()\n",
    "\n",
    "plt.errorbar(RC_vel_ang, RC_H_C, RC_C_err, fmt='.r', label='Dati')\n",
    "plt.plot(x, rc_c_mod(x, Res_RC, Cap_RC), label='Modello')\n",
    "plt.xscale('log')\n",
    "plt.title(\"$H_C$ vs $\\omega$\")\n",
    "plt.legend()\n",
    "plt.grid()\n",
    "plt.show()"
   ]
  },
  {
   "cell_type": "markdown",
   "metadata": {},
   "source": [
    "**Da notare che per alte frequenze non corrisponde piu'** \\\n",
    "Stesso comportamento di quanto verificato per la resistenza sopra. \\\n",
    "Questo fa pensare ad un errore comune"
   ]
  },
  {
   "cell_type": "code",
   "execution_count": null,
   "metadata": {},
   "outputs": [],
   "source": [
    "# fit RC capacità\n",
    "\n",
    "pars3, vals3, ers3, *other3 = LS_fit(RC_vel_ang, RC_H_C, RC_C_err, rc_c_mod, R = Res_RC, C = Cap_RC)"
   ]
  },
  {
   "cell_type": "code",
   "execution_count": null,
   "metadata": {},
   "outputs": [],
   "source": [
    "# fit RC capacità con fattori correttivi\n",
    "\n",
    "def RC_C_just():\n",
    "    def mod(W, R, C, a, b):\n",
    "        return a/(np.sqrt(1+(R*C*W)**2)) + b\n",
    "    def fase(W, R, C, a, b):\n",
    "        return a*np.arctan(R*C*W) + b\n",
    "    return mod, fase\n",
    "\n",
    "rc_c_mod_just, rc_c_fase_just = RC_C_just()\n",
    "\n",
    "pars3_5, vals3_5, ers3_5, *other3_5 = LS_fit(RC_vel_ang, RC_H_C, RC_C_err, rc_c_mod_just, R = Res_RC, C = Cap_RC, a = 1, b = 0)\n",
    "\n",
    "for i, j, k in zip(pars3_5, vals3_5, ers3_5):\n",
    "    print(f\"{i} = {j:.3g} pm {k:.3g}\")"
   ]
  },
  {
   "cell_type": "code",
   "execution_count": null,
   "metadata": {},
   "outputs": [],
   "source": [
    "# plot RC capacità con fattori correttivi\n",
    "\n",
    "plt.errorbar(RC_vel_ang, RC_H_C, RC_C_err, fmt='.r', label='Dati')\n",
    "plt.plot(x, rc_c_mod_just(x, Res_RC, Cap_RC, a = vals3_5[2], b = vals3_5[3]), label='Modello')\n",
    "plt.xscale('log')\n",
    "plt.title(\"$H_C$ vs $\\omega$ (con fattori correttivi)\")\n",
    "plt.legend()\n",
    "plt.grid()\n",
    "plt.show()"
   ]
  },
  {
   "cell_type": "markdown",
   "metadata": {},
   "source": [
    "#### Fase"
   ]
  },
  {
   "cell_type": "code",
   "execution_count": null,
   "metadata": {},
   "outputs": [],
   "source": [
    "#plot RC capacità fase\n",
    "\n",
    "plt.errorbar(RC_vel_ang, [np.deg2rad(i) for i in RC_fase_AB], RC_F_err, fmt='.r', label='Dati')\n",
    "plt.plot(x, rc_c_fase(x, Res_RC, Cap_RC), label='Modello')\n",
    "plt.xscale('log')\n",
    "plt.title(\"$\\phi_C$ vs $\\omega$\")\n",
    "plt.grid()\n",
    "plt.legend()\n",
    "plt.show()\n"
   ]
  },
  {
   "cell_type": "code",
   "execution_count": null,
   "metadata": {},
   "outputs": [],
   "source": [
    "#tentativo correzione RC capacità fase\n",
    "\n",
    "# RC_fase_AB_just = RC_fase_AB/2\n",
    "\n",
    "# plt.errorbar(RC_vel_ang, [np.deg2rad(i) for i in RC_fase_AB_just], RC_F_err, fmt='.r', label='Dati')      #se divido per due riscalo tutti i dati\n",
    "# plt.plot(x, rc_c_fase(x, Res_RC, Cap_RC), label='Modello')\n",
    "# plt.xscale('log')\n",
    "# plt.title(\"$\\phi_C$ vs $\\omega$  (con fattore correttivo)\")\n",
    "# plt.grid()\n",
    "# plt.legend()\n",
    "# plt.show()"
   ]
  },
  {
   "cell_type": "code",
   "execution_count": null,
   "metadata": {},
   "outputs": [],
   "source": [
    "# Tentativo di fit capacita fase \n",
    "# (correzione: ho aggiunto la divisione per due in np.def2rad(i))\n",
    "\n",
    "\n",
    "# pars4, vals4, ers4, *other4 = LS_fit(RC_vel_ang, [np.deg2rad(i)/2 for i in RC_fase_AB], \n",
    "#                                      RC_F_err, rc_c_fase, R = Res_RC, C = Cap_RC)"
   ]
  },
  {
   "cell_type": "code",
   "execution_count": null,
   "metadata": {},
   "outputs": [],
   "source": [
    "# Tentativo di fit capacita fase con fattori correttivi\n",
    "\n",
    "pars4_5, vals4_5, ers4_5, *other4_5 = LS_fit(RC_vel_ang, [np.deg2rad(i)/2 for i in RC_fase_AB], RC_F_err, \n",
    "                                             rc_c_fase_just, R = Res_RC, C = Cap_RC, a = 1, b = 0)\n",
    "\n",
    "for i, j, k in zip(pars4_5, vals4_5, ers4_5):\n",
    "    print(f\"{i} = {j:.3g} pm {k:.3g}\")"
   ]
  },
  {
   "cell_type": "code",
   "execution_count": null,
   "metadata": {},
   "outputs": [],
   "source": [
    "# plot RC capacità fase con fattori correttivi\n",
    "\n",
    "plt.errorbar(RC_vel_ang, [np.deg2rad(i)/2 for i in RC_fase_AB], RC_F_err, fmt='.r', label='Dati')\n",
    "plt.plot(x, rc_c_fase_just(x, Res_RC, Cap_RC, a = vals4_5[2], b = vals4_5[3]), label='Modello')\n",
    "plt.xscale('log')\n",
    "plt.title(\"$\\phi_C$ vs $\\omega$ (con fattori correttivi)\")\n",
    "plt.grid()\n",
    "plt.legend()\n",
    "plt.show()"
   ]
  },
  {
   "cell_type": "markdown",
   "metadata": {},
   "source": [
    "Anche con i fattori correttivi non esce particolarmente bene \\\n",
    "Potrebbe essere un modello piu' complesso, non stiamo considerando qualcosa oppure abbiamo sbagliato i dati"
   ]
  },
  {
   "cell_type": "markdown",
   "metadata": {},
   "source": [
    "## CIRCUITO RL\n"
   ]
  },
  {
   "cell_type": "markdown",
   "metadata": {},
   "source": [
    "Induttanza utilizzata $\\approx 0.050$ H\\\n",
    "Resistenza utilizzata = $1000 \\Omega$ \\\n",
    "Resistenza parassita L = $39.4 \\pm0.1 \\Omega$ \\\n",
    "Incertezza fase =  1 deg \\\n",
    "Incertezza ampiezza V_in = 0.01 \\ \n",
    "Incertezza ampiezza V_out =  0.01\\\n",
    "Incertezza differenza (MATH) =  0.001 \n",
    "\n",
    "Frequenza range $500 -  $ Hz"
   ]
  },
  {
   "cell_type": "code",
   "execution_count": null,
   "metadata": {},
   "outputs": [],
   "source": [
    "dati2 = pd.read_excel(\"dati_rl.xlsx\")\n",
    "RL_freq, RL_amp_A, RL_amp_B, RL_amp_ab, RL_fase_A, RL_fase_AB = dati2.iloc[:, 0:6].values.T"
   ]
  },
  {
   "cell_type": "markdown",
   "metadata": {},
   "source": [
    "### Resistenza"
   ]
  },
  {
   "cell_type": "markdown",
   "metadata": {},
   "source": [
    "#### Modulo"
   ]
  },
  {
   "cell_type": "code",
   "execution_count": null,
   "metadata": {},
   "outputs": [],
   "source": [
    "RL_H_R = [i/j for i,j in zip(RL_amp_B, RL_amp_A)]\n",
    "RL_R_err = [0.02]*len(RL_H_R)\n",
    "RL_vel_ang = RL_freq * 2 * pi \n",
    "\n",
    "rl_r_mod, rl_r_fase = RL_R()\n",
    "x2 = np.linspace(min(RL_vel_ang), max(RL_vel_ang), 10000)\n",
    "Res_RL = 1040 # ohm, considerando quella parassita\n",
    "Ind = 0.05 # H\n",
    "\n",
    "plt.errorbar(RL_vel_ang, RL_H_R, RL_R_err, fmt = '.r', label = \"Dati\")\n",
    "plt.plot(RL_vel_ang, rl_r_mod(RL_vel_ang, Res_RL, Ind), label = \"Modello\")\n",
    "plt.xscale('log')\n",
    "plt.title(\"$H_R$ vs $\\omega$\")\n",
    "plt.grid()\n",
    "plt.legend()\n",
    "plt.show()"
   ]
  },
  {
   "cell_type": "markdown",
   "metadata": {},
   "source": [
    "Possiamo provare a eliminare alcuni dati dal centro per non influire sulla qualita' del fit altrove"
   ]
  },
  {
   "cell_type": "code",
   "execution_count": null,
   "metadata": {},
   "outputs": [],
   "source": [
    "# fit dati resistenza\n",
    "\n",
    "init = 0 # il primo valore da cui fittare\n",
    "pars5, vals5, ers5, *other5 = LS_fit(RL_vel_ang[init:], RL_H_R[init:], RL_R_err[init:], rl_r_mod, R = Res_RL, L = Ind) \n",
    "\n",
    "for i, j, k in zip(pars5, vals5, ers5):\n",
    "    print(f\"{i} = {j:.4g} +- {k:.4g}\")\n",
    "print(f\"Rapporto resistenza misurata/resistenza fittata: {Res_RL/vals5[0]:.4g}\")\n",
    "print(f\"Rapporto induttanza misurata/induttanza fittata: {Ind/vals5[1]:.4g}\")"
   ]
  },
  {
   "cell_type": "markdown",
   "metadata": {},
   "source": [
    "#### Fase"
   ]
  },
  {
   "cell_type": "code",
   "execution_count": null,
   "metadata": {},
   "outputs": [],
   "source": [
    "# plot resistenza fase\n",
    "\n",
    "plt.errorbar(RL_vel_ang, [np.deg2rad(i) for i in RL_fase_A], RL_R_err, fmt='.r', label='Dati')\n",
    "plt.plot(x2, rl_r_fase(x2, Res_RL, Ind), label='Modello')\n",
    "plt.xscale('log')\n",
    "plt.title(\"$\\phi_R$ vs $\\omega$\")\n",
    "plt.grid()\n",
    "plt.legend()\n",
    "plt.show()"
   ]
  },
  {
   "cell_type": "markdown",
   "metadata": {},
   "source": [
    "Il modello sta di poco sopra i dati?"
   ]
  },
  {
   "cell_type": "code",
   "execution_count": null,
   "metadata": {},
   "outputs": [],
   "source": [
    "# fit resistenza fase\n",
    "\n",
    "RL_F_err = [np.deg2rad(2)]*len(RL_fase_A)\n",
    "\n",
    "pars6, vals6, ers6, *other6 = LS_fit(RL_vel_ang, [np.deg2rad(i) for i in RL_fase_A], \n",
    "                                     RL_F_err, rl_r_fase, R = Res_RL, L = Ind)\n",
    "\n",
    "for i, j, k in zip(pars6, vals6, ers6):\n",
    "    print(f\"{i} = {j:.3g} pm {k:.3g}\")\n",
    "\n",
    "print(f\"Rapporto resistenza misurata/resistenza fittata: {Res_RL/vals6[0]:.4g}\")\n",
    "print(f\"Rapporto induttanza misurata/induttanza fittata: {Ind/vals6[1]:.4g}\")\n"
   ]
  },
  {
   "cell_type": "code",
   "execution_count": null,
   "metadata": {},
   "outputs": [],
   "source": [
    "# plot resistenza fase con valori aggiustati\n",
    "\n",
    "Res_RL_just = vals6[0] #ohm\n",
    "Ind_just = vals6[1] #F\n",
    "\n",
    "plt.errorbar(RL_vel_ang, [np.deg2rad(i) for i in RL_fase_A], RL_R_err, fmt='.r', label='Dati')\n",
    "plt.plot(x2, rl_r_fase(x2, Res_RL_just, Ind_just), label='Modello')\n",
    "plt.xscale('log')\n",
    "plt.title(\"$\\phi_R$ vs $\\omega$ (con valori aggiustati)\")\n",
    "plt.grid()\n",
    "plt.legend()\n",
    "plt.show()"
   ]
  },
  {
   "cell_type": "markdown",
   "metadata": {},
   "source": [
    "### Induttanza"
   ]
  },
  {
   "cell_type": "markdown",
   "metadata": {},
   "source": [
    "#### Modulo"
   ]
  },
  {
   "cell_type": "code",
   "execution_count": null,
   "metadata": {},
   "outputs": [],
   "source": [
    "#plot dati RL induttanza\n",
    "\n",
    "RL_H_L = [i/j for i,j in zip(RL_amp_ab, RL_amp_A)]\n",
    "RL_L_err = [.02]*len(RL_H_L)\n",
    "rl_l_mod, rl_l_fase = RL_L()\n",
    "\n",
    "plt.errorbar(RL_vel_ang, RL_H_L, RL_L_err, fmt='.r', label='Dati')\n",
    "plt.plot(x2, rl_l_mod(x2, Res_RL, Ind), label='Modello')\n",
    "plt.xscale('log')\n",
    "plt.title(\"$H_L$ vs $\\omega$\")\n",
    "plt.legend()\n",
    "plt.grid()\n",
    "plt.show()"
   ]
  },
  {
   "cell_type": "markdown",
   "metadata": {},
   "source": [
    "Ancora sopra? \\\n",
    "E i valori all'inizio e alla fine sono sminchiati"
   ]
  },
  {
   "cell_type": "code",
   "execution_count": null,
   "metadata": {},
   "outputs": [],
   "source": [
    "# fit RL induttanza\n",
    "\n",
    "pars7, vals7, ers7, *other7 = LS_fit(RL_vel_ang, RL_H_L, RL_L_err, rl_l_mod, R = Res_RL, L = Ind)\n",
    "\n",
    "for i, j, k in zip(pars7, vals7, ers7):\n",
    "    print(f\"{i} = {j:.3g} pm {k:.3g}\")\n",
    "\n",
    "print(f\"Rapporto resistenza misurata/resistenza fittata: {Res_RL/vals5[0]:.4g}\")\n",
    "print(f\"Rapporto induttanza misurata/induttanza fittata: {Ind/vals5[1]:.4g}\")"
   ]
  },
  {
   "cell_type": "code",
   "execution_count": null,
   "metadata": {},
   "outputs": [],
   "source": [
    "# plot RL induttanza con valori aggiustati\n",
    "\n",
    "plt.errorbar(RL_vel_ang, RL_H_L, RL_L_err, fmt='.r', label='Dati')\n",
    "plt.plot(x2, rl_l_mod(x2, Res_RL_just, Ind_just), label='Modello')\n",
    "plt.xscale('log')\n",
    "plt.title(\"$H_L$ vs $\\omega$ (con valori aggiustati)\")\n",
    "plt.legend()\n",
    "plt.grid()\n",
    "plt.show()"
   ]
  },
  {
   "cell_type": "markdown",
   "metadata": {},
   "source": [
    "#### Fase"
   ]
  },
  {
   "cell_type": "code",
   "execution_count": null,
   "metadata": {},
   "outputs": [],
   "source": [
    "# plot RL induttanza fase\n",
    "\n",
    "plt.errorbar(RL_vel_ang, [np.deg2rad(i) for i in RL_fase_AB], RL_F_err, fmt='.r', label='Dati')\n",
    "plt.plot(x2, rl_l_fase(x2, Res_RL, Ind), label='Modello')\n",
    "plt.xscale('log')\n",
    "plt.title(\"$\\phi_L$ vs $\\omega$\")\n",
    "plt.grid()\n",
    "plt.legend()\n",
    "plt.show()"
   ]
  },
  {
   "cell_type": "markdown",
   "metadata": {},
   "source": [
    "Bei dati"
   ]
  },
  {
   "cell_type": "code",
   "execution_count": null,
   "metadata": {},
   "outputs": [],
   "source": [
    "# Fit induttanza fase\n",
    "\n",
    "\n",
    "pars8, vals8, ers8, *other8 = LS_fit(RL_vel_ang, [np.deg2rad(i) for i in RL_fase_AB], \n",
    "                                     RL_F_err, rl_l_fase, R = Res_RL, L = Ind)\n",
    "\n",
    "for i, j, k in zip(pars8, vals8, ers8):\n",
    "    print(f\"{i} = {j:.3g} pm {k:.3g}\")\n",
    "\n",
    "print(f\"Rapporto resistenza misurata/resistenza fittata: {Res_RL/vals8[0]:.4g}\")\n",
    "print(f\"Rapporto induttanza misurata/induttanza fittata: {Ind/vals8[1]:.4g}\")"
   ]
  },
  {
   "cell_type": "markdown",
   "metadata": {},
   "source": [
    "# CIRCUITO RLC"
   ]
  },
  {
   "cell_type": "markdown",
   "metadata": {},
   "source": [
    "Resistenza utilizzata =  $1000\\ \\Omega$\\\n",
    "Induttanza utilizzata = $0.050$ H \\\n",
    "Capacità utilizzata = 10 nF \n",
    "\n",
    "\n",
    "Errore sulla tensione = 0.01 V"
   ]
  },
  {
   "cell_type": "code",
   "execution_count": null,
   "metadata": {},
   "outputs": [],
   "source": [
    "dati3 = pd.read_excel(\"dati_rlc.xlsx\")\n",
    "RLC_freq, RLC_amp_A, RLC_amp_B, RLC_amp_AB, RLC_fase_A, RLC_fase_AB = dati3.iloc[:, 0:6].values.T"
   ]
  },
  {
   "cell_type": "markdown",
   "metadata": {},
   "source": [
    "### Resistenza"
   ]
  },
  {
   "cell_type": "markdown",
   "metadata": {},
   "source": [
    "#### Modulo"
   ]
  },
  {
   "cell_type": "code",
   "execution_count": null,
   "metadata": {},
   "outputs": [],
   "source": [
    "RLC_H_R = [i/j for i,j in zip(RLC_amp_B, RLC_amp_A)]\n",
    "RLC_R_err = [0.02]*len(RLC_H_R)\n",
    "RLC_F_err = [np.deg2rad(2)]*len(RLC_fase_A)\n",
    "RLC_vel_ang = RLC_freq*2*pi\n",
    "\n",
    "rlc_r_mod, rlc_r_fase = RLC_R()\n",
    "x3 = np.linspace(min(RLC_vel_ang), max(RLC_vel_ang), 10000)\n",
    "Res_RLC = 1000 # ohm\n",
    "Ind = 0.05 # H\n",
    "Cap_RLC = 10e-9 # F\n",
    "\n",
    "plt.errorbar(RLC_vel_ang, RLC_H_R, RLC_R_err, fmt = '.r', label = \"Dati\")\n",
    "plt.plot(x3, rlc_r_mod(x3, Res_RL, Ind, Cap_RLC), label = \"Modello\")\n",
    "plt.xscale('log')\n",
    "plt.title(\"$H_R$ vs $\\omega$\")\n",
    "plt.grid()\n",
    "plt.legend()\n",
    "plt.show()"
   ]
  },
  {
   "cell_type": "code",
   "execution_count": null,
   "metadata": {},
   "outputs": [],
   "source": [
    "# fit RLC dati resistenza\n",
    "\n",
    "pars9, vals9, ers9, *other9 = LS_fit(RLC_vel_ang, RLC_H_R, RLC_R_err, rlc_r_mod, R = Res_RLC, L = Ind , C = Cap_RLC)\n",
    "\n",
    "for i, j, k in zip(pars9, vals9, ers9):\n",
    "    print(f\"{i} = {j:.4g} +- {k:.4g}\")\n",
    "\n",
    "print(f\"Rapporto resistenza misurata/resistenza fittata: {Res_RLC/vals9[0]:.4g}\")\n",
    "print(f\"Rapporto induttanza misurata/induttanza fittata: {Ind/vals9[1]:.4g}\")\n",
    "print(f\"Rapporto capacità misurata/capacità fittata: {Cap_RLC/vals9[2]:.4g}\")"
   ]
  },
  {
   "cell_type": "code",
   "execution_count": null,
   "metadata": {},
   "outputs": [],
   "source": [
    "# # plot RLC resistenza con fattori correttivi\n",
    "\n",
    "# Res_RLC_just = vals9[0] #ohm\n",
    "# Ind_just_RLC = vals9[1] #H\n",
    "# Cap_RLC_just = vals9[2] #F\n",
    "\n",
    "# plt.errorbar(RLC_vel_ang, RLC_H_R, RLC_R_err, fmt = '.r', label = \"Dati\")\n",
    "# plt.plot(x3, rlc_r_mod(x3, Res_RLC_just, Ind_just_RLC, Cap_RLC_just), label = \"Modello\")\n",
    "# plt.xscale('log')\n",
    "# plt.title(\"$H_R$ vs $\\omega$ (con valori aggiustati)\")\n",
    "# plt.grid()\n",
    "# plt.legend()\n",
    "# plt.show()"
   ]
  },
  {
   "cell_type": "markdown",
   "metadata": {},
   "source": [
    "#### Fase"
   ]
  },
  {
   "cell_type": "code",
   "execution_count": null,
   "metadata": {},
   "outputs": [],
   "source": [
    "# plot RLC resistenza fase\n",
    "\n",
    "plt.errorbar(RLC_vel_ang, [np.deg2rad(i) for i in RLC_fase_A], RLC_R_err, fmt='.r', label='Dati')\n",
    "plt.plot(x3, rlc_r_fase(x3, Res_RLC, Ind, Cap_RLC), label='Modello')\n",
    "plt.xscale('log')\n",
    "plt.title(\"$\\phi_R$ vs $\\omega$\")\n",
    "plt.grid()\n",
    "plt.legend()\n",
    "plt.show()"
   ]
  },
  {
   "cell_type": "code",
   "execution_count": null,
   "metadata": {},
   "outputs": [],
   "source": [
    "# fit RLC resistenza fase\n",
    "\n",
    "pars10, vals10, ers10, *other10 = LS_fit(RLC_vel_ang, [np.deg2rad(i) for i in RLC_fase_A],\n",
    "                                        RLC_F_err, rlc_r_fase, R = Res_RLC, L = Ind, C = Cap_RLC)\n",
    "\n",
    "for i, j, k in zip(pars10, vals10, ers10):\n",
    "    print(f\"{i} = {j:.3g} pm {k:.3g}\")\n",
    "\n",
    "print(f\"Rapporto resistenza misurata/resistenza fittata: {Res_RLC/vals10[0]:.4g}\")\n",
    "print(f\"Rapporto induttanza misurata/induttanza fittata: {Ind/vals10[1]:.4g}\")\n",
    "print(f\"Rapporto capacità misurata/capacità fittata: {Cap_RLC/vals10[2]:.4g}\")"
   ]
  },
  {
   "cell_type": "markdown",
   "metadata": {},
   "source": [
    "### Induttanza - Capacita'"
   ]
  },
  {
   "cell_type": "markdown",
   "metadata": {},
   "source": [
    "#### Modulo "
   ]
  },
  {
   "cell_type": "code",
   "execution_count": null,
   "metadata": {},
   "outputs": [],
   "source": [
    "RLC_H_LC = [i/j for i,j in zip(RLC_amp_AB, RLC_amp_A)]\n",
    "RLC_LC_err = [.02]*len(RLC_H_LC)\n",
    "\n",
    "rlc_lc_mod, rlc_lc_fase = RLC_LC()"
   ]
  },
  {
   "cell_type": "code",
   "execution_count": null,
   "metadata": {},
   "outputs": [],
   "source": [
    "# plot RLC LC\n",
    "\n",
    "plt.errorbar(RLC_vel_ang, RLC_H_LC, RLC_LC_err, fmt='.r', label='Dati')\n",
    "plt.plot(x3, rlc_lc_mod(x3, Res_RLC, Ind, Cap_RLC), label='Modello')\n",
    "plt.xscale('log')\n",
    "plt.title(\"$H_{LC}$ vs $\\omega$\")\n",
    "plt.legend()\n",
    "plt.grid()\n",
    "plt.show()"
   ]
  },
  {
   "cell_type": "code",
   "execution_count": null,
   "metadata": {},
   "outputs": [],
   "source": [
    "# fit RLC LC\n",
    "\n",
    "pars11, vals11, ers11, *other11 = LS_fit(RLC_vel_ang, RLC_H_LC, RLC_LC_err, rlc_lc_mod, R = Res_RLC, L = Ind, C = Cap_RLC)\n",
    "\n",
    "for i, j, k in zip(pars11, vals11, ers11):\n",
    "    print(f\"{i} = {j:.3g} pm {k:.3g}\")"
   ]
  },
  {
   "cell_type": "markdown",
   "metadata": {},
   "source": [
    "#### Fase"
   ]
  },
  {
   "cell_type": "code",
   "execution_count": null,
   "metadata": {},
   "outputs": [],
   "source": [
    "# plot RLC LC fase\n",
    "\n",
    "plt.errorbar(RLC_vel_ang, [np.deg2rad(i) for i in RLC_fase_AB], RLC_F_err, fmt='.r', label='Dati')\n",
    "plt.plot(x3, rlc_lc_fase(x3, Res_RLC, Ind, Cap_RLC), label='Modello')\n",
    "plt.xscale('log')\n",
    "plt.title(\"$\\phi_{LC}$ vs $\\omega$\")\n",
    "plt.grid()\n",
    "plt.legend()\n",
    "plt.show()"
   ]
  },
  {
   "cell_type": "code",
   "execution_count": null,
   "metadata": {},
   "outputs": [],
   "source": [
    "# fit RLC LC fase\n",
    "\n",
    "pars12, vals12, ers12, *other12 = LS_fit(RLC_vel_ang, [np.deg2rad(i) for i in RLC_fase_AB], \n",
    "                                         RLC_F_err, rlc_lc_fase, R = Res_RLC, L = Ind, C = Cap_RLC)\n",
    "\n",
    "for i, j, k in zip(pars12, vals12, ers12):\n",
    "    print(f\"{i} = {j:.3g} pm {k:.3g}\")\n",
    "\n",
    "print(f\"Rapporto resistenza misurata/resistenza fittata: {Res_RLC/vals12[0]:.4g}\")\n",
    "print(f\"Rapporto induttanza misurata/induttanza fittata: {Ind/vals12[1]:.4g}\")\n",
    "print(f\"Rapporto capacità misurata/capacità fittata: {Cap_RLC/vals12[2]:.4g}\")"
   ]
  },
  {
   "cell_type": "code",
   "execution_count": null,
   "metadata": {},
   "outputs": [],
   "source": [
    "# tentativo di fix del fit\n",
    "\n",
    "# shifta gli elementi di RLC_vel_ang e RLC_fase_AB di 9, ponendo i primi 9 alla fine\n",
    "RLC_vel_ang_just = np.roll(RLC_vel_ang, 5)\n",
    "RLC_fase_AB_just = np.roll(RLC_fase_AB, 5)\n",
    "\n",
    "# plot RLC LC fase con valori aggiustati\n",
    "plt.errorbar(RLC_vel_ang_just, [np.deg2rad(i) for i in RLC_fase_AB_just], RLC_F_err, fmt='.r', label='Dati')\n",
    "plt.plot(x3, rlc_lc_fase(x3, Res_RLC, Ind, Cap_RLC), label='Modello')\n",
    "plt.xscale('log')\n",
    "plt.title(\"$\\phi_{LC}$ vs $\\omega$ (con valori aggiustati)\")\n",
    "plt.grid()\n",
    "plt.legend()\n",
    "plt.show()\n",
    "\n",
    "# test = np.array([\"a\", \"b\", \"c\", \"d\", \"e\"])\n",
    "# test2 = np.roll(test, 2)\n",
    "# print(test, \"\\n\", test2)"
   ]
  }
 ],
 "metadata": {
  "kernelspec": {
   "display_name": "Python 3",
   "language": "python",
   "name": "python3"
  },
  "language_info": {
   "codemirror_mode": {
    "name": "ipython",
    "version": 3
   },
   "file_extension": ".py",
   "mimetype": "text/x-python",
   "name": "python",
   "nbconvert_exporter": "python",
   "pygments_lexer": "ipython3",
   "version": "3.11.1"
  }
 },
 "nbformat": 4,
 "nbformat_minor": 2
}
