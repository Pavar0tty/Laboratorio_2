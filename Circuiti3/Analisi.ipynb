{
 "cells": [
  {
   "cell_type": "code",
   "execution_count": null,
   "metadata": {},
   "outputs": [],
   "source": [
    "import numpy as np\n",
    "import pandas as pd\n",
    "import matplotlib.pyplot as plt\n",
    "\n",
    "import sys\n",
    "sys.path.insert(1, '../Config')\n",
    "from lablib import *"
   ]
  },
  {
   "cell_type": "markdown",
   "metadata": {},
   "source": [
    "## Funzioni di trasferimento"
   ]
  },
  {
   "cell_type": "code",
   "execution_count": null,
   "metadata": {},
   "outputs": [],
   "source": [
    "def Mod_Extract(f):\n",
    "    r = f()\n",
    "    return r[0]\n",
    "\n",
    "def RC_R(W, R, C):\n",
    "    mod = R/(np.sqrt(R**2 + 1/(W*C)**2))\n",
    "    fase = np.arctan(1/(W*C*R))\n",
    "\n",
    "    return mod, fase\n",
    "\n",
    "def RC_C(W, R, C):\n",
    "    mod = 1/np.sqrt(1+(R*C*W)**2)\n",
    "    fase = np.arctan(R*C*W)\n",
    "\n",
    "    return mod, fase\n",
    "\n",
    "def RL_R(W, R, L):\n",
    "    mod = R/(R**2 + (W*L)**2)\n",
    "    fase = np.arctan(W*L/R)\n",
    "\n",
    "    return mod, fase\n",
    "\n",
    "def RL_L(W, R, L):\n",
    "    mod = W*L/(R**2 + (W*L)**2)\n",
    "    fase = np.arctan(W*L/R)\n",
    "\n",
    "def RLC_R(W, R, C, L):\n",
    "    mod = R/(np.sqrt((R**2)+((W*L)-(1/(W*C))**2)))\n",
    "    fase = np.arctan((((W**2)*L*C)-1)/(W*C*R))\n",
    "    \n",
    "    return mod, fase\n",
    "\n",
    "def RLC_C(W, R, C, L):\n",
    "    mod =  1/(np.sqrt((1-((W**2)*L*C))**2)+((W**2)*(C**2)*(R**2)))\n",
    "    fase = np.arctan((W*C*R)/(1-((W**2)*L*C)))\n",
    "    \n",
    "    return mod, fase\n",
    "\n",
    "\n",
    "def RLC_L(W, R, C, L):\n",
    "    mod = ((W**2)*(L**2))/(np.sqrt((R**2) + ((W*L)-(1/(W*C)))**2))\n",
    "    fase = np.arctan((((W**2)*L*C)-1)/(W*C*R))\n",
    "\n",
    "    return mod, fase"
   ]
  },
  {
   "cell_type": "markdown",
   "metadata": {},
   "source": [
    "# Prima parte RC RL "
   ]
  },
  {
   "cell_type": "markdown",
   "metadata": {},
   "source": [
    "# CIRCUITO RC\n",
    " Capacità utilizzata= $99 \\pm 1$ nF \\\n",
    " Resistenza= $100\\pm 1 \\Omega$ (check)\n",
    " \n",
    " Incertezza fase (CH2-CH1) = $\\pm 1$ \\\n",
    " Incertezza Ampiezza V_in(CH1) = $\\pm 0.05$   Trasportarla su asse x e asse y \\\n",
    " Incertezza Ampiezza V_out (CH2) = $\\pm 0.05$ \\\n",
    " Incertezza differenza (MATH)  = $\\pm 0.01$ \\\n",
    "\n",
    " le fasi nel foglio sono scritte in gradi"
   ]
  },
  {
   "cell_type": "code",
   "execution_count": null,
   "metadata": {},
   "outputs": [],
   "source": [
    "dati1 = pd.read_excel(\"dati_rc.xlsx\")\n",
    "\n",
    "RC_freq = dati1[\"Frequenza\"]\n",
    "RC_amp_A = dati1[\"Ampiezza Va\"]\n",
    "RC_amp_B = dati1[\"Ampiezza Vb\"]\n",
    "RC_amp_ab = dati1[\"Ampiezza Va-b\"]\n",
    "RC_fase_A = dati1[\"ddf a/b\"] \n",
    "RC_fase_AB = dati1[\"ddf a-b/a\"]"
   ]
  },
  {
   "cell_type": "code",
   "execution_count": null,
   "metadata": {},
   "outputs": [],
   "source": [
    "# PLot dati RC resitenza\n",
    "\n",
    "RC_H_R = [i/j for i,j in zip(RC_amp_B, RC_amp_A)]\n",
    "\n",
    "plt.plot(RC_freq,RC_H_R, marker = 'o')\n",
    "plt.xscale('log')\n",
    "plt.grid()\n",
    "plt.show()"
   ]
  },
  {
   "cell_type": "code",
   "execution_count": null,
   "metadata": {},
   "outputs": [],
   "source": [
    "# fit dati resistenza\n",
    "\n",
    "Res = 100 #ohm\n",
    "Cap = 100e-9 #farad\n",
    "\n",
    "# pars1, vals1, ers1, *other1 = LS_fit(RC_freq, RC_H_R, RC_R[0], R = Res, C = Cap)\n",
    "# separare le funzioni sopra"
   ]
  },
  {
   "cell_type": "code",
   "execution_count": null,
   "metadata": {},
   "outputs": [],
   "source": [
    "x = np.linspace(1, 3000000, 1000)\n",
    "y = -RC_R(x, Res, Cap)[1]\n",
    "\n",
    "plt.scatter(RC_freq, [np.deg2rad(i) for i in RC_fase_AB])\n",
    "plt.plot(x, y)\n",
    "plt.grid()\n",
    "plt.show()"
   ]
  },
  {
   "cell_type": "code",
   "execution_count": null,
   "metadata": {},
   "outputs": [],
   "source": [
    "#plot dati capacità\n",
    "\n",
    "RC_H_C = [i/j for i,j in zip(RC_amp_ab, RC_amp_A)]\n",
    "\n",
    "plt.plot(RC_freq, RC_H_C, marker='o')\n",
    "plt.xscale('log')\n",
    "plt.grid()\n",
    "plt.show()"
   ]
  },
  {
   "cell_type": "markdown",
   "metadata": {},
   "source": [
    "# CIRCUITO RL\n"
   ]
  },
  {
   "cell_type": "markdown",
   "metadata": {},
   "source": [
    "Induttanza utilizzata =   \\\n",
    "Resistenza utilizzata =   \\\n",
    "Incertezza fase =   \\\n",
    "Incertezza ampiezza V_in =  \\ \n",
    "Incertezza ampiezza V_out =  \\\n",
    "Incertezza differenza (MATH) =   \n"
   ]
  },
  {
   "cell_type": "code",
   "execution_count": null,
   "metadata": {},
   "outputs": [],
   "source": []
  },
  {
   "cell_type": "markdown",
   "metadata": {},
   "source": [
    "# CIRCUITO RLC"
   ]
  },
  {
   "cell_type": "markdown",
   "metadata": {},
   "source": [
    "Resistenza utilizzata = \n",
    "Induttanza utilizzata = \n",
    "Capacità utilizzata = \n",
    "\n"
   ]
  }
 ],
 "metadata": {
  "kernelspec": {
   "display_name": "Python 3",
   "language": "python",
   "name": "python3"
  },
  "language_info": {
   "codemirror_mode": {
    "name": "ipython",
    "version": 3
   },
   "file_extension": ".py",
   "mimetype": "text/x-python",
   "name": "python",
   "nbconvert_exporter": "python",
   "pygments_lexer": "ipython3",
   "version": "3.11.1"
  }
 },
 "nbformat": 4,
 "nbformat_minor": 2
}
