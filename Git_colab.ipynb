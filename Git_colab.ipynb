{
  "nbformat": 4,
  "nbformat_minor": 0,
  "metadata": {
    "colab": {
      "provenance": [],
      "include_colab_link": true
    },
    "kernelspec": {
      "name": "python3",
      "display_name": "Python 3"
    },
    "language_info": {
      "name": "python"
    }
  },
  "cells": [
    {
      "cell_type": "markdown",
      "metadata": {
        "id": "view-in-github",
        "colab_type": "text"
      },
      "source": [
        "<a href=\"https://colab.research.google.com/github/Pavar0tty/Laboratorio_2/blob/main/Git_colab.ipynb\" target=\"_parent\"><img src=\"https://colab.research.google.com/assets/colab-badge.svg\" alt=\"Open In Colab\"/></a>"
      ]
    },
    {
      "cell_type": "markdown",
      "source": [
        "# Setup → Attivare sempre la prima volta"
      ],
      "metadata": {
        "id": "uxRqRHDuZJW9"
      }
    },
    {
      "cell_type": "code",
      "execution_count": 1,
      "metadata": {
        "id": "8GzaZBsbHvSi",
        "colab": {
          "base_uri": "https://localhost:8080/"
        },
        "cellView": "form",
        "outputId": "3e18df70-5747-4a93-c29b-605ae1d4a15f"
      },
      "outputs": [
        {
          "output_type": "stream",
          "name": "stdout",
          "text": [
            "Mounted at /content/drive\n",
            "/content/drive/My Drive\n"
          ]
        }
      ],
      "source": [
        "#@title Collega colab a drive\n",
        "\n",
        "from google.colab import drive\n",
        "drive.mount('/content/drive', force_remount=True)\n",
        "\n",
        "%cd /content/drive/My\\ Drive"
      ]
    },
    {
      "cell_type": "code",
      "source": [
        "# @title Clonare la repository\n",
        "#\n",
        "# Non va usato se la repo e' gia' stata clonata, ovvero nel 99.9% dei casi\n",
        "#\n",
        "# !git clone https://github.com/Pavar0tty/Laboratorio_2"
      ],
      "metadata": {
        "cellView": "form",
        "id": "sNQU71QlKKwU"
      },
      "execution_count": 2,
      "outputs": []
    },
    {
      "cell_type": "markdown",
      "source": [
        "# Aggiornare il drive, dopo aver cambiato la repository → **Prima cosa da fare**"
      ],
      "metadata": {
        "id": "chbhjWOBasix"
      }
    },
    {
      "cell_type": "code",
      "source": [
        "# @title Pullare le modifiche da un branch specifico\n",
        "\n",
        "%cd /content/drive/My\\ Drive/Laboratorio_2\n",
        "\n",
        "branch_pull = \"main\" # @param [\"main\"] {allow-input: true}\n",
        "\n",
        "!git pull origin {branch_pull}"
      ],
      "metadata": {
        "colab": {
          "base_uri": "https://localhost:8080/"
        },
        "cellView": "form",
        "id": "mZY1X_eRavrh",
        "outputId": "3fa49ea7-bb87-4d34-cb70-6e9c22b4239c"
      },
      "execution_count": 3,
      "outputs": [
        {
          "output_type": "stream",
          "name": "stdout",
          "text": [
            "/content/drive/My Drive/Laboratorio_2\n",
            "From https://github.com/Pavar0tty/Laboratorio_2\n",
            " * branch            main       -> FETCH_HEAD\n",
            "Already up to date.\n"
          ]
        }
      ]
    },
    {
      "cell_type": "markdown",
      "source": [
        "# Apportare modifiche alla repository, dopo aver cambiato il Drive"
      ],
      "metadata": {
        "id": "t6-zLYhCPWxe"
      }
    },
    {
      "cell_type": "markdown",
      "source": [
        "**IMPORTANTE**\n",
        "\n",
        "Questo metodo e' sconsigliato. Preferibilmente usare la repository da github come cartella drive e poi fare pull in modo da aggiornare il drive. \\\\\n",
        "Se invece vogliamo fare questa cosa, leggere sotto"
      ],
      "metadata": {
        "id": "UUs1xNPNvHzw"
      }
    },
    {
      "cell_type": "markdown",
      "source": [
        "## Risposta di Chat-gpt per come fare a usare drive per questo metodo\n",
        "\n",
        "Per lavorare con GitHub attraverso Google Colab nel modo più semplice e conveniente, ti consiglio di utilizzare l'autenticazione HTTPS con un Personal Access Token (PAT). Questo metodo evita la necessità di gestire le chiavi SSH, che può essere più complicata e meno sicura su un ambiente cloud come Colab, dove non è possibile mantenere la persistenza dei dati a lungo termine.\n",
        "\n",
        "Ecco come puoi procedere per configurare e utilizzare il PAT su Google Colab:\n",
        "\n",
        "### Genera un Personal Access Token (PAT) su GitHub\n",
        "\n",
        "1. Vai su GitHub e accedi al tuo account.\n",
        "2. Clicca sul tuo avatar nell'angolo in alto a destra e vai su \"Settings\".\n",
        "3. Nella barra laterale sinistra, trova e clicca su \"Developer settings\".\n",
        "4. Nella barra laterale sinistra, clicca su \"Personal access tokens\".\n",
        "5. Clicca su \"Generate new token\".\n",
        "6. Dai al tuo token una descrizione, scegli una durata adeguata e seleziona i giusti ambiti per il token (ad esempio `repo` per i repository privati).\n",
        "7. Clicca su \"Generate token\" alla fine della pagina.\n",
        "8. Assicurati di copiare il tuo nuovo token personalizzato ora, perché non avrai più la possibilità di vederlo di nuovo.\n",
        "\n",
        "### Configura Google Colab per Usare il PAT\n",
        "\n",
        "1. Nel tuo notebook Colab, usa il seguente codice per impostare le tue credenziali Git. Sostituisci \"Your Name\" e \"youremail@example.com\" con il tuo nome e la tua email usati per GitHub.\n",
        "\n",
        "```python\n",
        "!git config --global user.name \"Your Name\"\n",
        "!git config --global user.email \"youremail@example.com\"\n",
        "```\n",
        "\n",
        "2. Usa il seguente codice per chiedere il PAT senza mostrare il valore. Nota che ogni volta che riavvi la tua istanza Colab, dovrai reinserire il PAT.\n",
        "\n",
        "```python\n",
        "from getpass import getpass\n",
        "import os\n",
        "\n",
        "os.environ['GITHUB_TOKEN'] = getpass('Enter your GitHub token: ')\n",
        "```\n",
        "\n",
        "**Nota di Sicurezza**: È molto importante non salvare mai il tuo PAT in script o notebook che potrebbero essere condivisi o salvati in un repository pubblico. Utilizzare `getpass` come sopra impedisce che il token venga visualizzato o salvato nel notebook.\n",
        "\n",
        "Seguendo questi passaggi, tu e i tuoi collaboratori potrete lavorare sul repository GitHub direttamente da Google Colab in modo semplice e sicuro."
      ],
      "metadata": {
        "id": "_vxQMoFtvWsx"
      }
    },
    {
      "cell_type": "markdown",
      "source": [
        "## Step 1\n",
        "\n",
        "Seleziona il tuo utente, in modo da tenere traccia dei cambiamenti apportati da ognuno"
      ],
      "metadata": {
        "id": "WMzCXhgdYdkH"
      }
    },
    {
      "cell_type": "code",
      "source": [
        "#@title Seleziona l'utente\n",
        "\n",
        "aspirante_ricercatore = \"Francesco\" # @param [\"Francesco\", \"Stefano Franceschina\", \"Stedano Dolci\"]\n",
        "\n",
        "credenziali = [[\"\", \"\"], [\"\", \"\"], [\"\", \"\"]]\n",
        "\n",
        "id_finder = {\n",
        "    \"Francesco\": 0,\n",
        "    \"Stefano Franceschina\": 1,\n",
        "    \"Stefano Dolci\": 2\n",
        "}\n",
        "\n",
        "id = id_finder.get(aspirante_ricercatore, -1)\n",
        "\n",
        "if not id == -1:\n",
        "  !git config --local user.name credenziali[id][0]\n",
        "  !git config --local user.email credenziali[id][1]\n",
        "else : print(\"Qualcosa e' andato storto con l'id\")"
      ],
      "metadata": {
        "cellView": "form",
        "id": "SjAIoxT4MbMT"
      },
      "execution_count": null,
      "outputs": []
    },
    {
      "cell_type": "markdown",
      "source": [
        "## Step 2\n",
        "\n",
        "Scrivi un messaggio di commit, una breve frase per far capire i cambiamenti che hai fatto. Questo e' anche un modo di salvare il progresso, quindi va fatto abbastanza regolarmente"
      ],
      "metadata": {
        "id": "rLYAK826Yn0N"
      }
    },
    {
      "cell_type": "code",
      "source": [
        "# @title Fai commit\n",
        "\n",
        "%cd /content/drive/My\\ Drive/Laboratorio_2\n",
        "!git add .\n",
        "\n",
        "messaggio = \"Esempio di messaggio\" # @param {type:\"string\"}\n",
        "\n",
        "!git commit -m messaggio"
      ],
      "metadata": {
        "cellView": "form",
        "id": "tiY4dB9mUkPX"
      },
      "execution_count": null,
      "outputs": []
    },
    {
      "cell_type": "markdown",
      "source": [
        "**Step 3**\n",
        "\n",
        "Alla fine di tutto, puoi pushare le modifiche sulla repository, in questo modo tutti gli altri possono vedere cio' che e' stato fatto. \\\\\n",
        "Se non sei sicuro che il lavoro fatto possa essere definitivo o se vuoi aspettare l'approvazione degli altri, puoi pushare il lavoro su un altro branch; in questo modo si crea un percorso secondario da cui e' possibile tornare indietro se i cambiamenti non sono accettati, oppure aggiungerli direttamente al branch principale ( \"main\" )."
      ],
      "metadata": {
        "id": "z28tyajLYxIC"
      }
    },
    {
      "cell_type": "code",
      "source": [
        "#@title Fai push delle modifiche\n",
        "\n",
        "branch_push = \"main\" # @param [\"main\"] {allow-input: true}\n",
        "\n",
        "!git push origin {branch_push}"
      ],
      "metadata": {
        "cellView": "form",
        "id": "94f0qR-9WEfz"
      },
      "execution_count": null,
      "outputs": []
    },
    {
      "cell_type": "markdown",
      "source": [
        "Pullare significa aggiornare il proprio client con le modifiche apportate sulla repository in remoto. E' conveniente farlo regolarmente sia per restare sempre aggiornati, sia per ridurre il rischio di conflitti (che spesso vanno risolti manualmente). \\\\\n",
        "Per fare pull, basta specificare il branch al quale allinearsi, se non si desidera quello principale ( \"main\" )"
      ],
      "metadata": {
        "id": "TX8STMOlcGa3"
      }
    },
    {
      "cell_type": "markdown",
      "source": [
        "# Note\n",
        "\n",
        "Meglio pullare che pushare. \\\\\n",
        "Per salvare un file colab basta farlo dal menu':\n",
        "\n",
        "* File\n",
        "* Salva una copia su GitHub\n",
        "* Assicurarsi di essere nella repository, branch e cartella giusta.\n",
        "* Scrivere un messaggio di commit\n",
        "\n"
      ],
      "metadata": {
        "id": "iAUDR9RQdZ7w"
      }
    },
    {
      "cell_type": "markdown",
      "source": [
        "cambiamenti"
      ],
      "metadata": {
        "id": "apl_PTrDBEmy"
      }
    }
  ]
}