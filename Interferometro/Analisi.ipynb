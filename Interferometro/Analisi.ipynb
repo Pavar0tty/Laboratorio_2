{
 "cells": [
  {
   "cell_type": "code",
   "execution_count": null,
   "metadata": {},
   "outputs": [],
   "source": [
    "import numpy as np\n",
    "import pandas as pd\n",
    "import matplotlib.pyplot as plt\n",
    "\n",
    "import sys\n",
    "sys.path.insert(1, '../Config')\n",
    "from lablib import *"
   ]
  },
  {
   "cell_type": "markdown",
   "metadata": {},
   "source": [
    "# Definizione funzioni"
   ]
  },
  {
   "cell_type": "code",
   "execution_count": null,
   "metadata": {},
   "outputs": [],
   "source": [
    "#Legge per la figura di interferenza di Fabry-Perot\n",
    "lambda_ = 632.8e-9 # lunghezza d'onda del laser\n",
    "\n",
    "def FP_maximum(N, d, delta):\n",
    "    cos = N*lambda_/(2*d) - (delta*lambda_/(d*np.pi*4)) # coseno dell'angolo di incidenza\n",
    "    return -cos\n",
    "\n",
    "#Legge per calibrazione del nonio in Fabry-Perot\n",
    "\n",
    "def FP_calib(dN):\n",
    "    d = dN*lambda_/2    #variazione di distanza tra le lastre \n",
    "    return d\n",
    "\n",
    "def MC_nVetro(dN, d, theta):\n",
    "    n = (2*d - dN*lambda_)*(1-np.cos(theta))/(2*d * (1-np.cos(theta)) - dN * lambda_)\n",
    "    return n"
   ]
  },
  {
   "cell_type": "markdown",
   "metadata": {},
   "source": [
    "# Fabry-Perot"
   ]
  },
  {
   "cell_type": "markdown",
   "metadata": {},
   "source": [
    "## Specchio"
   ]
  },
  {
   "cell_type": "markdown",
   "metadata": {},
   "source": [
    "Misure di FP1 prese in mm \\\n",
    "sensibilità calibro 0.05mm"
   ]
  },
  {
   "cell_type": "code",
   "execution_count": null,
   "metadata": {},
   "outputs": [],
   "source": [
    "dati_fp1 = pd.read_excel('FP1.xlsx')\n",
    "raggi_fp1 = dati_fp1[:].dropna().values.T / 1000 # raggi in m\n",
    "d_sorgente = 1.375 # distanza da sorgente in m\n",
    "\n",
    "N_fp1 = list(range(1, len(raggi_fp1[0])+1))\n",
    "massimi_fp1 = [[np.cos(np.arctan(raggi_fp1[i][j])) for j in range(len(raggi_fp1[i]))] for i in range(len(raggi_fp1))]\n",
    "\n",
    "yerr_temp = [.00005]*len(N_fp1)"
   ]
  },
  {
   "cell_type": "code",
   "execution_count": null,
   "metadata": {},
   "outputs": [],
   "source": [
    "par1, val1, ers1, *other1 = LS_fit(N_fp1, massimi_fp1[0], yerr_temp, FP_maximum, d = 0.002, delta = 5e4, disp = 0)\n",
    "par2, val2, ers2, *other2 = LS_fit(N_fp1, massimi_fp1[1], yerr_temp, FP_maximum, d = 0.002, delta = 5e4, disp = 0)\n",
    "par3, val3, ers3, *other3 = LS_fit(N_fp1, massimi_fp1[2], yerr_temp, FP_maximum, d = 0.002, delta = 5e4, disp = 1)\n",
    "par4, val4, ers4, *other4 = LS_fit(N_fp1, massimi_fp1[3], yerr_temp, FP_maximum, d = 0.002, delta = 5e4, disp = 0)"
   ]
  },
  {
   "cell_type": "code",
   "execution_count": null,
   "metadata": {},
   "outputs": [],
   "source": [
    "for i in range(len(par1)):\n",
    "    print(f'{par1[i]}1: {val1[i]:.3g} ± {ers1[i]:.3g}')\n",
    "    print(f'{par2[i]}2: {val2[i]:.3g} ± {ers2[i]:.3g}')\n",
    "    print(f'{par3[i]}3: {val3[i]:.3g} ± {ers3[i]:.3g}')\n",
    "    print(f'{par4[i]}4: {val4[i]:.3g} ± {ers4[i]:.3g}')\n",
    "    if i == 0:\n",
    "        print(\"--------------------\")\n",
    "\n",
    "print(\"--------------------\")\n",
    "\n",
    "print(f\"Chi 1: {(other1[2]/other1[1]):.3g} - Pvalue 1: {other1[0]:.3g}\")\n",
    "print(f\"Chi 2: {(other2[2]/other2[1]):.3g} - Pvalue 2: {other2[0]:.3g}\")\n",
    "print(f\"Chi 3: {(other3[2]/other3[1]):.3g} - Pvalue 3: {other3[0]:.3g}\")\n",
    "print(f\"Chi 4: {(other4[2]/other4[1]):.3g} - Pvalue 4: {other4[0]:.3g}\")"
   ]
  },
  {
   "cell_type": "markdown",
   "metadata": {},
   "source": [
    "## Frange"
   ]
  },
  {
   "cell_type": "markdown",
   "metadata": {},
   "source": [
    "20 micrometri -> passonomio \\\n",
    "N frange = 56, 59, 60, 60, 64, 56 \\\n",
    "Approssimiamo $\\cos\\theta$ a 1"
   ]
  },
  {
   "cell_type": "code",
   "execution_count": null,
   "metadata": {},
   "outputs": [],
   "source": [
    "delta_N_fp = [56, 56, 59, 60, 60, 64] # se abbiamo tempo sarebbero da riprendere\n",
    "delta_d_fp = [FP_calib(delta_N[i]) for i in range(len(delta_N))]\n",
    "print(delta_d)"
   ]
  },
  {
   "cell_type": "markdown",
   "metadata": {},
   "source": [
    "# Michelson"
   ]
  },
  {
   "cell_type": "markdown",
   "metadata": {},
   "source": [
    "## Frange"
   ]
  },
  {
   "cell_type": "code",
   "execution_count": null,
   "metadata": {},
   "outputs": [],
   "source": [
    "delta_N_mc = [60, 64]\n",
    "delta_d_mc = [FP_calib(delta_N_mc[i]) for i in range(len(delta_N_mc))]\n",
    "print(delta_d_mc)"
   ]
  },
  {
   "cell_type": "markdown",
   "metadata": {},
   "source": [
    "## Indice rifrazione aria"
   ]
  },
  {
   "cell_type": "markdown",
   "metadata": {},
   "source": [
    "## Indice rifrazione vetro"
   ]
  },
  {
   "cell_type": "code",
   "execution_count": null,
   "metadata": {},
   "outputs": [],
   "source": [
    "thetai1, thetaf1, N1 = *np.deg2rad([1.0, 6.0]), 24\n",
    "thetai2, thetaf2, N2 = *np.deg2rad([1.0, 5.0]), 16\n",
    "thetai3, thetaf3, N3 = *np.deg2rad([1.0, 4.0]), 8\n",
    "\n",
    "d_vetro = .005 # non ho idea quale sia in realtà\n",
    "# ho messo questo perche' n del vetro e' circa 1.5 \n",
    "\n",
    "n_vetro = [MC_nVetro(N1, d_vetro, thetai1-thetaf1), MC_nVetro(N2, d_vetro, thetai2-thetaf2), MC_nVetro(N3, d_vetro, thetai3-thetaf3)]\n",
    "\n",
    "for i in range(len(n_vetro)):\n",
    "    print(f'n_vetro_{i+1}: {n_vetro[i]:.3g}')\n",
    "print(f\"n_vetro medio: {np.mean(n_vetro):.3g} ± {np.std(n_vetro):.3g}\")"
   ]
  },
  {
   "cell_type": "markdown",
   "metadata": {},
   "source": [
    "## Righello"
   ]
  }
 ],
 "metadata": {
  "kernelspec": {
   "display_name": "Python 3",
   "language": "python",
   "name": "python3"
  },
  "language_info": {
   "codemirror_mode": {
    "name": "ipython",
    "version": 3
   },
   "file_extension": ".py",
   "mimetype": "text/x-python",
   "name": "python",
   "nbconvert_exporter": "python",
   "pygments_lexer": "ipython3",
   "version": "3.11.1"
  }
 },
 "nbformat": 4,
 "nbformat_minor": 2
}
