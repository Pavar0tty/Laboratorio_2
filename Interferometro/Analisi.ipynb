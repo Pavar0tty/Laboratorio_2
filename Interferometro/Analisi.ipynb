{
 "cells": [
  {
   "cell_type": "code",
   "execution_count": null,
   "metadata": {},
   "outputs": [],
   "source": [
    "import numpy as np\n",
    "import pandas as pd\n",
    "import matplotlib.pyplot as plt\n",
    "\n",
    "import sys\n",
    "sys.path.insert(1, '../Config')\n",
    "from lablib import *"
   ]
  },
  {
   "cell_type": "markdown",
   "metadata": {},
   "source": [
    "# Definizione funzioni"
   ]
  },
  {
   "cell_type": "code",
   "execution_count": null,
   "metadata": {},
   "outputs": [],
   "source": [
    "#Legge per la figura di interferenza di Fabry-Perot\n",
    "lambda_ = 632.8e-9 # lunghezza d'onda del laser\n",
    "P0 = 101.325 # pressione atmosferica in kPa\n",
    "\n",
    "def FP_maximum(N, d, delta):\n",
    "    cos = N*lambda_/(2*d) - (delta*lambda_/(d*np.pi*4)) # coseno dell'angolo di incidenza\n",
    "    return -cos\n",
    "\n",
    "#Legge per calibrazione del nonio in Fabry-Perot\n",
    "\n",
    "def FP_calib(dN):\n",
    "    d = dN*(lambda_)/2    #variazione di distanza tra le lastre ho messo lambda in micrometri\n",
    "    return d\n",
    "\n",
    "def MC_nVetro(dN, d, theta, d_err, theta_err):\n",
    "    n = (2*d - dN*lambda_)*(1-np.cos(theta))/(2*d * (1-np.cos(theta)) - dN * lambda_)\n",
    "    n_err = np.sqrt(((2*lambda_*dN*(np.cos(theta)-1)*np.cos(theta)*d_err)/(2*d-lambda_*dN-2*d*np.cos(theta))**2)**2 + ((lambda_*dN*np.sin(theta)*(lambda_*dN-2*d)*theta_err)/(2*d-lambda_*dN-2*d*np.cos(theta))**2)**2)\n",
    "    return n, n_err\n",
    "\n",
    "def MC_nAria(dN, d, Pf, d_err, Pf_err):\n",
    "    m = (dN  * lambda_)/(2 * d * (P0-Pf))\n",
    "    n = m * Pf + 1\n",
    "    n_err = np.sqrt(((dN*lambda_*Pf*d_err)/(2*(P0-Pf)*d**2))**2 + ((dN*lambda_*P0*Pf_err)/(2*d*(P0-Pf)**2))**2)\n",
    "    return n, n_err, m\n",
    "\n",
    "def Lambda_righello(N, theta_i, theta_n, d, theta_i_err, theta_n_err):\n",
    "    l = d * (np.cos(theta_i) - np.cos(theta_n)) / N\n",
    "    l_err = np.sqrt(((d*np.sin(theta_i)*theta_i_err)/(N))**2 + ((d*np.sin(theta_n)*theta_n_err)/(N))**2)\n",
    "    return l, l_err"
   ]
  },
  {
   "cell_type": "markdown",
   "metadata": {},
   "source": [
    "# Fabry-Perot"
   ]
  },
  {
   "cell_type": "markdown",
   "metadata": {},
   "source": [
    "## Specchio"
   ]
  },
  {
   "cell_type": "markdown",
   "metadata": {},
   "source": [
    "Misure di FP1 prese in mm \\\n",
    "sensibilità calibro 0.05mm \\\n",
    "Non ho preso come errore in raggi_fp1_err la sensibilità del calibro perchè le frange erano piuttosto spesse (almeno 1 mm) \\\n",
    "Come errore sulla distanza tra sorgente e muro ho preso 1 cm."
   ]
  },
  {
   "cell_type": "code",
   "execution_count": null,
   "metadata": {},
   "outputs": [],
   "source": [
    "dati_fp1 = pd.read_excel('FP1.xlsx')\n",
    "raggi_fp1 = dati_fp1[:].dropna().values.T / 1000 # raggi in m\n",
    "raggi_fp1_err = [0.00005]*len(raggi_fp1[0]) # errore raggi in m\n",
    "d_sorgente = 1.375 # distanza da sorgente in m\n",
    "d_sorgente_err = 0.001 # errore distanza sorgente in m\n",
    "\n",
    "\n",
    "N_fp1 = list(range(1, len(raggi_fp1[0])+1))\n",
    "massimi_fp1 = [[np.cos(np.arctan(raggi_fp1[i][j])) for j in range(len(raggi_fp1[i]))] for i in range(len(raggi_fp1))]\n",
    "massimi_fp1_err = [[np.sqrt(((d_sorgente*np.array(raggi_fp1_err[i]))/(d_sorgente**2 + np.array(raggi_fp1[i][j])**2))**2 + ((np.array(raggi_fp1[i][j])*d_sorgente_err)/(d_sorgente**2 + np.array(raggi_fp1[i][j])**2))**2) for j in range(len(raggi_fp1[i]))] for i in range(len(raggi_fp1))]\n"
   ]
  },
  {
   "cell_type": "code",
   "execution_count": null,
   "metadata": {},
   "outputs": [],
   "source": [
    "par1, val1, ers1, *other1 = LS_fit(N_fp1, massimi_fp1[0], massimi_fp1_err[0], FP_maximum, d = 0.002, delta = 5e4, disp = 1)\n",
    "par2, val2, ers2, *other2 = LS_fit(N_fp1, massimi_fp1[1], massimi_fp1_err[1], FP_maximum, d = 0.002, delta = 5e4, disp = 0)\n",
    "par3, val3, ers3, *other3 = LS_fit(N_fp1, massimi_fp1[2], massimi_fp1_err[2], FP_maximum, d = 0.002, delta = 5e4, disp = 0)\n",
    "par4, val4, ers4, *other4 = LS_fit(N_fp1, massimi_fp1[3], massimi_fp1_err[3], FP_maximum, d = 0.002, delta = 5e4, disp = 0)"
   ]
  },
  {
   "cell_type": "code",
   "execution_count": null,
   "metadata": {},
   "outputs": [],
   "source": [
    "#Grafici per Fabry-Perot da inserire nella relazione\n",
    "\n",
    "fig, ax = plt.subplots(2, 2, figsize = (12, 8))\n",
    "ax[0, 0].errorbar(N_fp1, massimi_fp1[0], yerr = massimi_fp1_err[0], fmt = '.', label = 'Dati')\n",
    "ax[0, 0].plot(N_fp1, FP_maximum(np.array(N_fp1), *val1), label = 'Fit')\n",
    "ax[0, 0].set_title('Interferenza di Fabry-Perot 1')\n",
    "ax[0, 0].set_xlabel('N')\n",
    "ax[0, 0].set_ylabel('cos($\\\\theta$)')\n",
    "ax[0, 0].legend()\n",
    "ax[0, 0].grid()\n",
    "ax[0, 1].errorbar(N_fp1, massimi_fp1[1], yerr = massimi_fp1_err[1], fmt = '.', label = 'Dati')\n",
    "ax[0, 1].plot(N_fp1, FP_maximum(np.array(N_fp1), *val2), label = 'Fit')\n",
    "ax[0, 1].set_title('Interferenza di Fabry-Perot 2')\n",
    "ax[0, 1].set_xlabel('N')\n",
    "ax[0, 1].set_ylabel('cos($\\\\theta$)')\n",
    "ax[0, 1].legend()\n",
    "ax[0, 1].grid()\n",
    "ax[1, 0].errorbar(N_fp1, massimi_fp1[2], yerr = massimi_fp1_err[2], fmt = '.', label = 'Dati')\n",
    "ax[1, 0].plot(N_fp1, FP_maximum(np.array(N_fp1), *val3), label = 'Fit')\n",
    "ax[1, 0].set_title('Interferenza di Fabry-Perot 3')\n",
    "ax[1, 0].set_xlabel('N')\n",
    "ax[1, 0].set_ylabel('cos($\\\\theta$)')\n",
    "ax[1, 0].legend()\n",
    "ax[1, 0].grid()\n",
    "ax[1, 1].errorbar(N_fp1, massimi_fp1[3], yerr = massimi_fp1_err[3], fmt = '.', label = 'Dati')\n",
    "ax[1, 1].plot(N_fp1, FP_maximum(np.array(N_fp1), *val4), label = 'Fit')\n",
    "ax[1, 1].set_title('Interferenza di Fabry-Perot 4')\n",
    "ax[1, 1].set_xlabel('N')\n",
    "ax[1, 1].set_ylabel('cos($\\\\theta$)')\n",
    "ax[1, 1].legend()\n",
    "ax[1, 1].grid()\n",
    "plt.tight_layout()\n",
    "plt.subplots_adjust(top = 0.9)\n",
    "plt.show()"
   ]
  },
  {
   "cell_type": "code",
   "execution_count": null,
   "metadata": {},
   "outputs": [],
   "source": [
    "for i in range(len(par1)):\n",
    "    print(f'{par1[i]}1: {val1[i]:.3g} ± {ers1[i]:.3g}')\n",
    "    print(f'{par2[i]}2: {val2[i]:.3g} ± {ers2[i]:.3g}')\n",
    "    print(f'{par3[i]}3: {val3[i]:.3g} ± {ers3[i]:.3g}')\n",
    "    print(f'{par4[i]}4: {val4[i]:.3g} ± {ers4[i]:.3g}')\n",
    "    if i == 0:\n",
    "        print(\"--------------------\")\n",
    "\n",
    "print(\"--------------------\")\n",
    "print(f\"Media delta: {(val1[1]+val2[1]+val3[1]+val4[1])/4:.3g} ± {(np.sqrt(ers1[1]**2+ers2[1]**2+ers3[1]**2+ers4[1]**2)/4):.3g}\")\n",
    "print(\"--------------------\")\n",
    "\n",
    "print(f\"Chi 1: {(other1[2]/other1[1]):.3g} - Pvalue 1: {other1[0]:.3g}\")\n",
    "print(f\"Chi 2: {(other2[2]/other2[1]):.3g} - Pvalue 2: {other2[0]:.3g}\")\n",
    "print(f\"Chi 3: {(other3[2]/other3[1]):.3g} - Pvalue 3: {other3[0]:.3g}\")\n",
    "print(f\"Chi 4: {(other4[2]/other4[1]):.3g} - Pvalue 4: {other4[0]:.3g}\")"
   ]
  },
  {
   "cell_type": "markdown",
   "metadata": {},
   "source": [
    "## Frange"
   ]
  },
  {
   "cell_type": "markdown",
   "metadata": {},
   "source": [
    "20 micrometri -> passonomio \\\n",
    "N frange = 56, 59, 60, 60, 64, 56 \\\n",
    "Approssimiamo $\\cos\\theta$ a 1"
   ]
  },
  {
   "cell_type": "code",
   "execution_count": null,
   "metadata": {},
   "outputs": [],
   "source": [
    "delta_N_fp = [61, 64, 59, 60, 60, 64] # possibilmente aggiungere 56, 56\n",
    "delta_d_fp = [FP_calib(delta_N_fp[i]) for i in range(len(delta_N_fp))]\n",
    "print(delta_d_fp)\n",
    "print(f\"Media: {np.mean(delta_d_fp):.4g} ± {np.std(delta_d_fp, ddof = 1)/len(delta_N_fp):.5g}\") # err standard della media, non std normale"
   ]
  },
  {
   "cell_type": "markdown",
   "metadata": {},
   "source": [
    "# Michelson"
   ]
  },
  {
   "cell_type": "markdown",
   "metadata": {},
   "source": [
    "## Frange"
   ]
  },
  {
   "cell_type": "markdown",
   "metadata": {},
   "source": [
    "Abbiamo spostato sempre di 20 $\\mu m$ per quanto possibile"
   ]
  },
  {
   "cell_type": "code",
   "execution_count": null,
   "metadata": {},
   "outputs": [],
   "source": [
    "delta_N_mc = [62, 60, 60, 60, 64]\n",
    "delta_d_mc = [FP_calib(delta_N_mc[i]) for i in range(len(delta_N_mc))]  # sono senza errore perchè non ho l'errore sulla misura delle frange\n",
    "\n",
    "print(delta_d_mc)\n",
    "print(f\"Media: {np.mean(delta_d_mc):.4g} - Deviazione standard: {np.std(delta_d_mc)/len(delta_N_mc):.3g}\") # err standard della media, non std normale"
   ]
  },
  {
   "cell_type": "markdown",
   "metadata": {},
   "source": [
    "Ricontrollare l'ordine di grandezza \\\n",
    "Inoltre per confrontare i due metodi possiamo confrontare le due varianze"
   ]
  },
  {
   "cell_type": "markdown",
   "metadata": {},
   "source": [
    "## Indice rifrazione aria"
   ]
  },
  {
   "cell_type": "markdown",
   "metadata": {},
   "source": [
    "misura lunghezza cella $\\approx$ 3 cm  dal PASCO \\\n",
    "unità di misura della pressione kPa"
   ]
  },
  {
   "cell_type": "markdown",
   "metadata": {},
   "source": [
    "Si può tentare di usare i inHg (non mm o cm, ma inch) invece di kPa"
   ]
  },
  {
   "cell_type": "code",
   "execution_count": null,
   "metadata": {},
   "outputs": [],
   "source": [
    "n_atteso = 1.00029\n",
    "m_atteso = 2.877e-6 # kPa ^-1\n",
    "l_cella = 0.03\n",
    "l_cella_err = 0\n",
    "pressf_err = 2/np.sqrt(12) # Sensibilità dello strumento\n",
    "\n",
    "presf1, N1_aria = P0-80, 18+1\n",
    "presf2, N2_aria = P0-76, 16+1\n",
    "presf3, N3_aria = P0-50, 11+1\n",
    "presf4, N4_aria = P0-42, 9+1\n",
    "\n",
    "n_aria_tot = [MC_nAria(N1_aria, l_cella, presf1, l_cella_err, pressf_err), MC_nAria(N2_aria, l_cella, presf2, l_cella_err, pressf_err), MC_nAria(N3_aria, l_cella, presf3, l_cella_err, pressf_err), MC_nAria(N4_aria, l_cella, presf4, l_cella_err, pressf_err)]\n",
    "\n",
    "n_aria_mean = np.mean([n_aria_tot[i][0] for i in range(len(n_aria_tot))]) \n",
    "n_aria_tot_err = np.sqrt(np.sum([n_aria_tot[i][1]**2 for i in range(len(n_aria_tot))])/len(n_aria_tot))\n",
    "m_aria_mean = np.mean([n_aria_tot[i][2] for i in range(len(n_aria_tot))])\n",
    "m_aria_err = np.sqrt(np.sum([n_aria_tot[i][1]**2 for i in range(len(n_aria_tot))])/len(n_aria_tot))\n",
    "\n",
    "# compatibilità tra il valore atteso e quello trovato\n",
    "# comp = TestCompatibilita(n_atteso, 0, n_aria_mean, n_aria_tot_err)\n",
    "# print(f\"Media: {n_aria_mean:.6g} - Deviazione standard: {n_aria_tot_err:.3g}\")\n",
    "# print(f\"Distanza in deviazioni standard: {comp}\")\n",
    "print(f\"Media m: {m_aria_mean:.4g} ± {m_aria_err:.4g}\")\n",
    "print(\"Compatibilità: \", TestCompatibilita(m_atteso, 0, m_aria_mean, m_aria_err))"
   ]
  },
  {
   "cell_type": "code",
   "execution_count": null,
   "metadata": {},
   "outputs": [],
   "source": [
    "def mod_lin(x, m):\n",
    "    return m*x + 1\n",
    "\n",
    "n_aria = [elem[0] for elem in n_aria_tot]\n",
    "n_aria_err = [elem[1] for elem in n_aria_tot]\n",
    "presf_aria = [presf1, presf2, presf3, presf4]\n",
    "\n",
    "# fit dei dati con un modello lineare\n",
    "par_aria, val_aria, ers_aria, *other_aria = LS_fit(presf_aria, n_aria, n_aria_err, mod_lin, m = 1)\n",
    "\n",
    "print(f\"m: {val_aria[0]:.4g} ± {ers_aria[0]:.4g}\")\n",
    "print(\"Compatibilita: \", TestCompatibilita(m_atteso, 0, val_aria[0], ers_aria[0]))"
   ]
  },
  {
   "cell_type": "code",
   "execution_count": null,
   "metadata": {},
   "outputs": [],
   "source": [
    "# plot dei dati e del fit\n",
    "\n",
    "plt.errorbar(presf_aria, n_aria, yerr = n_aria_err, fmt = '.')\n",
    "plt.plot(presf_aria, mod_lin(np.array(presf_aria), *val_aria))\n",
    "plt.xlabel('Pressione [kPa]')\n",
    "plt.ylabel('Indice di rifrazione')\n",
    "plt.legend([rf\"Fit : $\\tilde\\chi^2$ : {other_aria[2]/other_aria[1]:.3g}\", 'Dati'])\n",
    "plt.grid()\n",
    "plt.show()"
   ]
  },
  {
   "cell_type": "markdown",
   "metadata": {},
   "source": [
    "## Indice rifrazione vetro"
   ]
  },
  {
   "cell_type": "code",
   "execution_count": null,
   "metadata": {},
   "outputs": [],
   "source": [
    "thetai1, thetaf1, N1_vetro = *np.deg2rad([-0.4, 4.0]), 19\n",
    "thetai2, thetaf2, N2_vetro = *np.deg2rad([-0.4, 5.0]), 29\n",
    "thetai3, thetaf3, N3_vetro = *np.deg2rad([-0.4, 6.1]), 42\n",
    "thetai4, thetaf4, N4_vetro = *np.deg2rad([-0.4, 2.9]), 11\n",
    "d_vetro = .005\n",
    "theta_err = np.deg2rad(0.1)\n",
    "\n",
    "n_vetro_tot = [MC_nVetro(N1_vetro, d_vetro, thetai1-thetaf1, 0, theta_err), MC_nVetro(N2_vetro, d_vetro, thetai2-thetaf2, 0, theta_err), MC_nVetro(N3_vetro, d_vetro, thetai3-thetaf3, 0, theta_err), MC_nVetro(N4_vetro, d_vetro, thetai4-thetaf4, 0, theta_err)]\n",
    "\n",
    "n_vetro = [elem[0] for elem in n_vetro_tot]\n",
    "n_vetro_tot_err = [elem[1] for elem in n_vetro_tot]\n",
    "n_vetro_mean = np.mean(n_vetro)\n",
    "n_vetro_err = np.sqrt(np.sum([n_vetro_tot_err[i]**2 for i in range(len(n_vetro_tot))])/len(n_vetro_tot))\n",
    "\n",
    "for i in range(len(n_vetro_tot)):\n",
    "    print(f\"n_{i+1}: {n_vetro[i]:.6g} ± {n_vetro_tot_err[i]:.3g}\")\n",
    "\n",
    "print(f\"Media: {n_vetro_mean:.6g} ± {n_vetro_err:.3g}\")"
   ]
  },
  {
   "cell_type": "markdown",
   "metadata": {},
   "source": [
    "## Righello"
   ]
  },
  {
   "cell_type": "code",
   "execution_count": null,
   "metadata": {},
   "outputs": [],
   "source": [
    "# primo tentativo\n",
    "D = 1.47 #m\n",
    "D_err = 0.01 #m\n",
    "dist_P0Pt = 0.171 #m\n",
    "dist1 = dist_P0Pt/2\n",
    "dist1_err = 0.001 #m\n",
    "d = 0.001 #m distanza delle sorgenti del reticolo (tacche del righello)\n",
    "distanze = np.array([0.016, 0.029, 0.041, 0.051, 0.062])\n",
    "distanze_err = 0.002 #m (somma degli errori)\n",
    "theta_i = np.arctan((dist1)/D)\n",
    "theta_n = np.arctan((dist1 + distanze) / D) # in teoria sono radianti\n",
    "\n",
    "theta_i_err = np.sqrt((D*dist1*dist1_err/(D**2+dist1**2))**2 + (dist1*D_err/(D**2+dist1**2))**2)\n",
    "theta_n_err = np.sqrt((D*distanze*distanze_err/(D**2+distanze**2))**2 + (distanze*D_err/(D**2+distanze**2))**2)\n",
    "\n",
    "lambda_laser_tot = [Lambda_righello(i+1, theta_i, theta_n[i], d, theta_i_err, theta_n_err[i]) for i in range(len(distanze))]\n",
    "\n",
    "lambda_laser = [elem[0] for elem in lambda_laser_tot]\n",
    "lambda_laser_err = [elem[1] for elem in lambda_laser_tot]\n",
    "lambda_laser_mean = np.mean(lambda_laser)\n",
    "lambda_laser_err_mean = np.sqrt(np.sum([lambda_laser_err[i]**2 for i in range(len(lambda_laser_err))])/len(lambda_laser_err))\n",
    "\n",
    "#Compatibilità tra il valore atteso e quello trovato\n",
    "\n",
    "comp = TestCompatibilita(lambda_, 0, lambda_laser_mean, lambda_laser_err_mean)\n",
    "print(f\"Media: {lambda_laser_mean:.3g} - Deviazione standard: {lambda_laser_err_mean:.3g}\")\n",
    "print(f\"Distanza in deviazioni standard: {comp}\")"
   ]
  },
  {
   "cell_type": "code",
   "execution_count": null,
   "metadata": {},
   "outputs": [],
   "source": [
    "# secondo tentativo\n",
    "D = 1.03 #m\n",
    "D_err = 0.01 #m\n",
    "dist_P0Pt = 0.12 #m\n",
    "dist1 = dist_P0Pt/2\n",
    "dist1_err = 0.0005 #m\n",
    "d = 0.001 #m distanza delle sorgenti del reticolo (tacche del righello)\n",
    "distanze = np.array([0.01, 0.02, 0.028, 0.035, 0.043])\n",
    "distanze_err = 0.0015 #m (somma degli errori)\n",
    "theta_i = np.arctan((dist1)/D)\n",
    "theta_n = np.arctan((dist1 + distanze) / D) # in teoria sono radianti\n",
    "\n",
    "theta_i_err = np.sqrt((D*dist1*dist1_err/(D**2+dist1**2))**2 + (dist1*D_err/(D**2+dist1**2))**2)\n",
    "theta_n_err = np.sqrt((D*distanze*distanze_err/(D**2+distanze**2))**2 + (distanze*D_err/(D**2+distanze**2))**2)\n",
    "\n",
    "lambda_laser_tot = [Lambda_righello(i+1, theta_i, theta_n[i], d, theta_i_err, theta_n_err[i]) for i in range(len(distanze))]\n",
    "lambda_laser = [elem[0] for elem in lambda_laser_tot]\n",
    "lambda_laser_err = [elem[1] for elem in lambda_laser_tot]\n",
    "lambda_laser_mean = np.mean(lambda_laser)\n",
    "lambda_laser_err_mean = np.sqrt(np.sum([lambda_laser_err[i]**2 for i in range(len(lambda_laser_err))])/len(lambda_laser_err))\n",
    "\n",
    "#Compatibilità tra il valore trovato e quello atteso\n",
    "comp = TestCompatibilita(lambda_, 0, lambda_laser_mean, lambda_laser_err_mean)\n",
    "\n",
    "print(f\"Media: {lambda_laser_mean:.3g} - Deviazione standard: {lambda_laser_err_mean:.3g}\")\n",
    "print(f\"Distanza in deviazioni standard: {comp}\")"
   ]
  }
 ],
 "metadata": {
  "kernelspec": {
   "display_name": "Python 3",
   "language": "python",
   "name": "python3"
  },
  "language_info": {
   "codemirror_mode": {
    "name": "ipython",
    "version": 3
   },
   "file_extension": ".py",
   "mimetype": "text/x-python",
   "name": "python",
   "nbconvert_exporter": "python",
   "pygments_lexer": "ipython3",
   "version": "3.11.1"
  }
 },
 "nbformat": 4,
 "nbformat_minor": 2
}
