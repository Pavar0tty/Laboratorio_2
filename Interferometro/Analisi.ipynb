{
 "cells": [
  {
   "cell_type": "code",
   "execution_count": null,
   "metadata": {},
   "outputs": [],
   "source": [
    "import numpy as np\n",
    "import pandas as pd\n",
    "import matplotlib.pyplot as plt\n",
    "\n",
    "import sys\n",
    "sys.path.insert(1, '../Config')\n",
    "from lablib import *"
   ]
  },
  {
   "cell_type": "markdown",
   "metadata": {},
   "source": [
    "# Definizione funzioni"
   ]
  },
  {
   "cell_type": "code",
   "execution_count": null,
   "metadata": {},
   "outputs": [],
   "source": [
    "#Legge per la figura di interferenza di Fabry-Perot\n",
    "lambda_ = 632.8e-9 # lunghezza d'onda del laser\n",
    "P0 = 101.325 # pressione atmosferica in kPa\n",
    "\n",
    "def FP_maximum(N, d, delta):\n",
    "    cos = N*lambda_/(2*d) - (delta*lambda_/(d*np.pi*4)) # coseno dell'angolo di incidenza\n",
    "    return -cos\n",
    "\n",
    "#Legge per calibrazione del nonio in Fabry-Perot\n",
    "\n",
    "def FP_calib(dN):\n",
    "    d = dN*lambda_/2    #variazione di distanza tra le lastre \n",
    "    return d\n",
    "\n",
    "def MC_nVetro(dN, d, theta):\n",
    "    n = (2*d - dN*lambda_)*(1-np.cos(theta))/(2*d * (1-np.cos(theta)) - dN * lambda_)\n",
    "    return n\n",
    "\n",
    "def MC_nAria(dN, d, Pf):\n",
    "    m = (dN  * lambda_)/(2 * d * (P0))\n",
    "    n = m* P0 + 1\n",
    "    return n\n",
    "\n",
    "def Lambda_righello(N, theta_i, theta_n, D):\n",
    "    return D * (np.cos(theta_i) - np.cos(theta_n)) / N"
   ]
  },
  {
   "cell_type": "markdown",
   "metadata": {},
   "source": [
    "# Fabry-Perot"
   ]
  },
  {
   "cell_type": "markdown",
   "metadata": {},
   "source": [
    "## Specchio"
   ]
  },
  {
   "cell_type": "markdown",
   "metadata": {},
   "source": [
    "Misure di FP1 prese in mm \\\n",
    "sensibilità calibro 0.05mm"
   ]
  },
  {
   "cell_type": "code",
   "execution_count": null,
   "metadata": {},
   "outputs": [],
   "source": [
    "dati_fp1 = pd.read_excel('FP1.xlsx')\n",
    "raggi_fp1 = dati_fp1[:].dropna().values.T / 1000 # raggi in m\n",
    "d_sorgente = 1.375 # distanza da sorgente in m\n",
    "\n",
    "N_fp1 = list(range(1, len(raggi_fp1[0])+1))\n",
    "massimi_fp1 = [[np.cos(np.arctan(raggi_fp1[i][j])) for j in range(len(raggi_fp1[i]))] for i in range(len(raggi_fp1))]\n",
    "\n",
    "yerr_temp = [.00005]*len(N_fp1)"
   ]
  },
  {
   "cell_type": "code",
   "execution_count": null,
   "metadata": {},
   "outputs": [],
   "source": [
    "par1, val1, ers1, *other1 = LS_fit(N_fp1, massimi_fp1[0], yerr_temp, FP_maximum, d = 0.002, delta = 5e4, disp = 1)\n",
    "par2, val2, ers2, *other2 = LS_fit(N_fp1, massimi_fp1[1], yerr_temp, FP_maximum, d = 0.002, delta = 5e4, disp = 0)\n",
    "par3, val3, ers3, *other3 = LS_fit(N_fp1, massimi_fp1[2], yerr_temp, FP_maximum, d = 0.002, delta = 5e4, disp = 0)\n",
    "par4, val4, ers4, *other4 = LS_fit(N_fp1, massimi_fp1[3], yerr_temp, FP_maximum, d = 0.002, delta = 5e4, disp = 0)"
   ]
  },
  {
   "cell_type": "code",
   "execution_count": null,
   "metadata": {},
   "outputs": [],
   "source": [
    "for i in range(len(par1)):\n",
    "    print(f'{par1[i]}1: {val1[i]:.3g} ± {ers1[i]:.3g}')\n",
    "    print(f'{par2[i]}2: {val2[i]:.3g} ± {ers2[i]:.3g}')\n",
    "    print(f'{par3[i]}3: {val3[i]:.3g} ± {ers3[i]:.3g}')\n",
    "    print(f'{par4[i]}4: {val4[i]:.3g} ± {ers4[i]:.3g}')\n",
    "    if i == 0:\n",
    "        print(\"--------------------\")\n",
    "\n",
    "print(\"--------------------\")\n",
    "print(f\"Media: {(val1[0]+val2[0]+val3[0]+val4[0])/4:.3g} ± {(ers1[0]+ers2[0]+ers3[0]+ers4[0])/4:.3g}\")\n",
    "print(\"--------------------\")\n",
    "\n",
    "print(f\"Chi 1: {(other1[2]/other1[1]):.3g} - Pvalue 1: {other1[0]:.3g}\")\n",
    "print(f\"Chi 2: {(other2[2]/other2[1]):.3g} - Pvalue 2: {other2[0]:.3g}\")\n",
    "print(f\"Chi 3: {(other3[2]/other3[1]):.3g} - Pvalue 3: {other3[0]:.3g}\")\n",
    "print(f\"Chi 4: {(other4[2]/other4[1]):.3g} - Pvalue 4: {other4[0]:.3g}\")"
   ]
  },
  {
   "cell_type": "markdown",
   "metadata": {},
   "source": [
    "## Frange"
   ]
  },
  {
   "cell_type": "markdown",
   "metadata": {},
   "source": [
    "20 micrometri -> passonomio \\\n",
    "N frange = 56, 59, 60, 60, 64, 56 \\\n",
    "Approssimiamo $\\cos\\theta$ a 1"
   ]
  },
  {
   "cell_type": "code",
   "execution_count": null,
   "metadata": {},
   "outputs": [],
   "source": [
    "delta_N_fp = [61, 64, 59, 60, 60, 64] # possibilmente aggiungere 56, 56\n",
    "delta_d_fp = [FP_calib(delta_N_fp[i]) for i in range(len(delta_N_fp))]\n",
    "print(delta_d_fp)\n",
    "print(f\"Media: {np.mean(delta_d_fp):.3g} ± {np.std(delta_d_fp, ddof = 1):.3g}\")"
   ]
  },
  {
   "cell_type": "markdown",
   "metadata": {},
   "source": [
    "# Michelson"
   ]
  },
  {
   "cell_type": "markdown",
   "metadata": {},
   "source": [
    "## Frange"
   ]
  },
  {
   "cell_type": "markdown",
   "metadata": {},
   "source": [
    "Abbiamo spostato sempre di 20 $\\mu m$ per quanto possibile"
   ]
  },
  {
   "cell_type": "code",
   "execution_count": null,
   "metadata": {},
   "outputs": [],
   "source": [
    "delta_N_mc = [62, 60, 60] # possibilmente aggiuntere 60, 64\n",
    "delta_d_mc = [FP_calib(delta_N_mc[i]) for i in range(len(delta_N_mc))]\n",
    "\n",
    "print(delta_d_mc)\n",
    "print(f\"Media: {np.mean(delta_d_mc):.3g} - Deviazione standard: {np.std(delta_d_mc):.3g}\")"
   ]
  },
  {
   "cell_type": "markdown",
   "metadata": {},
   "source": [
    "Ricontrollare l'ordine di grandezza \\\n",
    "Inoltre per confrontare i due metodi possiamo confrontare le due varianze"
   ]
  },
  {
   "cell_type": "markdown",
   "metadata": {},
   "source": [
    "## Indice rifrazione aria"
   ]
  },
  {
   "cell_type": "markdown",
   "metadata": {},
   "source": [
    "misura lunghezza cella $\\approx$ 3 cm  dal PASCO \\\n",
    "unità di misura della pressione kPa"
   ]
  },
  {
   "cell_type": "markdown",
   "metadata": {},
   "source": [
    "Si può tentare di usare i inHg (non mm o cm, ma inch) invece di kPa"
   ]
  },
  {
   "cell_type": "code",
   "execution_count": null,
   "metadata": {},
   "outputs": [],
   "source": [
    "l_cella = 0.03\n",
    "\n",
    "pressf1, N1_aria = 76, 16\n",
    "presf2, N2_aria = 80, 18\n",
    "presf3, N3_aria = 50, 11\n",
    "presf4, N4_aria = 42, 9\n",
    "\n",
    "n_aria = [MC_nAria(N1_aria, l_cella, pressf1), MC_nAria(N2_aria, l_cella, presf2), MC_nAria(N3_aria, l_cella, presf3), MC_nAria(N4_aria, l_cella, presf4)]\n",
    "\n",
    "print(n_aria)\n",
    "print(f\"Media: {np.mean(n_aria):.6g} - Deviazione standard: {np.std(n_aria):.3g}\")"
   ]
  },
  {
   "cell_type": "markdown",
   "metadata": {},
   "source": [
    "## Indice rifrazione vetro"
   ]
  },
  {
   "cell_type": "code",
   "execution_count": null,
   "metadata": {},
   "outputs": [],
   "source": [
    "thetai1, thetaf1, N1_vetro = *np.deg2rad([-0.4, 4.0]), 19\n",
    "thetai2, thetaf2, N2_vetro = *np.deg2rad([-0.4, 5.0]), 29\n",
    "thetai3, thetaf3, N3_vetro = *np.deg2rad([-0.4, 6.1]), 42\n",
    "thetai4, thetaf4, N4_vetro = *np.deg2rad([-0.4, 2.9]), 11\n",
    "d_vetro = .005\n",
    "\n",
    "\n",
    "n_vetro = [MC_nVetro(N1_vetro, d_vetro, thetai1-thetaf1), MC_nVetro(N2_vetro, d_vetro, thetai2-thetaf2), MC_nVetro(N3_vetro, d_vetro, thetai3-thetaf3), MC_nVetro(N4_vetro, d_vetro, thetai4-thetaf4)]\n",
    "\n",
    "for i in range(len(n_vetro)):\n",
    "    print(f'n_vetro_{i+1}: {n_vetro[i]:.3g}')\n",
    "print(f\"n_vetro medio: {np.mean(n_vetro):.3g} ± {np.std(n_vetro):.3g}\")"
   ]
  },
  {
   "cell_type": "markdown",
   "metadata": {},
   "source": [
    "## Righello"
   ]
  },
  {
   "cell_type": "code",
   "execution_count": null,
   "metadata": {},
   "outputs": [],
   "source": [
    "# primo tentativo\n",
    "D = 1.47 #m\n",
    "dist_P0Pt = 0.171 #m\n",
    "distanze = np.array([0.016, 0.029, 0.041, 0.051, 0.062])\n",
    "theta_i = np.arctan((dist_P0Pt/2)/D)\n",
    "theta_n = np.arctan((dist_P0Pt/2 + distanze) / D) # in teoria sono radianti\n",
    "\n",
    "lambda_laser = [Lambda_righello(i+1, theta_i, theta_n[i], D) for i in range(len(distanze))]\n",
    "\n",
    "print(lambda_laser)\n",
    "print(f\"Media: {np.mean(lambda_laser):.3g} - Deviazione standard: {np.std(lambda_laser):.3g}\")"
   ]
  },
  {
   "cell_type": "code",
   "execution_count": null,
   "metadata": {},
   "outputs": [],
   "source": [
    "# secondo tentativo\n",
    "D = 1.03 #m\n",
    "dist_P0Pt = 0.12 #m\n",
    "distanze = np.array([0.01, 0.02, 0.028, 0.035, 0.043])\n",
    "theta_i = np.arctan((dist_P0Pt/2)/D)\n",
    "theta_n = np.arctan((dist_P0Pt/2 + distanze) / D) # in teoria sono radianti\n",
    "\n",
    "lambda_laser = [Lambda_righello(i+1, theta_i, theta_n[i], D) for i in range(len(distanze))]\n",
    "\n",
    "print(lambda_laser)\n",
    "print(f\"Media: {np.mean(lambda_laser):.3g} - Deviazione standard: {np.std(lambda_laser):.3g}\")"
   ]
  }
 ],
 "metadata": {
  "kernelspec": {
   "display_name": "Python 3",
   "language": "python",
   "name": "python3"
  },
  "language_info": {
   "codemirror_mode": {
    "name": "ipython",
    "version": 3
   },
   "file_extension": ".py",
   "mimetype": "text/x-python",
   "name": "python",
   "nbconvert_exporter": "python",
   "pygments_lexer": "ipython3",
   "version": "3.11.1"
  }
 },
 "nbformat": 4,
 "nbformat_minor": 2
}
