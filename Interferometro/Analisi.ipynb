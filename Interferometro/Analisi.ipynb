{
 "cells": [
  {
   "cell_type": "code",
   "execution_count": null,
   "metadata": {},
   "outputs": [],
   "source": [
    "import numpy as np\n",
    "import pandas as pd\n",
    "import matplotlib.pyplot as plt\n",
    "\n",
    "import sys\n",
    "sys.path.insert(1, '../Config')\n",
    "from lablib import *"
   ]
  },
  {
   "cell_type": "markdown",
   "metadata": {},
   "source": [
    "# Definizione funzioni"
   ]
  },
  {
   "cell_type": "code",
   "execution_count": null,
   "metadata": {},
   "outputs": [],
   "source": [
    "#Legge per la figura di interferenza di Fabry-Perot\n",
    "\n",
    "def FP_maximum(N, lambda_, d, delta):\n",
    "    x = np.arccos(lambda_/(2*d)*(N-delta/(2*np.pi))) #angolo di incidenza\n",
    "    return x\n",
    "\n",
    "#Legge per calibrazione del nonio in Fabry-Perot\n",
    "\n",
    "def FB_nonio(dN, lambda_, theta, theta_err):\n",
    "    x = dN*lambda_/(2*np.cos(theta))    #variazione di distanza tra le lastre\n",
    "    y = dN*lambda_*np.sin(theta)*theta_err/(2*np.cos(theta)**3)    \n",
    "    return x, y"
   ]
  }
 ],
 "metadata": {
  "kernelspec": {
   "display_name": "Python 3",
   "language": "python",
   "name": "python3"
  },
  "language_info": {
   "codemirror_mode": {
    "name": "ipython",
    "version": 3
   },
   "file_extension": ".py",
   "mimetype": "text/x-python",
   "name": "python",
   "nbconvert_exporter": "python",
   "pygments_lexer": "ipython3",
   "version": "3.11.1"
  }
 },
 "nbformat": 4,
 "nbformat_minor": 2
}
