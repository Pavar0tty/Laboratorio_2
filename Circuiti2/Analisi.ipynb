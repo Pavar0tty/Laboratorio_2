{
  "cells": [
    {
      "cell_type": "code",
      "execution_count": 1,
      "metadata": {
        "id": "1Er2WMvtEzcp"
      },
      "outputs": [],
      "source": [
        "import os, sys\n",
        "import numpy as np\n",
        "import matplotlib.pyplot as plt\n",
        "import pandas as pd\n",
        "from scipy.stats import *\n",
        "from iminuit import Minuit\n",
        "from iminuit.cost import LeastSquares"
      ]
    },
    {
      "cell_type": "markdown",
      "metadata": {},
      "source": [
        "# Prima parte"
      ]
    },
    {
      "cell_type": "markdown",
      "metadata": {},
      "source": [
        "## Circuito RC\n",
        "\n",
        "Abbiamo effettuato le misurazioni con il cursore dell'oscilloscopio. \\\n",
        "**Resistenza interna oscilloscopio** = 50 $\\Omega$\n",
        "\n",
        "Capacita = 10 nF \\\n",
        "resistenza = 67.1 $k\\Omega$ \\\n",
        "frequenza = 200 Hz \\\n",
        "incertezza su oscilloscopio (precisione strumento) = 8 mV\n"
      ]
    },
    {
      "cell_type": "code",
      "execution_count": null,
      "metadata": {},
      "outputs": [],
      "source": [
        "# Primo plot dei dati\n",
        "dati1 = pd.read_csv(\"Dati1.csv\")\n",
        "\n",
        "tempi1 = dati1[\"tempo(carica)[ms]\"]\n",
        "carica1 = dati1[\"tensione(carica1)[mV]\"]\n",
        "\n",
        "plt.errorbar(tempi1, carica1, [.8 for i in carica1], fmt = '.')\n",
        "plt.show()"
      ]
    },
    {
      "cell_type": "markdown",
      "metadata": {},
      "source": [
        "## Circuito RL"
      ]
    },
    {
      "cell_type": "markdown",
      "metadata": {},
      "source": [
        "induttanza circa 10 mH \\\n",
        "resistenza = 1 $k\\Omega$ \\\n",
        "frequenza = 700 Hz \\\n",
        "range di tensione = -1,1 V \\\n",
        "precisione oscilloscopio = 20 mV"
      ]
    },
    {
      "cell_type": "markdown",
      "metadata": {},
      "source": [
        " # Seconda parte"
      ]
    },
    {
      "cell_type": "markdown",
      "metadata": {},
      "source": [
        "## Circuito RLC\n",
        "\n",
        "Resistenza = 300 $\\Omega$ \\\n",
        "Induttanza e capacità uguali a prima\n",
        "\n",
        "Abbiamo stimato le costanti del sistema prima di prendere i dati:\n",
        "* $\\omega_0$ = 100 kHz\n",
        "* $f_0 = \\frac{\\omega_0}{2\\pi}$ = 16kHz \n",
        "\n",
        "Ci siamo resi presto conto che questi risultati sono insensati \\\n",
        "Frequenza effettivamente usata = 300 Hz"
      ]
    }
  ],
  "metadata": {
    "colab": {
      "authorship_tag": "ABX9TyNvHMmZMBsLenpa84Ceqe7z",
      "include_colab_link": true,
      "provenance": []
    },
    "kernelspec": {
      "display_name": "Python 3",
      "name": "python3"
    },
    "language_info": {
      "codemirror_mode": {
        "name": "ipython",
        "version": 3
      },
      "file_extension": ".py",
      "mimetype": "text/x-python",
      "name": "python",
      "nbconvert_exporter": "python",
      "pygments_lexer": "ipython3",
      "version": "3.11.1"
    }
  },
  "nbformat": 4,
  "nbformat_minor": 0
}
