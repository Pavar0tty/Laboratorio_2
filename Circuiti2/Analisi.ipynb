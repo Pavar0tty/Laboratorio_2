{
 "cells": [
  {
   "cell_type": "code",
   "execution_count": null,
   "metadata": {
    "id": "1Er2WMvtEzcp"
   },
   "outputs": [],
   "source": [
    "import numpy as np\n",
    "import pandas as pd\n",
    "import matplotlib.pyplot as plt\n",
    "\n",
    "import sys\n",
    "sys.path.insert(1, '../Config')\n",
    "from lablib import *"
   ]
  },
  {
   "cell_type": "markdown",
   "metadata": {},
   "source": [
    "# Prima parte"
   ]
  },
  {
   "cell_type": "markdown",
   "metadata": {},
   "source": [
    "## Circuito RC\n",
    "\n",
    "Abbiamo effettuato le misurazioni con il cursore dell'oscilloscopio. \\\n",
    "**Resistenza interna oscilloscopio** = 50 $\\Omega$\n",
    "\n",
    "Intrvallo tensione (0.5,-0.5) V \\\n",
    "Capacità = 10 nF \\\n",
    "resistenza = 67.1 $k\\Omega$ \\\n",
    "frequenza = 200 Hz \\\n",
    "incertezza su oscilloscopio (precisione strumento) = 8 mV\n"
   ]
  },
  {
   "cell_type": "code",
   "execution_count": null,
   "metadata": {},
   "outputs": [],
   "source": [
    "# Primo plot dei dati\n",
    "dati1 = pd.read_csv(\"Dati1.csv\")\n",
    "\n",
    "tempi1 = dati1[\"tempo(carica)\"]\n",
    "tens1 = dati1[\"tensione(carica1)\"]\n",
    "\n",
    "# plt.errorbar(tempi1, tens1, [8 for i in tens1], fmt = '.')\n",
    "# plt.show()"
   ]
  },
  {
   "cell_type": "code",
   "execution_count": null,
   "metadata": {},
   "outputs": [],
   "source": [
    "# prova fit dei dati con libreria\n",
    "#def mod_RL(x,V,T,tau):\n",
    " #   return np.exp(-1*(x)/tau)*(2*V/(1 + np.exp(-1*T/(2*tau)))) \n",
    "\n",
    "def mod_exp(x, A, T, C):\n",
    "    return A*np.exp(-x/T) + C\n",
    "\n",
    "tempi1_ms = [i*1e-3 for i in tempi1]\n",
    "tens1_mv = [i*1e-3 for i in tens1]\n",
    "tens1_err = [.004 for i in tens1]\n",
    "\n",
    "par1, val1, ers1, *other = LS_fit(tempi1_ms, tens1_mv, tens1_err, mod_exp, \n",
    "                                         A = 1, \n",
    "                                         T = 1, \n",
    "                                         C = 0,\n",
    "                                         disp = True) \n",
    "\n",
    "#for p, v, e in zip(par1, val1, ers1):\n",
    "#print(f\"{p} = {v:.3f} ± {e:.3f}\")\n",
    " \n",
    "print(other[0]) "
   ]
  },
  {
   "cell_type": "code",
   "execution_count": null,
   "metadata": {},
   "outputs": [],
   "source": [
    "C_multim = 10e-9\n",
    "C_multim_err = 0.1e-9\n",
    "\n",
    "QC, tau_1, c_0 = val1\n",
    "R_1 = 67.1e3 # Ohm\n",
    "R_1_err = 0.1 # Ohm\n",
    "\n",
    "C = tau_1/R_1\n",
    "C_err = 1/R_1 * np.sqrt(ers1[1]**2 + (tau_1/R_1 * R_1_err)**2)\n",
    "\n",
    "t_capacita = TestCompatibilita(C_multim, C, C_multim_err, C_err)\n",
    "\n",
    "print(f\"Capacità calcolata = ({C:.3g} ± {C_err:.3g}) F\")\n",
    "print(f\"Test compatibilità: {t_capacita:.3g}\")"
   ]
  },
  {
   "cell_type": "code",
   "execution_count": null,
   "metadata": {},
   "outputs": [],
   "source": [
    "# Cella plot\n",
    "\n",
    "x1 = np.linspace(min(tempi1_ms), max(tempi1_ms))\n",
    "y1 = mod_exp(x1, *val1)\n",
    "\n",
    "plt.errorbar(tempi1_ms, tens1_mv, tens1_err, label=\"Dati raccolti\", fmt=\".b\")\n",
    "plt.plot(x1, y1, label=\"Fit RC\", color=\"tomato\")\n",
    "plt.xlabel(\"Tempo [s]\")\n",
    "plt.ylabel(\"Tensione [V]\")\n",
    "plt.grid()\n",
    "plt.legend()\n",
    "plt.show()\n"
   ]
  },
  {
   "cell_type": "markdown",
   "metadata": {},
   "source": [
    "## Circuito RL"
   ]
  },
  {
   "cell_type": "markdown",
   "metadata": {},
   "source": [
    "induttanza ~ 10 mH \\\n",
    "resistenza = 1 $\\text{k}\\Omega$ \\\n",
    "frequenza = 700 Hz \\\n",
    "range di tensione = (-1,1) V \\\n",
    "precisione oscilloscopio = 20 mV"
   ]
  },
  {
   "cell_type": "code",
   "execution_count": null,
   "metadata": {},
   "outputs": [],
   "source": [
    "# plot dei dati\n",
    "\n",
    "dati2 = pd.read_csv(\"Dati2.csv\")\n",
    "tempi2 = dati2[\"tempo\"]\n",
    "tens2 = dati2[\"tensione(carica)\"]\n",
    "\n",
    "# plt.errorbar(tempi2, tens2, [20 for i in tens2])\n",
    "# plt.show()"
   ]
  },
  {
   "cell_type": "code",
   "execution_count": null,
   "metadata": {},
   "outputs": [],
   "source": [
    "# Fit circuito RL\n",
    "\n",
    "tempi2_ms = [i*1e-3 for i in tempi2]\n",
    "tens2_mv = [i*1e-3 for i in tens2]\n",
    "tens2_err = [.02 for i in tens2]\n",
    "\n",
    "par2, val2, ers2, *other2 = LS_fit(tempi2_ms, tens2_mv, tens2_err, mod_exp, \n",
    "                                          A = 1, \n",
    "                                          T = 1, \n",
    "                                          C = 1,\n",
    "                                          disp = \"8===D\")\n",
    "\n",
    "# for p, v, e in zip(par2, val2, ers2):\n",
    "#     print(f\"{p} = {v:.3g} ± {e:.3g}\")"
   ]
  },
  {
   "cell_type": "code",
   "execution_count": null,
   "metadata": {},
   "outputs": [],
   "source": [
    "Va, tau_2, c_1 = val2\n",
    "R_2 = 1e3 # ohm\n",
    "R_2_err = 0.1 # ohm\n",
    "\n",
    "L = R_2 * tau_2\n",
    "L_err = np.sqrt(tau_2**2 * R_2_err**2 + R_2**2 * ers2[1]**2)\n",
    "print(f\"Induttanza misurata = ({L:.3g} ± {L_err:.3g}) H\")"
   ]
  },
  {
   "cell_type": "code",
   "execution_count": null,
   "metadata": {},
   "outputs": [],
   "source": [
    "#plot dati RL\n",
    "\n",
    "\n",
    "\n",
    "x1 = np.linspace(min(tempi2_ms), max(tempi2_ms))\n",
    "y1 = mod_exp(x1, *val2)\n",
    "\n",
    "plt.errorbar(tempi2_ms, tens2_mv, tens2_err, label=\"Dati raccolti\", fmt=\".b\")\n",
    "plt.plot(x1, y1, label=\"Fit RL\", color=\"tomato\")\n",
    "plt.xlabel(\"Tempo [s]\")\n",
    "plt.ylabel(\"Tensione [V]\")\n",
    "plt.grid()\n",
    "plt.legend()\n",
    "plt.show()"
   ]
  },
  {
   "cell_type": "markdown",
   "metadata": {},
   "source": [
    " # Seconda parte"
   ]
  },
  {
   "cell_type": "markdown",
   "metadata": {},
   "source": [
    "## Circuito RLC\n",
    "\n",
    "Resistenza = 300 $\\Omega$ \\\n",
    "Induttanza e capacità uguali a prima \\\n",
    "Intervallo tensione (1,0)\n",
    "\n",
    "Abbiamo stimato le costanti del sistema prima di prendere i dati:\n",
    "* $\\omega_0$ = 100 kHz\n",
    "* $f_0 = \\frac{\\omega_0}{2\\pi}$ = 16kHz \n",
    "\n",
    "Ci siamo resi presto conto che questi risultati sono insensati \\\n",
    "Frequenza effettivamente usata = 300 Hz\n",
    "\n",
    "\n",
    "Per smorzamento critico abbiamo usato Resistenza = 3900 $\\Omega$ \\\n",
    "Per sovrasmorzamento abbiamo usato Resistenza = 10_000 $\\Omega$"
   ]
  },
  {
   "cell_type": "markdown",
   "metadata": {},
   "source": [
    "**Abbiamo stimato inizialmente come errore 0.008. Sapendo che è arbitrario a causa della risoluzione dell'oscilloscopio abbiamo stimato l'errore a posteriori**"
   ]
  },
  {
   "cell_type": "markdown",
   "metadata": {},
   "source": [
    "### Caso sottosmorzato"
   ]
  },
  {
   "cell_type": "code",
   "execution_count": null,
   "metadata": {},
   "outputs": [],
   "source": [
    "#plot dati RLC sottosmorzato\n",
    "\n",
    "dati3 = pd.read_csv(\"Dati3.csv\")\n",
    "tempi3=dati3[\"tempo\"]\n",
    "tensione3=dati3[\"tensione\"]\n",
    "\n",
    "tempi3_s = [i*1e-3 for i in tempi3]\n",
    "tensione3_v = [i*1e-3 for i in tensione3]\n",
    "\n",
    "tens3_err = [8 for i in tensione3]\n",
    "tens3_err_s = [.01 for i in tensione3]   \n",
    "\n",
    "# plt.errorbar(tempi3, tensione3_v, tens3_err_s, fmt = '.',label=\"Data points RLC\")\n",
    "# plt.title(\"Plot Circuito RLC sottosmorzato\")\n",
    "# plt.xlabel(\"Tempo [s]\")\n",
    "# plt.ylabel(\"Tensione [V]\")\n",
    "# plt.legend()\n",
    "# plt.grid()\n",
    "# plt.show()"
   ]
  },
  {
   "cell_type": "code",
   "execution_count": null,
   "metadata": {},
   "outputs": [],
   "source": [
    "# fit dei dati nel caso sottosmorzato\n",
    "\n",
    "R_3 = 300\n",
    "R_3_err = 1\n",
    "C_3 = C     #l'errore si chiama C_err\n",
    "L_3 = L     #l'errore si chiama L_err\n",
    "\n",
    "omega_0_calc = 1/np.sqrt(L_3*C_3)\n",
    "gamma_calc_1 = R_3/(2*L_3)\n",
    "omega_calc_1 = np.sqrt(omega_0_calc**2 - gamma_calc_1**2)\n",
    "\n",
    "#calcolo errori\n",
    "gamma_calc_1_err = np.sqrt((R_3_err/(2*L))**2 + (R_3*L_err/(2*L**2))**2)\n",
    "omega_calc_1_err = np.sqrt((C*L_err)**2/(4*(C*L)**3) + (L*C_err)**2/(4*(C*L)**3))\n",
    "\n",
    "def mod_ssm(x, I0, gamma, omega):\n",
    "    return I0 * np.exp(-gamma*x)*np.sin(omega*x)\n",
    "\n",
    "par3, val3, ers3, *other3 = LS_fit(tempi3_s, tensione3_v, tens3_err_s, mod_ssm, \n",
    "                                          I0 = 1, # inizializzo a 1 nel dubbio\n",
    "                                          gamma = gamma_calc_1, \n",
    "                                          omega = omega_calc_1,\n",
    "                                          disp = False)\n",
    "\n",
    "# for p, v, e in zip(par3, val3, ers3):\n",
    "#     print(f\"{p} = {v:.3g} ± {e:.3g}\")"
   ]
  },
  {
   "cell_type": "code",
   "execution_count": null,
   "metadata": {},
   "outputs": [],
   "source": [
    "print(\"Analisi dati RLC sottosmorzato\")\n",
    "print(\"--------------------\")\n",
    "print(f\"p-value = {float(other3[0]):.3g}\")\n",
    "print(f\"Degrees of freedom = {other3[1]:.3g}\")\n",
    "print(f\"chi2 = {other3[2]:.3g}\")\n",
    "print(f\"chi2_red = {other3[2]/other3[1]:.3g}\")\n",
    "print(\"--------------------\")\n",
    "\n",
    "print(f\"{par3[0]} = {val3[0]:.3g} ± {ers3[0]:.3g}\")\n",
    "print(\"--------------------\")\n",
    "\n",
    "print(f\"{par3[1]} misurato = {val3[1]:.3g} ± {ers3[1]:.3g}\")\n",
    "print(f\"valore teorico = {gamma_calc_1:.3g} ± {gamma_calc_1_err:.3g}\")\n",
    "t_ssm_gamma_1 = TestCompatibilita(val3[1], ers3[1], gamma_calc_1, gamma_calc_1_err) \n",
    "print(f\"Test compatibilità: {t_ssm_gamma_1:.3g}\")\n",
    "print(\"Confronto con tabella ~ 95-98%\")\n",
    "print(\"--------------------\")\n",
    "\n",
    "print(f\"{par3[2]} misurato = {val3[2]:.3g} ± {ers3[2]:.3g}\")\n",
    "print(f\"valore teorico = {omega_calc_1:.3g} ± {omega_calc_1_err:.3g}\")\n",
    "t_ssm_omega_1 = TestCompatibilita(val3[2], ers3[2], omega_calc_1, omega_calc_1_err)\n",
    "print(f\"Test compatibilità: {t_ssm_omega_1:.3g}\")\n",
    "print(\"Confronto con tabella ~ ? %\")\n",
    "print(\"--------------------\")"
   ]
  },
  {
   "cell_type": "code",
   "execution_count": null,
   "metadata": {},
   "outputs": [],
   "source": [
    "#plot dati RLC sottosmorzato\n",
    "\n",
    "x1 = np.linspace(min(tempi3_s), max(tempi3_s), 1000)\n",
    "y1 = mod_ssm(x1, *val3)\n",
    "\n",
    "plt.errorbar(tempi3_s, tensione3_v, tens3_err_s, label=\"Dati raccolti\", fmt=\".b\")\n",
    "plt.plot(x1, y1, label=\"RLC sottosmorzato\", color=\"tomato\")\n",
    "plt.xlabel(\"Tempo [s]\")\n",
    "plt.ylabel(\"Tensione [V]\")\n",
    "plt.grid()\n",
    "plt.legend()\n",
    "plt.show()"
   ]
  },
  {
   "cell_type": "markdown",
   "metadata": {},
   "source": [
    "### Caso Smorzamento Critico "
   ]
  },
  {
   "cell_type": "code",
   "execution_count": null,
   "metadata": {},
   "outputs": [],
   "source": [
    "#plot dati RLC sottosmorzato\n",
    "#resistenza usata R = 3900 omh\n",
    "\n",
    "Dati3 = pd.read_csv(\"Dati3.csv\")\n",
    "tempo4 = Dati3[\"tempo2\"].dropna()\n",
    "\n",
    "tensione4 = Dati3[\"tensione2\"].dropna()\n",
    "tensione4_err = [8 for i in tensione4]\n",
    "\n",
    "#trasporto le grandezze in SI\n",
    "tempo4_s = [i*1e-3 for i in tempo4]\n",
    "tensione4_v = [i*1e-3 for i in tensione4]\n",
    "tensione4_err_v = [.008 for i in tensione4_err]\n",
    "\n",
    "# plt.errorbar(tempo4_s,tensione4_v,tensione4_err_v, fmt = '.',label=\"Data points RLC\")\n",
    "# plt.title(\"Plot Circuito RLC smorzamento critico\")\n",
    "# plt.xlabel(\"Tempo [s]\")\n",
    "# plt.ylabel(\"Tensione [V]\")\n",
    "# plt.legend()\n",
    "# plt.grid()\n",
    "# plt.show()"
   ]
  },
  {
   "cell_type": "code",
   "execution_count": null,
   "metadata": {},
   "outputs": [],
   "source": [
    "R_4 = 3900\n",
    "R_4_err = 39\n",
    "\n",
    "gamma_calc_2 = R_4/(2*L_3)\n",
    "\n",
    "#calcolo errori\n",
    "gamma_calc_2_err = np.sqrt((R_4_err/(2*L))**2 + (R_4*L_err/(2*L**2))**2)\n",
    "\n",
    "#modello criticamente smorzato\n",
    "def mod_csm(x, I0, gamma):\n",
    "    return I0 * x * np.exp(-gamma*x)\n",
    "#fit smorzamento critico\n",
    "\n",
    "par4, val4, ers4, *other4 = LS_fit(tempo4_s, tensione4_v, tensione4_err_v, mod_csm, \n",
    "                                          I0 = 76000, \n",
    "                                          gamma = gamma_calc_2,\n",
    "                                          disp = False)\n",
    "\n",
    "# for p, v, e in zip(par4, val4, ers4):\n",
    "#     print(f\"{p} = {v:.3g} ± {e:.3g}\")"
   ]
  },
  {
   "cell_type": "code",
   "execution_count": null,
   "metadata": {},
   "outputs": [],
   "source": [
    "#plot per relazione RLC criticamente\n",
    "\n",
    "x2 = np.linspace(min(tempo4_s), max(tempo4_s), 1000)\n",
    "y2 = mod_csm(x2, *val4)\n",
    "\n",
    "plt.errorbar(tempo4_s, tensione4_v, tensione4_err_v, label=\"Dati raccolti\", fmt=\".b\")\n",
    "plt.plot(x2, y2, label=\"RLC critico\", color=\"tomato\")\n",
    "plt.xlabel(\"Tempo [s]\")\n",
    "plt.ylabel(\"Tensione [V]\")\n",
    "plt.grid()\n",
    "plt.legend()\n",
    "plt.show()\n"
   ]
  },
  {
   "cell_type": "code",
   "execution_count": null,
   "metadata": {},
   "outputs": [],
   "source": [
    "print(\"Analisi dati RLC smorzamento critico\")\n",
    "print(\"--------------------\")\n",
    "print(f\"p-value = {other4[0]:.3g}\")\n",
    "print(f\"Degrees of freedom = {other4[1]:.3g}\")\n",
    "print(f\"chi2 = {other4[2]:.3g}\")\n",
    "print(f\"chi2_red = {other4[2]/other4[1]:.3g}\")\n",
    "print(\"--------------------\")\n",
    "\n",
    "print(f\"{par4[0]} = {val4[0]:.3g} ± {ers4[0]:.3g}\")\n",
    "print(\"--------------------\")\n",
    "\n",
    "print(f\"{par4[1]} misurato = {val4[1]:.3g} ± {ers4[1]:.3g}\")\n",
    "print(f\"valore teorico = {gamma_calc_2:.3g} ± {gamma_calc_2_err:.3g} \")\n",
    "t_ssm_gamma_2 = TestCompatibilita(val4[1], ers4[1], gamma_calc_2, gamma_calc_2_err)\n",
    "print(f\"Test compatibilità: {t_ssm_gamma_2:.3g}\")\n",
    "print(\"Confronto con tabella ~ ? %\")\n",
    "print(\"--------------------\")"
   ]
  },
  {
   "cell_type": "markdown",
   "metadata": {},
   "source": [
    "In questo caso, probabilmente abbiamo mancato il picco di smorzamento critico, per cui la forma funzionale usata e' leggermente diversa da quella corretta"
   ]
  },
  {
   "cell_type": "markdown",
   "metadata": {},
   "source": [
    "### Caso sovrasmorzato"
   ]
  },
  {
   "cell_type": "code",
   "execution_count": null,
   "metadata": {},
   "outputs": [],
   "source": [
    "#plot dati RLC sovrasmorzato \n",
    "#resistenza utilizzato R= 10.000 ohm \n",
    "\n",
    "Dati5 = pd.read_csv(\"Dati3.csv\")\n",
    "tempo5= Dati5[\"tempo3\"].dropna()\n",
    "tensione5= Dati5[\"tensione3\"].dropna()\n",
    "tensione5_err = [8 for i in tensione5]\n",
    "\n",
    "#trasporto le grandezze in SI\n",
    "tempo5_s = [i*1e-3 for i in tempo5]\n",
    "tensione5_v = [i*1e-3 for i in tensione5]\n",
    "tensione5_err_v = [.02 for i in tensione5_err]\n",
    "\n",
    "# plt.errorbar(tempo5_s,tensione5_v, tensione5_err_v, fmt = '.',label=\"Data points RLC\")\n",
    "# plt.title(\"Plot Circuito RLC sovrasmorzato\")\n",
    "# plt.xlabel(\"Tempo [s]\")\n",
    "# plt.ylabel(\"Tensione [V]\")\n",
    "# plt.legend()\n",
    "# plt.grid()\n",
    "# plt.show()"
   ]
  },
  {
   "cell_type": "code",
   "execution_count": null,
   "metadata": {},
   "outputs": [],
   "source": [
    "R_5 = 10000\n",
    "R_5_err = 100 \n",
    "gamma_calc_3 = R_5/(2*L_3)\n",
    "omega_calc_3 = np.sqrt(omega_0_calc**2 - gamma_calc_1**2 )\n",
    "\n",
    "#calcolo errori\n",
    "gamma_calc_3_err = np.sqrt((R_5_err/(2*L))**2 + (R_5*L_err/(2*L**2))**2)\n",
    "omega_calc_3_err = np.sqrt((C*L_err)**2/(4*(C*L)**3) + (L*C_err)**2/(4*(C*L)**3))\n",
    "\n",
    "\n",
    "# modello sovrasmorzato\n",
    "def mod_svsm(x, I0, gamma, omega):\n",
    "    return I0 * np.exp(-gamma*x) * (np.exp(omega*x) - np.exp(-omega*x))\n",
    "\n",
    "#fit sovrasmorzamento\n",
    "par5, val5, ers5, *other5 = LS_fit(tempo5_s, tensione5_v, tensione5_err_v, mod_svsm, \n",
    "                                          I0 = 1.15, \n",
    "                                          gamma = gamma_calc_3, \n",
    "                                          omega = omega_calc_3,\n",
    "                                          disp = False)\n",
    "\n",
    "# for p, v, e in zip(par5, val5, ers5):\n",
    "#     print(f\"{p} = {v:.3g} ± {e:.3g}\")"
   ]
  },
  {
   "cell_type": "code",
   "execution_count": null,
   "metadata": {},
   "outputs": [],
   "source": [
    "#plot per relazione RLC sovra\n",
    "\n",
    "x3 = np.linspace(min(tempo5_s),max(tempo5_s),1000)\n",
    "y3 = mod_svsm(x3, *val5)\n",
    "\n",
    "plt.errorbar(tempo5_s, tensione5_v, tensione5_err_v, label=\"Dati raccolti\", fmt=\".b\")\n",
    "plt.plot(x3, y3, label=\"RLC sovrasmorzato\", color=\"tomato\")\n",
    "plt.xlabel(\"Tempo [s]\")\n",
    "plt.ylabel(\"Tensione [V]\")\n",
    "plt.grid()\n",
    "plt.legend()\n",
    "plt.show()\n"
   ]
  },
  {
   "cell_type": "code",
   "execution_count": null,
   "metadata": {},
   "outputs": [],
   "source": [
    "print(\"Analisi dati RLC sovrasmorzato\")\n",
    "print(\"--------------------\")\n",
    "print(f\"p-value = {float(other5[0]):.3g}\")\n",
    "print(f\"Degrees of freedom = {other5[1]:.3g}\")\n",
    "print(f\"chi2 = {other5[2]:.3g}\")\n",
    "print(f\"chi2_red = {other5[2]/other5[1]:.3g}\")\n",
    "print(\"--------------------\")\n",
    "\n",
    "print(f\"{par5[0]} = {val5[0]:.3g} ± {ers3[0]:.3g}\")\n",
    "print(\"--------------------\")\n",
    "\n",
    "print(f\"{par5[1]} misurato = {val5[1]:.3g} ± {ers3[1]:.3g}\")\n",
    "print(f\"valore teorico = {gamma_calc_3:.3g} ± {gamma_calc_3_err:.3g} \")\n",
    "t_ssm_gamma_3 = TestCompatibilita(val5[1], ers3[1], gamma_calc_3, gamma_calc_3_err) # 100 va ricalcolato\n",
    "print(f\"Test compatibilità: {t_ssm_gamma_3:.3g}\")\n",
    "print(\"Confronto con tabella ~ ? %\")\n",
    "print(\"--------------------\")\n",
    "\n",
    "print(f\"{par5[2]} misurato = {val5[2]:.3g} ± {ers3[2]:.3g}\")\n",
    "print(f\"valore teorico = {omega_calc_3:.3g} ± {omega_calc_3_err:.3g}\")\n",
    "t_ssm_omega_3 = TestCompatibilita(val5[2], ers3[2], omega_calc_3, omega_calc_3_err)\n",
    "print(f\"Test compatibilità: {t_ssm_omega_3:.3g}\")\n",
    "print(\"Confronto con tabella ~ ? %\")\n",
    "print(\"--------------------\")"
   ]
  }
 ],
 "metadata": {
  "colab": {
   "authorship_tag": "ABX9TyNvHMmZMBsLenpa84Ceqe7z",
   "include_colab_link": true,
   "provenance": []
  },
  "kernelspec": {
   "display_name": "Python 3",
   "name": "python3"
  },
  "language_info": {
   "codemirror_mode": {
    "name": "ipython",
    "version": 3
   },
   "file_extension": ".py",
   "mimetype": "text/x-python",
   "name": "python",
   "nbconvert_exporter": "python",
   "pygments_lexer": "ipython3",
   "version": "3.11.1"
  }
 },
 "nbformat": 4,
 "nbformat_minor": 0
}
