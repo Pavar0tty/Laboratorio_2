{
  "cells": [
    {
      "cell_type": "code",
      "execution_count": 2,
      "metadata": {
        "id": "1Er2WMvtEzcp"
      },
      "outputs": [],
      "source": [
        "import os, sys\n",
        "import numpy as np\n",
        "import matplotlib.pyplot as plt\n",
        "import pandas as pd\n",
        "from scipy.stats import *\n",
        "from iminuit import Minuit\n",
        "from iminuit.cost import LeastSquares"
      ]
    },
    {
      "cell_type": "markdown",
      "metadata": {},
      "source": [
        "Capacita = 10 nF \\\n",
        "resistenza = 67.1 $k\\Omega$ \\\n",
        "frequenza = 400 Hz \\\n",
        "\n",
        "incertezza su oscilloscopio (precisione strumento) = 8 mV\n"
      ]
    },
    {
      "cell_type": "markdown",
      "metadata": {},
      "source": []
    }
  ],
  "metadata": {
    "colab": {
      "authorship_tag": "ABX9TyNvHMmZMBsLenpa84Ceqe7z",
      "include_colab_link": true,
      "provenance": []
    },
    "kernelspec": {
      "display_name": "Python 3",
      "name": "python3"
    },
    "language_info": {
      "codemirror_mode": {
        "name": "ipython",
        "version": 3
      },
      "file_extension": ".py",
      "mimetype": "text/x-python",
      "name": "python",
      "nbconvert_exporter": "python",
      "pygments_lexer": "ipython3",
      "version": "3.11.1"
    }
  },
  "nbformat": 4,
  "nbformat_minor": 0
}
