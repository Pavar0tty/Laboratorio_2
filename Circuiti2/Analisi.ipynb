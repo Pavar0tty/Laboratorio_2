{
 "cells": [
  {
   "cell_type": "code",
   "execution_count": null,
   "metadata": {
    "id": "1Er2WMvtEzcp"
   },
   "outputs": [],
   "source": [
    "import numpy as np\n",
    "import pandas as pd\n",
    "import matplotlib.pyplot as plt\n",
    "\n",
    "import sys\n",
    "sys.path.insert(1, '../Config')\n",
    "from lablib import LS_fit"
   ]
  },
  {
   "cell_type": "markdown",
   "metadata": {},
   "source": [
    "# Prima parte"
   ]
  },
  {
   "cell_type": "markdown",
   "metadata": {},
   "source": [
    "## Circuito RC\n",
    "\n",
    "Abbiamo effettuato le misurazioni con il cursore dell'oscilloscopio. \\\n",
    "**Resistenza interna oscilloscopio** = 50 $\\Omega$\n",
    "\n",
    "Intrvallo tensione (0.5,-0.5) V \\\n",
    "Capacità = 10 nF \\\n",
    "resistenza = 67.1 $k\\Omega$ \\\n",
    "frequenza = 200 Hz \\\n",
    "incertezza su oscilloscopio (precisione strumento) = 8 mV\n"
   ]
  },
  {
   "cell_type": "code",
   "execution_count": null,
   "metadata": {},
   "outputs": [],
   "source": [
    "# Primo plot dei dati\n",
    "dati1 = pd.read_csv(\"Dati1.csv\")\n",
    "\n",
    "tempi1 = dati1[\"tempo(carica)\"]\n",
    "tens1 = dati1[\"tensione(carica1)\"]\n",
    "\n",
    "# plt.errorbar(tempi1, tens1, [8 for i in tens1], fmt = '.')\n",
    "# plt.show()"
   ]
  },
  {
   "cell_type": "code",
   "execution_count": null,
   "metadata": {},
   "outputs": [],
   "source": [
    "# prova fit dei dati con libreria\n",
    "def mod_exp(x, A, T, C):\n",
    "    return A*np.exp(-x/T) + C\n",
    "\n",
    "tempi1_µs = [i*1e-3 for i in tempi1]\n",
    "tens1_mv = [i*1e-3 for i in tens1]\n",
    "tens1_err = [.008 for i in tens1]\n",
    "\n",
    "par1, val1, ers1, pval1, *other = LS_fit(tempi1_µs, tens1_mv, tens1_err, mod_exp, disp=1, A=1, T=1, C=0) # type: ignore\n",
    "\n",
    "for p, v, e in zip(par1, val1, ers1):\n",
    "    print(f\"{p} = {v:.3f} ± {e:.3f}\")"
   ]
  },
  {
   "cell_type": "code",
   "execution_count": null,
   "metadata": {},
   "outputs": [],
   "source": [
    "QC, tau_1, c_0 = val1\n",
    "R_1 = 67.1e3 # Ohm\n",
    "\n",
    "C = tau_1/R_1\n",
    "print(f\"Capacità calcolata = {C:.3g} F\")"
   ]
  },
  {
   "cell_type": "markdown",
   "metadata": {},
   "source": [
    "## Circuito RL"
   ]
  },
  {
   "cell_type": "markdown",
   "metadata": {},
   "source": [
    "induttanza ~ 10 mH \\\n",
    "resistenza = 1 $\\text{k}\\Omega$ \\\n",
    "frequenza = 700 Hz \\\n",
    "range di tensione = (-1,1) V \\\n",
    "precisione oscilloscopio = 20 mV"
   ]
  },
  {
   "cell_type": "code",
   "execution_count": null,
   "metadata": {},
   "outputs": [],
   "source": [
    "# plot dei dati\n",
    "\n",
    "dati2 = pd.read_csv(\"Dati2.csv\")\n",
    "tempi2 = dati2[\"tempo\"]\n",
    "tens2 = dati2[\"tensione(carica)\"]\n",
    "\n",
    "# plt.errorbar(tempi2, tens2, [20 for i in tens2])\n",
    "# plt.show()"
   ]
  },
  {
   "cell_type": "code",
   "execution_count": null,
   "metadata": {},
   "outputs": [],
   "source": [
    "# Fit circuito RL\n",
    "\n",
    "tempi2_ms = [i*1e-3 for i in tempi2]\n",
    "tens2_mv = [i*1e-3 for i in tens2]\n",
    "tens2_err = [.02 for i in tens2]\n",
    "\n",
    "par2, val2, ers2, pval2, *other2 = LS_fit(tempi2_ms, tens2_mv, tens2_err, mod_exp, A=1, T=1, C=1)\n",
    "\n",
    "for p, v, e in zip(par2, val2, ers2):\n",
    "    print(f\"{p} = {v:.3g} ± {e:.3g}\")"
   ]
  },
  {
   "cell_type": "code",
   "execution_count": null,
   "metadata": {},
   "outputs": [],
   "source": [
    "Va, tau_2, c_1 = val2\n",
    "R_2 = 1e3 # ohm\n",
    "\n",
    "L = R_2 * tau_2\n",
    "print(f\"Induttanza misurata = {L:.3g} H\")"
   ]
  },
  {
   "cell_type": "markdown",
   "metadata": {},
   "source": [
    " # Seconda parte"
   ]
  },
  {
   "cell_type": "markdown",
   "metadata": {},
   "source": [
    "## Circuito RLC\n",
    "\n",
    "Resistenza = 300 $\\Omega$ \\\n",
    "Induttanza e capacità uguali a prima \\\n",
    "Intervallo tensione (1,0)\n",
    "\n",
    "Abbiamo stimato le costanti del sistema prima di prendere i dati:\n",
    "* $\\omega_0$ = 100 kHz\n",
    "* $f_0 = \\frac{\\omega_0}{2\\pi}$ = 16kHz \n",
    "\n",
    "Ci siamo resi presto conto che questi risultati sono insensati \\\n",
    "Frequenza effettivamente usata = 300 Hz\n",
    "\n",
    "\n",
    "Per smorzamento critico abbiamo usato Resistenza = 3900 $\\Omega$ \\\n",
    "Per sovrasmorzamento abbiamo usato Resistenza = 10_000 $\\Omega$"
   ]
  },
  {
   "cell_type": "markdown",
   "metadata": {},
   "source": [
    "### Caso sottosmorzato"
   ]
  },
  {
   "cell_type": "code",
   "execution_count": null,
   "metadata": {},
   "outputs": [],
   "source": [
    "#plot dati RLC sottosmorzato\n",
    "\n",
    "dati3 = pd.read_csv(\"Dati3.csv\")\n",
    "tempi3=dati3[\"tempo\"]\n",
    "tensione3=dati3[\"tensione\"]\n",
    "\n",
    "tempi3_s = [i*1e-3 for i in tempi3]\n",
    "tensione3_v = [i*1e-3 for i in tensione3]\n",
    "\n",
    "tens3_err = [8 for i in tensione3]\n",
    "tens3_err_s = [.008 for i in tensione3]\n",
    "\n",
    "plt.errorbar(tempi3, tensione3_v, tens3_err_s, fmt = '.',label=\"Data points RLC\")\n",
    "plt.title(\"Plot Circuito RLC sottosmorzato\")\n",
    "plt.xlabel(\"Tempo [s]\")\n",
    "plt.ylabel(\"Tensione [V]\")\n",
    "plt.legend()\n",
    "plt.grid()\n",
    "plt.show()"
   ]
  },
  {
   "cell_type": "code",
   "execution_count": null,
   "metadata": {},
   "outputs": [],
   "source": [
    "# fit dei dati nel caso sottosmorzato\n",
    "\n",
    "R_3 = R_1\n",
    "C_3 = C\n",
    "L_3 = L\n",
    "\n",
    "omega_0_calc = 1/np.sqrt(L_3*C_3)\n",
    "gamma_calc_1 = R_3/(2*L_3)\n",
    "omega_calc_1 = np.sqrt(gamma_calc_1**2 - omega_0_calc**2)\n",
    "\n",
    "def mod_ssm(x, I0, gamma, omega):\n",
    "    return I0 * np.exp(-gamma*x)*np.sin(omega*x)\n",
    "\n",
    "par3, val3, ers3, pval3, *other3 = LS_fit(tempi3_s, tensione3_v, tens3_err_s, mod_ssm, \n",
    "                                          I0 = 0.113, \n",
    "                                          gamma = 3000., \n",
    "                                          omega = 45360.) #non so perche' proprio questi valori\n",
    "\n",
    "for p, v, e in zip(par3, val3, ers3):\n",
    "    print(f\"{p} = {v:.3g} ± {e:.3g}\")"
   ]
  },
  {
   "cell_type": "markdown",
   "metadata": {},
   "source": [
    "### Caso Smorzamento Critico "
   ]
  },
  {
   "cell_type": "code",
   "execution_count": null,
   "metadata": {},
   "outputs": [],
   "source": [
    "#plot dati RLC sottosmorzato\n",
    "#resistenza usata R = 3900 omh\n",
    "\n",
    "Dati3 = pd.read_csv(\"Dati3.csv\")\n",
    "tempo4 = Dati3[\"tempo2\"].dropna()\n",
    "tensione4 = Dati3[\"tensione2\"].dropna()\n",
    "tensione4_err = [8 for i in tensione4]\n",
    "\n",
    "#trasporto le grandezze in SI\n",
    "tempo4_s = [i*1e-3 for i in tempo4]\n",
    "tensione4_v = [i*1e-3 for i in tensione4]\n",
    "tensione4_err_v = [1e-3 for i in tensione4_err]\n",
    "\n",
    "plt.errorbar(tempo4_s,tensione4_v,tensione4_err_v, fmt = '.',label=\"Data points RLC\")\n",
    "plt.title(\"Plot Circuito RLC smorzamento critico\")\n",
    "plt.xlabel(\"Tempo [s]\")\n",
    "plt.ylabel(\"Tensione [V]\")\n",
    "plt.legend()\n",
    "plt.grid()\n",
    "plt.show()"
   ]
  },
  {
   "cell_type": "code",
   "execution_count": null,
   "metadata": {},
   "outputs": [],
   "source": [
    "#modello criticamente smorzato\n",
    "def mod_csm(x, I0, gamma):\n",
    "    return I0 * x * np.exp(-gamma*x)\n",
    "#fit smorzamento critico\n",
    "par4, val4, ers4, pval4, *other4 = LS_fit(tempo4_s, tensione4_v, tensione4_err_v, mod_csm, \n",
    "                                          I0 = 76000, \n",
    "                                          gamma = 39000)\n",
    "\n",
    "for p, v, e in zip(par4, val4, ers4):\n",
    "    print(f\"{p} = {v:.3g} ± {e:.3g}\")"
   ]
  },
  {
   "cell_type": "markdown",
   "metadata": {},
   "source": [
    "### Caso sovrasmorzato"
   ]
  },
  {
   "cell_type": "code",
   "execution_count": null,
   "metadata": {},
   "outputs": [],
   "source": [
    "#plot dati RLC sovrasmorzato \n",
    "#resistenza utilizzato R= 10.000 ohm \n",
    "\n",
    "Dati5 = pd.read_csv(\"Dati3.csv\")\n",
    "tempo5= Dati5[\"tempo3\"].dropna()\n",
    "tensione5= Dati5[\"tensione3\"].dropna()\n",
    "tensione5_err = [8 for i in tensione5]\n",
    "\n",
    "#trasporto le grandezze in SI\n",
    "tempo5_s = [i*1e-3 for i in tempo5]\n",
    "tensione5_v = [i*1e-3 for i in tensione5]\n",
    "tensione5_err_v = [1e-3 for i in tensione5_err]\n",
    "\n",
    "plt.errorbar(tempo5_s,tensione5_v, tensione5_err_v, fmt = '.',label=\"Data points RLC\")\n",
    "plt.title(\"Plot Circuito RLC sovrasmorzato\")\n",
    "plt.xlabel(\"Tempo [s]\")\n",
    "plt.ylabel(\"Tensione [V]\")\n",
    "plt.legend()\n",
    "plt.grid()\n",
    "plt.show()"
   ]
  },
  {
   "cell_type": "code",
   "execution_count": null,
   "metadata": {},
   "outputs": [],
   "source": [
    "# modello sovrasmorzato\n",
    "def mod_svsm(x, I0, gamma, omega):\n",
    "    return I0 * np.exp(-gamma*x) * (np.exp(omega*x) - np.exp(-omega*x))\n",
    "\n",
    "#fit sovrasmorzamento\n",
    "par5, val5, ers5, pval5, *other5 = LS_fit(tempo5_s, tensione5_v, tensione5_err_v, mod_svsm, \n",
    "                                          I0 = 1.15, \n",
    "                                          gamma = 100000, \n",
    "                                          omega = 45360) #non so perche' proprio questi valori\n",
    "\n",
    "for p, v, e in zip(par5, val5, ers5):\n",
    "    print(f\"{p} = {v:.3g} ± {e:.3g}\")"
   ]
  }
 ],
 "metadata": {
  "colab": {
   "authorship_tag": "ABX9TyNvHMmZMBsLenpa84Ceqe7z",
   "include_colab_link": true,
   "provenance": []
  },
  "kernelspec": {
   "display_name": "Python 3",
   "name": "python3"
  },
  "language_info": {
   "codemirror_mode": {
    "name": "ipython",
    "version": 3
   },
   "file_extension": ".py",
   "mimetype": "text/x-python",
   "name": "python",
   "nbconvert_exporter": "python",
   "pygments_lexer": "ipython3",
   "version": "3.11.1"
  }
 },
 "nbformat": 4,
 "nbformat_minor": 0
}
